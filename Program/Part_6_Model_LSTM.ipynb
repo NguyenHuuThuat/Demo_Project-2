{
  "nbformat": 4,
  "nbformat_minor": 0,
  "metadata": {
    "colab": {
      "name": "Part-6_Model_LSTM.ipynb",
      "provenance": [],
      "collapsed_sections": []
    },
    "kernelspec": {
      "name": "python3",
      "display_name": "Python 3"
    },
    "language_info": {
      "name": "python"
    }
  },
  "cells": [
    {
      "cell_type": "code",
      "execution_count": 1,
      "metadata": {
        "id": "ZHZyHFq3L7VW"
      },
      "outputs": [],
      "source": [
        "import pandas as pd\n",
        "import numpy as np\n",
        "from pylab import rcParams\n",
        "\n",
        "rcParams['figure.figsize'] = 16,9"
      ]
    },
    {
      "cell_type": "code",
      "source": [
        "df = pd.read_csv('/content/drive/MyDrive/Colab Notebooks/Credit_Scoring/Test/Tổng hợp quan trong/Dữ liệu/Dữ liệu sau xử lý/data_filled.csv')"
      ],
      "metadata": {
        "id": "Alvq_xeRMBsb"
      },
      "execution_count": 2,
      "outputs": []
    },
    {
      "cell_type": "code",
      "source": [
        "df.head()"
      ],
      "metadata": {
        "colab": {
          "base_uri": "https://localhost:8080/",
          "height": 288
        },
        "id": "pMWg3XgvT_H3",
        "outputId": "3dd9c44c-f439-4f64-8a98-9283c6cb97bb"
      },
      "execution_count": 3,
      "outputs": [
        {
          "output_type": "execute_result",
          "data": {
            "text/html": [
              "\n",
              "  <div id=\"df-fa9007f5-ed39-4a8c-aa25-575f34a0eef8\">\n",
              "    <div class=\"colab-df-container\">\n",
              "      <div>\n",
              "<style scoped>\n",
              "    .dataframe tbody tr th:only-of-type {\n",
              "        vertical-align: middle;\n",
              "    }\n",
              "\n",
              "    .dataframe tbody tr th {\n",
              "        vertical-align: top;\n",
              "    }\n",
              "\n",
              "    .dataframe thead th {\n",
              "        text-align: right;\n",
              "    }\n",
              "</style>\n",
              "<table border=\"1\" class=\"dataframe\">\n",
              "  <thead>\n",
              "    <tr style=\"text-align: right;\">\n",
              "      <th></th>\n",
              "      <th>Unnamed: 0</th>\n",
              "      <th>LoanBriefID</th>\n",
              "      <th>LoanAmount</th>\n",
              "      <th>LoanTime</th>\n",
              "      <th>IsReMarketing</th>\n",
              "      <th>ProvinceId</th>\n",
              "      <th>Gender</th>\n",
              "      <th>Age</th>\n",
              "      <th>JobId</th>\n",
              "      <th>ImcomeType</th>\n",
              "      <th>IsMerried</th>\n",
              "      <th>NumberBaby</th>\n",
              "      <th>RelationshipType</th>\n",
              "      <th>LivingWith</th>\n",
              "      <th>RateTypeId</th>\n",
              "      <th>ProductId</th>\n",
              "      <th>ResidentType</th>\n",
              "      <th>LoanAmountExpertiseAI</th>\n",
              "      <th>NumberCall</th>\n",
              "      <th>score</th>\n",
              "      <th>label_result</th>\n",
              "    </tr>\n",
              "  </thead>\n",
              "  <tbody>\n",
              "    <tr>\n",
              "      <th>0</th>\n",
              "      <td>0</td>\n",
              "      <td>1095199</td>\n",
              "      <td>30000000</td>\n",
              "      <td>12</td>\n",
              "      <td>0</td>\n",
              "      <td>1</td>\n",
              "      <td>0.0</td>\n",
              "      <td>31</td>\n",
              "      <td>123.0</td>\n",
              "      <td>1.0</td>\n",
              "      <td>1.0</td>\n",
              "      <td>1.0</td>\n",
              "      <td>1.0</td>\n",
              "      <td>1.0</td>\n",
              "      <td>10</td>\n",
              "      <td>5</td>\n",
              "      <td>6</td>\n",
              "      <td>48800000.0</td>\n",
              "      <td>0.0</td>\n",
              "      <td>1.0</td>\n",
              "      <td>True</td>\n",
              "    </tr>\n",
              "    <tr>\n",
              "      <th>1</th>\n",
              "      <td>1</td>\n",
              "      <td>950035</td>\n",
              "      <td>12000000</td>\n",
              "      <td>6</td>\n",
              "      <td>1</td>\n",
              "      <td>1</td>\n",
              "      <td>0.0</td>\n",
              "      <td>30</td>\n",
              "      <td>123.0</td>\n",
              "      <td>5.0</td>\n",
              "      <td>1.0</td>\n",
              "      <td>2.0</td>\n",
              "      <td>1.0</td>\n",
              "      <td>3.0</td>\n",
              "      <td>10</td>\n",
              "      <td>2</td>\n",
              "      <td>4</td>\n",
              "      <td>13600000.0</td>\n",
              "      <td>1.0</td>\n",
              "      <td>0.6</td>\n",
              "      <td>False</td>\n",
              "    </tr>\n",
              "    <tr>\n",
              "      <th>2</th>\n",
              "      <td>2</td>\n",
              "      <td>975972</td>\n",
              "      <td>10000000</td>\n",
              "      <td>9</td>\n",
              "      <td>1</td>\n",
              "      <td>1</td>\n",
              "      <td>0.0</td>\n",
              "      <td>29</td>\n",
              "      <td>123.0</td>\n",
              "      <td>1.0</td>\n",
              "      <td>1.0</td>\n",
              "      <td>1.0</td>\n",
              "      <td>1.0</td>\n",
              "      <td>2.0</td>\n",
              "      <td>10</td>\n",
              "      <td>5</td>\n",
              "      <td>4</td>\n",
              "      <td>24000000.0</td>\n",
              "      <td>1.0</td>\n",
              "      <td>0.9</td>\n",
              "      <td>True</td>\n",
              "    </tr>\n",
              "    <tr>\n",
              "      <th>3</th>\n",
              "      <td>3</td>\n",
              "      <td>943144</td>\n",
              "      <td>5000000</td>\n",
              "      <td>9</td>\n",
              "      <td>1</td>\n",
              "      <td>79</td>\n",
              "      <td>0.0</td>\n",
              "      <td>25</td>\n",
              "      <td>123.0</td>\n",
              "      <td>5.0</td>\n",
              "      <td>0.0</td>\n",
              "      <td>0.0</td>\n",
              "      <td>2.0</td>\n",
              "      <td>1.0</td>\n",
              "      <td>10</td>\n",
              "      <td>2</td>\n",
              "      <td>4</td>\n",
              "      <td>0.0</td>\n",
              "      <td>8.0</td>\n",
              "      <td>0.9</td>\n",
              "      <td>True</td>\n",
              "    </tr>\n",
              "    <tr>\n",
              "      <th>4</th>\n",
              "      <td>4</td>\n",
              "      <td>1015972</td>\n",
              "      <td>16000000</td>\n",
              "      <td>9</td>\n",
              "      <td>0</td>\n",
              "      <td>1</td>\n",
              "      <td>0.0</td>\n",
              "      <td>28</td>\n",
              "      <td>123.0</td>\n",
              "      <td>1.0</td>\n",
              "      <td>0.0</td>\n",
              "      <td>1.0</td>\n",
              "      <td>15.0</td>\n",
              "      <td>0.0</td>\n",
              "      <td>10</td>\n",
              "      <td>2</td>\n",
              "      <td>7</td>\n",
              "      <td>24100000.0</td>\n",
              "      <td>0.0</td>\n",
              "      <td>0.4</td>\n",
              "      <td>False</td>\n",
              "    </tr>\n",
              "  </tbody>\n",
              "</table>\n",
              "</div>\n",
              "      <button class=\"colab-df-convert\" onclick=\"convertToInteractive('df-fa9007f5-ed39-4a8c-aa25-575f34a0eef8')\"\n",
              "              title=\"Convert this dataframe to an interactive table.\"\n",
              "              style=\"display:none;\">\n",
              "        \n",
              "  <svg xmlns=\"http://www.w3.org/2000/svg\" height=\"24px\"viewBox=\"0 0 24 24\"\n",
              "       width=\"24px\">\n",
              "    <path d=\"M0 0h24v24H0V0z\" fill=\"none\"/>\n",
              "    <path d=\"M18.56 5.44l.94 2.06.94-2.06 2.06-.94-2.06-.94-.94-2.06-.94 2.06-2.06.94zm-11 1L8.5 8.5l.94-2.06 2.06-.94-2.06-.94L8.5 2.5l-.94 2.06-2.06.94zm10 10l.94 2.06.94-2.06 2.06-.94-2.06-.94-.94-2.06-.94 2.06-2.06.94z\"/><path d=\"M17.41 7.96l-1.37-1.37c-.4-.4-.92-.59-1.43-.59-.52 0-1.04.2-1.43.59L10.3 9.45l-7.72 7.72c-.78.78-.78 2.05 0 2.83L4 21.41c.39.39.9.59 1.41.59.51 0 1.02-.2 1.41-.59l7.78-7.78 2.81-2.81c.8-.78.8-2.07 0-2.86zM5.41 20L4 18.59l7.72-7.72 1.47 1.35L5.41 20z\"/>\n",
              "  </svg>\n",
              "      </button>\n",
              "      \n",
              "  <style>\n",
              "    .colab-df-container {\n",
              "      display:flex;\n",
              "      flex-wrap:wrap;\n",
              "      gap: 12px;\n",
              "    }\n",
              "\n",
              "    .colab-df-convert {\n",
              "      background-color: #E8F0FE;\n",
              "      border: none;\n",
              "      border-radius: 50%;\n",
              "      cursor: pointer;\n",
              "      display: none;\n",
              "      fill: #1967D2;\n",
              "      height: 32px;\n",
              "      padding: 0 0 0 0;\n",
              "      width: 32px;\n",
              "    }\n",
              "\n",
              "    .colab-df-convert:hover {\n",
              "      background-color: #E2EBFA;\n",
              "      box-shadow: 0px 1px 2px rgba(60, 64, 67, 0.3), 0px 1px 3px 1px rgba(60, 64, 67, 0.15);\n",
              "      fill: #174EA6;\n",
              "    }\n",
              "\n",
              "    [theme=dark] .colab-df-convert {\n",
              "      background-color: #3B4455;\n",
              "      fill: #D2E3FC;\n",
              "    }\n",
              "\n",
              "    [theme=dark] .colab-df-convert:hover {\n",
              "      background-color: #434B5C;\n",
              "      box-shadow: 0px 1px 3px 1px rgba(0, 0, 0, 0.15);\n",
              "      filter: drop-shadow(0px 1px 2px rgba(0, 0, 0, 0.3));\n",
              "      fill: #FFFFFF;\n",
              "    }\n",
              "  </style>\n",
              "\n",
              "      <script>\n",
              "        const buttonEl =\n",
              "          document.querySelector('#df-fa9007f5-ed39-4a8c-aa25-575f34a0eef8 button.colab-df-convert');\n",
              "        buttonEl.style.display =\n",
              "          google.colab.kernel.accessAllowed ? 'block' : 'none';\n",
              "\n",
              "        async function convertToInteractive(key) {\n",
              "          const element = document.querySelector('#df-fa9007f5-ed39-4a8c-aa25-575f34a0eef8');\n",
              "          const dataTable =\n",
              "            await google.colab.kernel.invokeFunction('convertToInteractive',\n",
              "                                                     [key], {});\n",
              "          if (!dataTable) return;\n",
              "\n",
              "          const docLinkHtml = 'Like what you see? Visit the ' +\n",
              "            '<a target=\"_blank\" href=https://colab.research.google.com/notebooks/data_table.ipynb>data table notebook</a>'\n",
              "            + ' to learn more about interactive tables.';\n",
              "          element.innerHTML = '';\n",
              "          dataTable['output_type'] = 'display_data';\n",
              "          await google.colab.output.renderOutput(dataTable, element);\n",
              "          const docLink = document.createElement('div');\n",
              "          docLink.innerHTML = docLinkHtml;\n",
              "          element.appendChild(docLink);\n",
              "        }\n",
              "      </script>\n",
              "    </div>\n",
              "  </div>\n",
              "  "
            ],
            "text/plain": [
              "   Unnamed: 0  LoanBriefID  LoanAmount  ...  NumberCall  score  label_result\n",
              "0           0      1095199    30000000  ...         0.0    1.0          True\n",
              "1           1       950035    12000000  ...         1.0    0.6         False\n",
              "2           2       975972    10000000  ...         1.0    0.9          True\n",
              "3           3       943144     5000000  ...         8.0    0.9          True\n",
              "4           4      1015972    16000000  ...         0.0    0.4         False\n",
              "\n",
              "[5 rows x 21 columns]"
            ]
          },
          "metadata": {},
          "execution_count": 3
        }
      ]
    },
    {
      "cell_type": "code",
      "source": [
        "df.columns"
      ],
      "metadata": {
        "colab": {
          "base_uri": "https://localhost:8080/"
        },
        "id": "H0X4fbjYWNt2",
        "outputId": "7ec0e814-437d-48ff-fd76-913eef871f33"
      },
      "execution_count": 4,
      "outputs": [
        {
          "output_type": "execute_result",
          "data": {
            "text/plain": [
              "Index(['Unnamed: 0', 'LoanBriefID', 'LoanAmount', 'LoanTime', 'IsReMarketing',\n",
              "       'ProvinceId', 'Gender', 'Age', 'JobId', 'ImcomeType', 'IsMerried',\n",
              "       'NumberBaby', 'RelationshipType', 'LivingWith', 'RateTypeId',\n",
              "       'ProductId', 'ResidentType', 'LoanAmountExpertiseAI', 'NumberCall',\n",
              "       'score', 'label_result'],\n",
              "      dtype='object')"
            ]
          },
          "metadata": {},
          "execution_count": 4
        }
      ]
    },
    {
      "cell_type": "code",
      "source": [
        "features = ['LoanBriefID', 'LoanAmount', 'LoanTime', 'IsReMarketing',\n",
        "       'ProvinceId', 'Gender', 'Age', 'JobId', 'ImcomeType', 'IsMerried',\n",
        "       'NumberBaby', 'RelationshipType', 'LivingWith', 'RateTypeId',\n",
        "       'ProductId', 'ResidentType', 'LoanAmountExpertiseAI', 'NumberCall']"
      ],
      "metadata": {
        "id": "fN6QiLAfWSE9"
      },
      "execution_count": 5,
      "outputs": []
    },
    {
      "cell_type": "code",
      "source": [
        "X = df[features]\n",
        "y = df[\"label_result\"]"
      ],
      "metadata": {
        "id": "Rf4I14e5UAjc"
      },
      "execution_count": 6,
      "outputs": []
    },
    {
      "cell_type": "code",
      "source": [
        "from sklearn.model_selection import train_test_split\n",
        "X_train, X_test, y_train, y_test = train_test_split(X,y, test_size = 0.3, random_state = 42)"
      ],
      "metadata": {
        "id": "mH2UzNRqU_d9"
      },
      "execution_count": 7,
      "outputs": []
    },
    {
      "cell_type": "code",
      "source": [
        "from sklearn.preprocessing import StandardScaler\n",
        "scaler = StandardScaler()\n",
        "X_train = scaler.fit_transform(X_train)\n",
        "X_test = scaler.fit_transform(X_test)\n"
      ],
      "metadata": {
        "id": "UCn4Mb0_W22W"
      },
      "execution_count": 8,
      "outputs": []
    },
    {
      "cell_type": "code",
      "source": [
        "# Import the necessary libraries for ANN model\n",
        "from tensorflow.keras.models import Sequential\n",
        "from tensorflow.keras.layers import Dense\n",
        "from keras.callbacks import EarlyStopping\n",
        "from keras.models import Sequential\n",
        "from keras.layers import LSTM\n",
        "from keras.layers import Dense\n",
        "from keras.layers import TimeDistributed\n",
        "from keras.layers import RepeatVector\n",
        "from keras.layers import Dropout"
      ],
      "metadata": {
        "id": "FIpRFnLacNQW"
      },
      "execution_count": 9,
      "outputs": []
    },
    {
      "cell_type": "code",
      "source": [
        "regressor = Sequential()\n",
        "regressor.add(LSTM(units = 50, return_sequences = True, input_shape = (X_train.shape[1], 1)))\n",
        "regressor.add(Dropout(0.2))\n",
        "\n",
        "regressor.add(LSTM(units = 50, return_sequences = True))\n",
        "regressor.add(Dropout(0.2))\n",
        "\n",
        "regressor.add(LSTM(units = 50, return_sequences = True))\n",
        "regressor.add(Dropout(0.2))\n",
        "\n",
        "regressor.add(LSTM(units = 50))\n",
        "regressor.add(Dropout(0.2))\n",
        "regressor.add(Dense(units = 1))\n",
        "regressor.compile(optimizer = 'adam', loss = 'mean_squared_error')"
      ],
      "metadata": {
        "id": "ZB1JXLb6c4cN"
      },
      "execution_count": 10,
      "outputs": []
    },
    {
      "cell_type": "code",
      "source": [
        "regressor.fit(X_train, y_train, epochs = 100, batch_size = 32)"
      ],
      "metadata": {
        "id": "VDd5vezAe-As",
        "colab": {
          "base_uri": "https://localhost:8080/"
        },
        "outputId": "04ebca1b-c09f-46ae-a87f-334816e42095"
      },
      "execution_count": 11,
      "outputs": [
        {
          "output_type": "stream",
          "name": "stdout",
          "text": [
            "Epoch 1/100\n",
            "224/224 [==============================] - 16s 38ms/step - loss: 0.1788\n",
            "Epoch 2/100\n",
            "224/224 [==============================] - 8s 38ms/step - loss: 0.1524\n",
            "Epoch 3/100\n",
            "224/224 [==============================] - 8s 38ms/step - loss: 0.1501\n",
            "Epoch 4/100\n",
            "224/224 [==============================] - 8s 38ms/step - loss: 0.1500\n",
            "Epoch 5/100\n",
            "224/224 [==============================] - 8s 38ms/step - loss: 0.1465\n",
            "Epoch 6/100\n",
            "224/224 [==============================] - 9s 38ms/step - loss: 0.1466\n",
            "Epoch 7/100\n",
            "224/224 [==============================] - 9s 38ms/step - loss: 0.1465\n",
            "Epoch 8/100\n",
            "224/224 [==============================] - 8s 38ms/step - loss: 0.1436\n",
            "Epoch 9/100\n",
            "224/224 [==============================] - 9s 38ms/step - loss: 0.1429\n",
            "Epoch 10/100\n",
            "224/224 [==============================] - 9s 38ms/step - loss: 0.1422\n",
            "Epoch 11/100\n",
            "224/224 [==============================] - 8s 38ms/step - loss: 0.1414\n",
            "Epoch 12/100\n",
            "224/224 [==============================] - 9s 38ms/step - loss: 0.1403\n",
            "Epoch 13/100\n",
            "224/224 [==============================] - 8s 38ms/step - loss: 0.1400\n",
            "Epoch 14/100\n",
            "224/224 [==============================] - 8s 38ms/step - loss: 0.1389\n",
            "Epoch 15/100\n",
            "224/224 [==============================] - 9s 38ms/step - loss: 0.1395\n",
            "Epoch 16/100\n",
            "224/224 [==============================] - 9s 38ms/step - loss: 0.1383\n",
            "Epoch 17/100\n",
            "224/224 [==============================] - 9s 38ms/step - loss: 0.1371\n",
            "Epoch 18/100\n",
            "224/224 [==============================] - 8s 38ms/step - loss: 0.1366\n",
            "Epoch 19/100\n",
            "224/224 [==============================] - 8s 38ms/step - loss: 0.1370\n",
            "Epoch 20/100\n",
            "224/224 [==============================] - 8s 38ms/step - loss: 0.1368\n",
            "Epoch 21/100\n",
            "224/224 [==============================] - 8s 38ms/step - loss: 0.1352\n",
            "Epoch 22/100\n",
            "224/224 [==============================] - 8s 38ms/step - loss: 0.1355\n",
            "Epoch 23/100\n",
            "224/224 [==============================] - 8s 38ms/step - loss: 0.1358\n",
            "Epoch 24/100\n",
            "224/224 [==============================] - 8s 38ms/step - loss: 0.1349\n",
            "Epoch 25/100\n",
            "224/224 [==============================] - 9s 38ms/step - loss: 0.1345\n",
            "Epoch 26/100\n",
            "224/224 [==============================] - 8s 38ms/step - loss: 0.1345\n",
            "Epoch 27/100\n",
            "224/224 [==============================] - 9s 38ms/step - loss: 0.1347\n",
            "Epoch 28/100\n",
            "224/224 [==============================] - 8s 38ms/step - loss: 0.1334\n",
            "Epoch 29/100\n",
            "224/224 [==============================] - 8s 38ms/step - loss: 0.1334\n",
            "Epoch 30/100\n",
            "224/224 [==============================] - 8s 38ms/step - loss: 0.1328\n",
            "Epoch 31/100\n",
            "224/224 [==============================] - 9s 38ms/step - loss: 0.1330\n",
            "Epoch 32/100\n",
            "224/224 [==============================] - 9s 38ms/step - loss: 0.1316\n",
            "Epoch 33/100\n",
            "224/224 [==============================] - 9s 38ms/step - loss: 0.1325\n",
            "Epoch 34/100\n",
            "224/224 [==============================] - 9s 38ms/step - loss: 0.1320\n",
            "Epoch 35/100\n",
            "224/224 [==============================] - 9s 38ms/step - loss: 0.1319\n",
            "Epoch 36/100\n",
            "224/224 [==============================] - 9s 39ms/step - loss: 0.1318\n",
            "Epoch 37/100\n",
            "224/224 [==============================] - 9s 39ms/step - loss: 0.1314\n",
            "Epoch 38/100\n",
            "224/224 [==============================] - 9s 39ms/step - loss: 0.1308\n",
            "Epoch 39/100\n",
            "224/224 [==============================] - 9s 38ms/step - loss: 0.1299\n",
            "Epoch 40/100\n",
            "224/224 [==============================] - 9s 38ms/step - loss: 0.1292\n",
            "Epoch 41/100\n",
            "224/224 [==============================] - 9s 38ms/step - loss: 0.1292\n",
            "Epoch 42/100\n",
            "224/224 [==============================] - 9s 38ms/step - loss: 0.1284\n",
            "Epoch 43/100\n",
            "224/224 [==============================] - 9s 38ms/step - loss: 0.1287\n",
            "Epoch 44/100\n",
            "224/224 [==============================] - 9s 39ms/step - loss: 0.1274\n",
            "Epoch 45/100\n",
            "224/224 [==============================] - 9s 38ms/step - loss: 0.1268\n",
            "Epoch 46/100\n",
            "224/224 [==============================] - 9s 38ms/step - loss: 0.1261\n",
            "Epoch 47/100\n",
            "224/224 [==============================] - 9s 38ms/step - loss: 0.1255\n",
            "Epoch 48/100\n",
            "224/224 [==============================] - 9s 38ms/step - loss: 0.1251\n",
            "Epoch 49/100\n",
            "224/224 [==============================] - 9s 38ms/step - loss: 0.1251\n",
            "Epoch 50/100\n",
            "224/224 [==============================] - 9s 38ms/step - loss: 0.1251\n",
            "Epoch 51/100\n",
            "224/224 [==============================] - 9s 39ms/step - loss: 0.1242\n",
            "Epoch 52/100\n",
            "224/224 [==============================] - 9s 38ms/step - loss: 0.1245\n",
            "Epoch 53/100\n",
            "224/224 [==============================] - 9s 39ms/step - loss: 0.1237\n",
            "Epoch 54/100\n",
            "224/224 [==============================] - 9s 39ms/step - loss: 0.1231\n",
            "Epoch 55/100\n",
            "224/224 [==============================] - 9s 38ms/step - loss: 0.1229\n",
            "Epoch 56/100\n",
            "224/224 [==============================] - 9s 38ms/step - loss: 0.1221\n",
            "Epoch 57/100\n",
            "224/224 [==============================] - 8s 38ms/step - loss: 0.1218\n",
            "Epoch 58/100\n",
            "224/224 [==============================] - 9s 38ms/step - loss: 0.1212\n",
            "Epoch 59/100\n",
            "224/224 [==============================] - 8s 38ms/step - loss: 0.1203\n",
            "Epoch 60/100\n",
            "224/224 [==============================] - 8s 38ms/step - loss: 0.1206\n",
            "Epoch 61/100\n",
            "224/224 [==============================] - 8s 38ms/step - loss: 0.1198\n",
            "Epoch 62/100\n",
            "224/224 [==============================] - 8s 38ms/step - loss: 0.1198\n",
            "Epoch 63/100\n",
            "224/224 [==============================] - 9s 38ms/step - loss: 0.1180\n",
            "Epoch 64/100\n",
            "224/224 [==============================] - 9s 38ms/step - loss: 0.1187\n",
            "Epoch 65/100\n",
            "224/224 [==============================] - 9s 38ms/step - loss: 0.1180\n",
            "Epoch 66/100\n",
            "224/224 [==============================] - 8s 38ms/step - loss: 0.1179\n",
            "Epoch 67/100\n",
            "224/224 [==============================] - 9s 38ms/step - loss: 0.1178\n",
            "Epoch 68/100\n",
            "224/224 [==============================] - 8s 38ms/step - loss: 0.1167\n",
            "Epoch 69/100\n",
            "224/224 [==============================] - 9s 38ms/step - loss: 0.1174\n",
            "Epoch 70/100\n",
            "224/224 [==============================] - 8s 38ms/step - loss: 0.1162\n",
            "Epoch 71/100\n",
            "224/224 [==============================] - 9s 38ms/step - loss: 0.1161\n",
            "Epoch 72/100\n",
            "224/224 [==============================] - 8s 38ms/step - loss: 0.1155\n",
            "Epoch 73/100\n",
            "224/224 [==============================] - 9s 38ms/step - loss: 0.1148\n",
            "Epoch 74/100\n",
            "224/224 [==============================] - 9s 38ms/step - loss: 0.1142\n",
            "Epoch 75/100\n",
            "224/224 [==============================] - 8s 38ms/step - loss: 0.1149\n",
            "Epoch 76/100\n",
            "224/224 [==============================] - 9s 38ms/step - loss: 0.1138\n",
            "Epoch 77/100\n",
            "224/224 [==============================] - 9s 38ms/step - loss: 0.1139\n",
            "Epoch 78/100\n",
            "224/224 [==============================] - 8s 38ms/step - loss: 0.1135\n",
            "Epoch 79/100\n",
            "224/224 [==============================] - 9s 38ms/step - loss: 0.1135\n",
            "Epoch 80/100\n",
            "224/224 [==============================] - 9s 38ms/step - loss: 0.1118\n",
            "Epoch 81/100\n",
            "224/224 [==============================] - 8s 38ms/step - loss: 0.1109\n",
            "Epoch 82/100\n",
            "224/224 [==============================] - 8s 38ms/step - loss: 0.1118\n",
            "Epoch 83/100\n",
            "224/224 [==============================] - 8s 38ms/step - loss: 0.1111\n",
            "Epoch 84/100\n",
            "224/224 [==============================] - 8s 38ms/step - loss: 0.1096\n",
            "Epoch 85/100\n",
            "224/224 [==============================] - 8s 38ms/step - loss: 0.1093\n",
            "Epoch 86/100\n",
            "224/224 [==============================] - 9s 38ms/step - loss: 0.1094\n",
            "Epoch 87/100\n",
            "224/224 [==============================] - 9s 38ms/step - loss: 0.1076\n",
            "Epoch 88/100\n",
            "224/224 [==============================] - 8s 38ms/step - loss: 0.1086\n",
            "Epoch 89/100\n",
            "224/224 [==============================] - 9s 38ms/step - loss: 0.1086\n",
            "Epoch 90/100\n",
            "224/224 [==============================] - 9s 38ms/step - loss: 0.1066\n",
            "Epoch 91/100\n",
            "224/224 [==============================] - 8s 38ms/step - loss: 0.1062\n",
            "Epoch 92/100\n",
            "224/224 [==============================] - 8s 38ms/step - loss: 0.1069\n",
            "Epoch 93/100\n",
            "224/224 [==============================] - 9s 38ms/step - loss: 0.1071\n",
            "Epoch 94/100\n",
            "224/224 [==============================] - 8s 38ms/step - loss: 0.1055\n",
            "Epoch 95/100\n",
            "224/224 [==============================] - 8s 38ms/step - loss: 0.1037\n",
            "Epoch 96/100\n",
            "224/224 [==============================] - 8s 38ms/step - loss: 0.1039\n",
            "Epoch 97/100\n",
            "224/224 [==============================] - 9s 38ms/step - loss: 0.1031\n",
            "Epoch 98/100\n",
            "224/224 [==============================] - 9s 38ms/step - loss: 0.1019\n",
            "Epoch 99/100\n",
            "224/224 [==============================] - 8s 38ms/step - loss: 0.1028\n",
            "Epoch 100/100\n",
            "224/224 [==============================] - 8s 38ms/step - loss: 0.1024\n"
          ]
        },
        {
          "output_type": "execute_result",
          "data": {
            "text/plain": [
              "<keras.callbacks.History at 0x7fe1917e4f90>"
            ]
          },
          "metadata": {},
          "execution_count": 11
        }
      ]
    },
    {
      "cell_type": "code",
      "source": [
        "# Predict the X_test results\n",
        "y_pred = regressor.predict(X_test)"
      ],
      "metadata": {
        "id": "FiguR0FPfA5-"
      },
      "execution_count": 32,
      "outputs": []
    },
    {
      "cell_type": "code",
      "source": [
        "y_pred"
      ],
      "metadata": {
        "id": "3HSh8osRpAZR",
        "colab": {
          "base_uri": "https://localhost:8080/"
        },
        "outputId": "4ab35046-9187-4fc4-87e0-07488baf2aff"
      },
      "execution_count": 33,
      "outputs": [
        {
          "output_type": "execute_result",
          "data": {
            "text/plain": [
              "array([[0.86386967],\n",
              "       [0.79623526],\n",
              "       [0.8846531 ],\n",
              "       ...,\n",
              "       [0.9303791 ],\n",
              "       [0.91410094],\n",
              "       [0.91859144]], dtype=float32)"
            ]
          },
          "metadata": {},
          "execution_count": 33
        }
      ]
    },
    {
      "cell_type": "code",
      "source": [
        "y_pred_label = []\n",
        "for i in range(0, len(y_pred)):\n",
        "  if y_pred[i] >= 0.5:\n",
        "    y_pred_label.append(True)\n",
        "  else:\n",
        "    y_pred_label.append(False)"
      ],
      "metadata": {
        "id": "K_CfsNxewUkD"
      },
      "execution_count": 34,
      "outputs": []
    },
    {
      "cell_type": "code",
      "source": [
        "y_pred_label"
      ],
      "metadata": {
        "id": "FcLCZEU-wqDM"
      },
      "execution_count": null,
      "outputs": []
    },
    {
      "cell_type": "markdown",
      "source": [
        "Đánh giá mô hình sử dụng ---- sklearn ---- \n",
        "\n",
        "\n",
        "Vấn đề: Output của mô hình ANN ở trên sử dụng Tensorflow có kiểu dữ liệu ở đầu ra khác với kiểu dữ liệu đầu vào yêu cầu của sklearn "
      ],
      "metadata": {
        "id": "mE7Fd2p8HMgP"
      }
    },
    {
      "cell_type": "code",
      "source": [
        "# Hàm tính độ chính xác, ma trận nhầm lẫn, Recall, precision, f1 score và vẽ đồ thị ROC\n",
        "from sklearn import metrics\n",
        "from sklearn.model_selection import cross_val_score\n",
        "from sklearn.metrics import confusion_matrix\n",
        "from sklearn.metrics import recall_score\n",
        "from sklearn.metrics import precision_score\n",
        "from sklearn.metrics import f1_score\n",
        "\n",
        "def evaluate_model(X_test, y_test, y_prediction):\n",
        "  print(\"Các chỉ số đánh giá mức độ hiệu quả của mô hình: \")\n",
        "  #Accuracy\n",
        "  print(\"1. Accuracy:\",metrics.accuracy_score(y_pred_label,y_test))\n",
        "  # confusion_matrix\n",
        "  print('2. confusion_matrix:')\n",
        "  print(confusion_matrix(y_pred_label,y_test))\n",
        "  # recall_score\n",
        "  print('3. recall_score: ', recall_score(y_pred_label,y_test))\n",
        "  # precision_score\n",
        "  print('4. precision_score: ', precision_score(y_pred_label,y_test))\n",
        "  # f1_score\n",
        "  print('5. f1_score: ', f1_score(y_pred_label,y_test))\n",
        "  # ROC plot\n",
        "  # print('6. Biểu đồ ROC của mô hình:')\n",
        "  # metrics.plot_roc_curve(model, X_test, y_test)\n",
        "  # plt.show()"
      ],
      "metadata": {
        "id": "T56JEvxWfIZl"
      },
      "execution_count": 36,
      "outputs": []
    },
    {
      "cell_type": "code",
      "source": [
        " evaluate_model(X_test, y_test, y_pred)"
      ],
      "metadata": {
        "colab": {
          "base_uri": "https://localhost:8080/"
        },
        "id": "PkUvZd5R9z4Z",
        "outputId": "79ec5cd3-51ea-4064-c25a-4ae23919016e"
      },
      "execution_count": 37,
      "outputs": [
        {
          "output_type": "stream",
          "name": "stdout",
          "text": [
            "Các chỉ số đánh giá mức độ hiệu quả của mô hình: \n",
            "1. Accuracy: 0.8186274509803921\n",
            "2. confusion_matrix:\n",
            "[[ 164  166]\n",
            " [ 389 2341]]\n",
            "3. recall_score:  0.8575091575091575\n",
            "4. precision_score:  0.9337854008775429\n",
            "5. f1_score:  0.8940232957800267\n"
          ]
        }
      ]
    },
    {
      "cell_type": "markdown",
      "source": [
        "Vẽ ROC, tính ACU"
      ],
      "metadata": {
        "id": "MtcrW3g0frib"
      }
    },
    {
      "cell_type": "code",
      "source": [
        "from pylab import rcParams\n",
        "\n",
        "rcParams['figure.figsize'] = 16,9"
      ],
      "metadata": {
        "id": "Tw-9PkMy-Eti"
      },
      "execution_count": 42,
      "outputs": []
    },
    {
      "cell_type": "code",
      "source": [
        "from sklearn import metrics\n",
        "import matplotlib.pyplot as plt\n",
        "\n",
        "fpr, tpr, _ = metrics.roc_curve(y_test,y_pred)\n",
        "auc = metrics.roc_auc_score(y_test,y_pred)\n",
        "plt.plot(fpr, tpr, label=\"auc=\" + str(auc))\n",
        "plt.xlabel(\"FPR\")\n",
        "plt.ylabel(\"TPR\")\n",
        "plt.legend(loc=4)\n",
        "plt.show()"
      ],
      "metadata": {
        "colab": {
          "base_uri": "https://localhost:8080/",
          "height": 551
        },
        "id": "q8wec7nt96yF",
        "outputId": "406a4807-b9d7-44e6-a3b2-8d26bbef2b08"
      },
      "execution_count": 43,
      "outputs": [
        {
          "output_type": "display_data",
          "data": {
            "image/png": "[encoded data removed]",
            "text/plain": [
              "<Figure size 1152x648 with 1 Axes>"
            ]
          },
          "metadata": {
            "needs_background": "light"
          }
        }
      ]
    }
  ]
}