{
  "nbformat": 4,
  "nbformat_minor": 0,
  "metadata": {
    "colab": {
      "name": "Part-5_Model_ANN.ipynb",
      "provenance": [],
      "collapsed_sections": []
    },
    "kernelspec": {
      "name": "python3",
      "display_name": "Python 3"
    },
    "language_info": {
      "name": "python"
    }
  },
  "cells": [
    {
      "cell_type": "code",
      "execution_count": 1,
      "metadata": {
        "id": "ZHZyHFq3L7VW"
      },
      "outputs": [],
      "source": [
        "import pandas as pd\n",
        "import numpy as np\n",
        "from pylab import rcParams\n",
        "\n",
        "rcParams['figure.figsize'] = 16,9"
      ]
    },
    {
      "cell_type": "code",
      "source": [
        "from google.colab import drive\n",
        "drive.mount('/content/drive')"
      ],
      "metadata": {
        "colab": {
          "base_uri": "https://localhost:8080/"
        },
        "id": "uXpyGMKV8BBh",
        "outputId": "5313087f-1d26-4d6a-8b1e-a6a603f42543"
      },
      "execution_count": 2,
      "outputs": [
        {
          "output_type": "stream",
          "name": "stdout",
          "text": [
            "Mounted at /content/drive\n"
          ]
        }
      ]
    },
    {
      "cell_type": "code",
      "source": [
        "df = pd.read_csv('/content/drive/MyDrive/Colab Notebooks/Credit_Scoring/Test/Tổng hợp quan trong/Dữ liệu/Dữ liệu sau xử lý/data_filled.csv')"
      ],
      "metadata": {
        "id": "Alvq_xeRMBsb"
      },
      "execution_count": 3,
      "outputs": []
    },
    {
      "cell_type": "code",
      "source": [
        "df.head()"
      ],
      "metadata": {
        "colab": {
          "base_uri": "https://localhost:8080/",
          "height": 288
        },
        "id": "pMWg3XgvT_H3",
        "outputId": "b04982a5-bda2-44bc-92e0-e14c0756cfc9"
      },
      "execution_count": 4,
      "outputs": [
        {
          "output_type": "execute_result",
          "data": {
            "text/html": [
              "\n",
              "  <div id=\"df-0a89a9c1-a076-4ab9-8ebd-1f59ef63fec7\">\n",
              "    <div class=\"colab-df-container\">\n",
              "      <div>\n",
              "<style scoped>\n",
              "    .dataframe tbody tr th:only-of-type {\n",
              "        vertical-align: middle;\n",
              "    }\n",
              "\n",
              "    .dataframe tbody tr th {\n",
              "        vertical-align: top;\n",
              "    }\n",
              "\n",
              "    .dataframe thead th {\n",
              "        text-align: right;\n",
              "    }\n",
              "</style>\n",
              "<table border=\"1\" class=\"dataframe\">\n",
              "  <thead>\n",
              "    <tr style=\"text-align: right;\">\n",
              "      <th></th>\n",
              "      <th>Unnamed: 0</th>\n",
              "      <th>LoanBriefID</th>\n",
              "      <th>LoanAmount</th>\n",
              "      <th>LoanTime</th>\n",
              "      <th>IsReMarketing</th>\n",
              "      <th>ProvinceId</th>\n",
              "      <th>Gender</th>\n",
              "      <th>Age</th>\n",
              "      <th>JobId</th>\n",
              "      <th>ImcomeType</th>\n",
              "      <th>IsMerried</th>\n",
              "      <th>NumberBaby</th>\n",
              "      <th>RelationshipType</th>\n",
              "      <th>LivingWith</th>\n",
              "      <th>RateTypeId</th>\n",
              "      <th>ProductId</th>\n",
              "      <th>ResidentType</th>\n",
              "      <th>LoanAmountExpertiseAI</th>\n",
              "      <th>NumberCall</th>\n",
              "      <th>score</th>\n",
              "      <th>label_result</th>\n",
              "    </tr>\n",
              "  </thead>\n",
              "  <tbody>\n",
              "    <tr>\n",
              "      <th>0</th>\n",
              "      <td>0</td>\n",
              "      <td>1095199</td>\n",
              "      <td>30000000</td>\n",
              "      <td>12</td>\n",
              "      <td>0</td>\n",
              "      <td>1</td>\n",
              "      <td>0.0</td>\n",
              "      <td>31</td>\n",
              "      <td>123.0</td>\n",
              "      <td>1.0</td>\n",
              "      <td>1.0</td>\n",
              "      <td>1.0</td>\n",
              "      <td>1.0</td>\n",
              "      <td>1.0</td>\n",
              "      <td>10</td>\n",
              "      <td>5</td>\n",
              "      <td>6</td>\n",
              "      <td>48800000.0</td>\n",
              "      <td>0.0</td>\n",
              "      <td>1.0</td>\n",
              "      <td>True</td>\n",
              "    </tr>\n",
              "    <tr>\n",
              "      <th>1</th>\n",
              "      <td>1</td>\n",
              "      <td>950035</td>\n",
              "      <td>12000000</td>\n",
              "      <td>6</td>\n",
              "      <td>1</td>\n",
              "      <td>1</td>\n",
              "      <td>0.0</td>\n",
              "      <td>30</td>\n",
              "      <td>123.0</td>\n",
              "      <td>5.0</td>\n",
              "      <td>1.0</td>\n",
              "      <td>2.0</td>\n",
              "      <td>1.0</td>\n",
              "      <td>3.0</td>\n",
              "      <td>10</td>\n",
              "      <td>2</td>\n",
              "      <td>4</td>\n",
              "      <td>13600000.0</td>\n",
              "      <td>1.0</td>\n",
              "      <td>0.6</td>\n",
              "      <td>False</td>\n",
              "    </tr>\n",
              "    <tr>\n",
              "      <th>2</th>\n",
              "      <td>2</td>\n",
              "      <td>975972</td>\n",
              "      <td>10000000</td>\n",
              "      <td>9</td>\n",
              "      <td>1</td>\n",
              "      <td>1</td>\n",
              "      <td>0.0</td>\n",
              "      <td>29</td>\n",
              "      <td>123.0</td>\n",
              "      <td>1.0</td>\n",
              "      <td>1.0</td>\n",
              "      <td>1.0</td>\n",
              "      <td>1.0</td>\n",
              "      <td>2.0</td>\n",
              "      <td>10</td>\n",
              "      <td>5</td>\n",
              "      <td>4</td>\n",
              "      <td>24000000.0</td>\n",
              "      <td>1.0</td>\n",
              "      <td>0.9</td>\n",
              "      <td>True</td>\n",
              "    </tr>\n",
              "    <tr>\n",
              "      <th>3</th>\n",
              "      <td>3</td>\n",
              "      <td>943144</td>\n",
              "      <td>5000000</td>\n",
              "      <td>9</td>\n",
              "      <td>1</td>\n",
              "      <td>79</td>\n",
              "      <td>0.0</td>\n",
              "      <td>25</td>\n",
              "      <td>123.0</td>\n",
              "      <td>5.0</td>\n",
              "      <td>0.0</td>\n",
              "      <td>0.0</td>\n",
              "      <td>2.0</td>\n",
              "      <td>1.0</td>\n",
              "      <td>10</td>\n",
              "      <td>2</td>\n",
              "      <td>4</td>\n",
              "      <td>0.0</td>\n",
              "      <td>8.0</td>\n",
              "      <td>0.9</td>\n",
              "      <td>True</td>\n",
              "    </tr>\n",
              "    <tr>\n",
              "      <th>4</th>\n",
              "      <td>4</td>\n",
              "      <td>1015972</td>\n",
              "      <td>16000000</td>\n",
              "      <td>9</td>\n",
              "      <td>0</td>\n",
              "      <td>1</td>\n",
              "      <td>0.0</td>\n",
              "      <td>28</td>\n",
              "      <td>123.0</td>\n",
              "      <td>1.0</td>\n",
              "      <td>0.0</td>\n",
              "      <td>1.0</td>\n",
              "      <td>15.0</td>\n",
              "      <td>0.0</td>\n",
              "      <td>10</td>\n",
              "      <td>2</td>\n",
              "      <td>7</td>\n",
              "      <td>24100000.0</td>\n",
              "      <td>0.0</td>\n",
              "      <td>0.4</td>\n",
              "      <td>False</td>\n",
              "    </tr>\n",
              "  </tbody>\n",
              "</table>\n",
              "</div>\n",
              "      <button class=\"colab-df-convert\" onclick=\"convertToInteractive('df-0a89a9c1-a076-4ab9-8ebd-1f59ef63fec7')\"\n",
              "              title=\"Convert this dataframe to an interactive table.\"\n",
              "              style=\"display:none;\">\n",
              "        \n",
              "  <svg xmlns=\"http://www.w3.org/2000/svg\" height=\"24px\"viewBox=\"0 0 24 24\"\n",
              "       width=\"24px\">\n",
              "    <path d=\"M0 0h24v24H0V0z\" fill=\"none\"/>\n",
              "    <path d=\"M18.56 5.44l.94 2.06.94-2.06 2.06-.94-2.06-.94-.94-2.06-.94 2.06-2.06.94zm-11 1L8.5 8.5l.94-2.06 2.06-.94-2.06-.94L8.5 2.5l-.94 2.06-2.06.94zm10 10l.94 2.06.94-2.06 2.06-.94-2.06-.94-.94-2.06-.94 2.06-2.06.94z\"/><path d=\"M17.41 7.96l-1.37-1.37c-.4-.4-.92-.59-1.43-.59-.52 0-1.04.2-1.43.59L10.3 9.45l-7.72 7.72c-.78.78-.78 2.05 0 2.83L4 21.41c.39.39.9.59 1.41.59.51 0 1.02-.2 1.41-.59l7.78-7.78 2.81-2.81c.8-.78.8-2.07 0-2.86zM5.41 20L4 18.59l7.72-7.72 1.47 1.35L5.41 20z\"/>\n",
              "  </svg>\n",
              "      </button>\n",
              "      \n",
              "  <style>\n",
              "    .colab-df-container {\n",
              "      display:flex;\n",
              "      flex-wrap:wrap;\n",
              "      gap: 12px;\n",
              "    }\n",
              "\n",
              "    .colab-df-convert {\n",
              "      background-color: #E8F0FE;\n",
              "      border: none;\n",
              "      border-radius: 50%;\n",
              "      cursor: pointer;\n",
              "      display: none;\n",
              "      fill: #1967D2;\n",
              "      height: 32px;\n",
              "      padding: 0 0 0 0;\n",
              "      width: 32px;\n",
              "    }\n",
              "\n",
              "    .colab-df-convert:hover {\n",
              "      background-color: #E2EBFA;\n",
              "      box-shadow: 0px 1px 2px rgba(60, 64, 67, 0.3), 0px 1px 3px 1px rgba(60, 64, 67, 0.15);\n",
              "      fill: #174EA6;\n",
              "    }\n",
              "\n",
              "    [theme=dark] .colab-df-convert {\n",
              "      background-color: #3B4455;\n",
              "      fill: #D2E3FC;\n",
              "    }\n",
              "\n",
              "    [theme=dark] .colab-df-convert:hover {\n",
              "      background-color: #434B5C;\n",
              "      box-shadow: 0px 1px 3px 1px rgba(0, 0, 0, 0.15);\n",
              "      filter: drop-shadow(0px 1px 2px rgba(0, 0, 0, 0.3));\n",
              "      fill: #FFFFFF;\n",
              "    }\n",
              "  </style>\n",
              "\n",
              "      <script>\n",
              "        const buttonEl =\n",
              "          document.querySelector('#df-0a89a9c1-a076-4ab9-8ebd-1f59ef63fec7 button.colab-df-convert');\n",
              "        buttonEl.style.display =\n",
              "          google.colab.kernel.accessAllowed ? 'block' : 'none';\n",
              "\n",
              "        async function convertToInteractive(key) {\n",
              "          const element = document.querySelector('#df-0a89a9c1-a076-4ab9-8ebd-1f59ef63fec7');\n",
              "          const dataTable =\n",
              "            await google.colab.kernel.invokeFunction('convertToInteractive',\n",
              "                                                     [key], {});\n",
              "          if (!dataTable) return;\n",
              "\n",
              "          const docLinkHtml = 'Like what you see? Visit the ' +\n",
              "            '<a target=\"_blank\" href=https://colab.research.google.com/notebooks/data_table.ipynb>data table notebook</a>'\n",
              "            + ' to learn more about interactive tables.';\n",
              "          element.innerHTML = '';\n",
              "          dataTable['output_type'] = 'display_data';\n",
              "          await google.colab.output.renderOutput(dataTable, element);\n",
              "          const docLink = document.createElement('div');\n",
              "          docLink.innerHTML = docLinkHtml;\n",
              "          element.appendChild(docLink);\n",
              "        }\n",
              "      </script>\n",
              "    </div>\n",
              "  </div>\n",
              "  "
            ],
            "text/plain": [
              "   Unnamed: 0  LoanBriefID  LoanAmount  ...  NumberCall  score  label_result\n",
              "0           0      1095199    30000000  ...         0.0    1.0          True\n",
              "1           1       950035    12000000  ...         1.0    0.6         False\n",
              "2           2       975972    10000000  ...         1.0    0.9          True\n",
              "3           3       943144     5000000  ...         8.0    0.9          True\n",
              "4           4      1015972    16000000  ...         0.0    0.4         False\n",
              "\n",
              "[5 rows x 21 columns]"
            ]
          },
          "metadata": {},
          "execution_count": 4
        }
      ]
    },
    {
      "cell_type": "code",
      "source": [
        "df.columns"
      ],
      "metadata": {
        "colab": {
          "base_uri": "https://localhost:8080/"
        },
        "id": "H0X4fbjYWNt2",
        "outputId": "d3512113-1086-4ad8-d312-9c6235ab84c9"
      },
      "execution_count": 5,
      "outputs": [
        {
          "output_type": "execute_result",
          "data": {
            "text/plain": [
              "Index(['Unnamed: 0', 'LoanBriefID', 'LoanAmount', 'LoanTime', 'IsReMarketing',\n",
              "       'ProvinceId', 'Gender', 'Age', 'JobId', 'ImcomeType', 'IsMerried',\n",
              "       'NumberBaby', 'RelationshipType', 'LivingWith', 'RateTypeId',\n",
              "       'ProductId', 'ResidentType', 'LoanAmountExpertiseAI', 'NumberCall',\n",
              "       'score', 'label_result'],\n",
              "      dtype='object')"
            ]
          },
          "metadata": {},
          "execution_count": 5
        }
      ]
    },
    {
      "cell_type": "code",
      "source": [
        "features = ['LoanBriefID', 'LoanAmount', 'LoanTime', 'IsReMarketing',\n",
        "       'ProvinceId', 'Gender', 'Age', 'JobId', 'ImcomeType', 'IsMerried',\n",
        "       'NumberBaby', 'RelationshipType', 'LivingWith', 'RateTypeId',\n",
        "       'ProductId', 'ResidentType', 'LoanAmountExpertiseAI', 'NumberCall']"
      ],
      "metadata": {
        "id": "fN6QiLAfWSE9"
      },
      "execution_count": 6,
      "outputs": []
    },
    {
      "cell_type": "code",
      "source": [
        "X = df[features]\n",
        "y = df[\"label_result\"]"
      ],
      "metadata": {
        "id": "Rf4I14e5UAjc"
      },
      "execution_count": 7,
      "outputs": []
    },
    {
      "cell_type": "code",
      "source": [
        "from sklearn.model_selection import train_test_split\n",
        "X_train, X_test, y_train, y_test = train_test_split(X,y, test_size = 0.3, random_state = 42)"
      ],
      "metadata": {
        "id": "mH2UzNRqU_d9"
      },
      "execution_count": 8,
      "outputs": []
    },
    {
      "cell_type": "code",
      "source": [
        "from sklearn.preprocessing import StandardScaler\n",
        "scaler = StandardScaler()\n",
        "X_train = scaler.fit_transform(X_train)\n",
        "X_test = scaler.fit_transform(X_test)\n"
      ],
      "metadata": {
        "id": "UCn4Mb0_W22W"
      },
      "execution_count": 9,
      "outputs": []
    },
    {
      "cell_type": "code",
      "source": [
        "# Import the necessary libraries for ANN model\n",
        "from tensorflow.keras.models import Sequential\n",
        "from tensorflow.keras.layers import Dense"
      ],
      "metadata": {
        "id": "FIpRFnLacNQW"
      },
      "execution_count": 10,
      "outputs": []
    },
    {
      "cell_type": "code",
      "source": [
        "# Create a Sequential Neural Network model \n",
        "model = Sequential()\n",
        "# Create an Input and a Hidden Layer\n",
        "model.add(Dense(units=50,activation=\"relu\",kernel_initializer=\"he_uniform\"))\n",
        "# Create an Output Layer\n",
        "model.add(Dense(units=1,activation=\"sigmoid\"))\n",
        "# Now, my model is ready to compile\n",
        "model.compile(optimizer=\"adam\",loss=\"binary_crossentropy\",metrics=[\"accuracy\"])"
      ],
      "metadata": {
        "id": "ZB1JXLb6c4cN"
      },
      "execution_count": 11,
      "outputs": []
    },
    {
      "cell_type": "code",
      "source": [
        "model.fit(X_train,y_train,batch_size=64,epochs=100)"
      ],
      "metadata": {
        "id": "VDd5vezAe-As",
        "colab": {
          "base_uri": "https://localhost:8080/"
        },
        "outputId": "9934809f-1f31-4566-f924-c3a6ca3e3ed3"
      },
      "execution_count": 12,
      "outputs": [
        {
          "output_type": "stream",
          "name": "stdout",
          "text": [
            "Epoch 1/100\n",
            "112/112 [==============================] - 1s 3ms/step - loss: 0.6082 - accuracy: 0.6892\n",
            "Epoch 2/100\n",
            "112/112 [==============================] - 0s 3ms/step - loss: 0.4422 - accuracy: 0.8176\n",
            "Epoch 3/100\n",
            "112/112 [==============================] - 0s 3ms/step - loss: 0.4296 - accuracy: 0.8224\n",
            "Epoch 4/100\n",
            "112/112 [==============================] - 0s 3ms/step - loss: 0.4230 - accuracy: 0.8252\n",
            "Epoch 5/100\n",
            "112/112 [==============================] - 0s 3ms/step - loss: 0.4186 - accuracy: 0.8279\n",
            "Epoch 6/100\n",
            "112/112 [==============================] - 0s 3ms/step - loss: 0.4156 - accuracy: 0.8277\n",
            "Epoch 7/100\n",
            "112/112 [==============================] - 0s 3ms/step - loss: 0.4127 - accuracy: 0.8296\n",
            "Epoch 8/100\n",
            "112/112 [==============================] - 0s 3ms/step - loss: 0.4102 - accuracy: 0.8312\n",
            "Epoch 9/100\n",
            "112/112 [==============================] - 0s 3ms/step - loss: 0.4086 - accuracy: 0.8324\n",
            "Epoch 10/100\n",
            "112/112 [==============================] - 0s 3ms/step - loss: 0.4067 - accuracy: 0.8319\n",
            "Epoch 11/100\n",
            "112/112 [==============================] - 0s 3ms/step - loss: 0.4053 - accuracy: 0.8321\n",
            "Epoch 12/100\n",
            "112/112 [==============================] - 0s 2ms/step - loss: 0.4044 - accuracy: 0.8335\n",
            "Epoch 13/100\n",
            "112/112 [==============================] - 0s 2ms/step - loss: 0.4028 - accuracy: 0.8350\n",
            "Epoch 14/100\n",
            "112/112 [==============================] - 0s 2ms/step - loss: 0.4013 - accuracy: 0.8357\n",
            "Epoch 15/100\n",
            "112/112 [==============================] - 0s 3ms/step - loss: 0.4006 - accuracy: 0.8356\n",
            "Epoch 16/100\n",
            "112/112 [==============================] - 0s 3ms/step - loss: 0.3998 - accuracy: 0.8345\n",
            "Epoch 17/100\n",
            "112/112 [==============================] - 0s 4ms/step - loss: 0.3987 - accuracy: 0.8377\n",
            "Epoch 18/100\n",
            "112/112 [==============================] - 0s 3ms/step - loss: 0.3977 - accuracy: 0.8382\n",
            "Epoch 19/100\n",
            "112/112 [==============================] - 0s 3ms/step - loss: 0.3970 - accuracy: 0.8368\n",
            "Epoch 20/100\n",
            "112/112 [==============================] - 0s 3ms/step - loss: 0.3960 - accuracy: 0.8381\n",
            "Epoch 21/100\n",
            "112/112 [==============================] - 0s 3ms/step - loss: 0.3949 - accuracy: 0.8391\n",
            "Epoch 22/100\n",
            "112/112 [==============================] - 0s 3ms/step - loss: 0.3945 - accuracy: 0.8395\n",
            "Epoch 23/100\n",
            "112/112 [==============================] - 0s 3ms/step - loss: 0.3939 - accuracy: 0.8395\n",
            "Epoch 24/100\n",
            "112/112 [==============================] - 0s 3ms/step - loss: 0.3930 - accuracy: 0.8406\n",
            "Epoch 25/100\n",
            "112/112 [==============================] - 0s 2ms/step - loss: 0.3924 - accuracy: 0.8403\n",
            "Epoch 26/100\n",
            "112/112 [==============================] - 0s 3ms/step - loss: 0.3916 - accuracy: 0.8405\n",
            "Epoch 27/100\n",
            "112/112 [==============================] - 0s 3ms/step - loss: 0.3913 - accuracy: 0.8410\n",
            "Epoch 28/100\n",
            "112/112 [==============================] - 0s 2ms/step - loss: 0.3905 - accuracy: 0.8419\n",
            "Epoch 29/100\n",
            "112/112 [==============================] - 0s 2ms/step - loss: 0.3898 - accuracy: 0.8417\n",
            "Epoch 30/100\n",
            "112/112 [==============================] - 0s 3ms/step - loss: 0.3895 - accuracy: 0.8417\n",
            "Epoch 31/100\n",
            "112/112 [==============================] - 0s 2ms/step - loss: 0.3891 - accuracy: 0.8416\n",
            "Epoch 32/100\n",
            "112/112 [==============================] - 0s 3ms/step - loss: 0.3879 - accuracy: 0.8415\n",
            "Epoch 33/100\n",
            "112/112 [==============================] - 0s 3ms/step - loss: 0.3875 - accuracy: 0.8422\n",
            "Epoch 34/100\n",
            "112/112 [==============================] - 0s 3ms/step - loss: 0.3869 - accuracy: 0.8415\n",
            "Epoch 35/100\n",
            "112/112 [==============================] - 0s 3ms/step - loss: 0.3863 - accuracy: 0.8441\n",
            "Epoch 36/100\n",
            "112/112 [==============================] - 0s 3ms/step - loss: 0.3865 - accuracy: 0.8450\n",
            "Epoch 37/100\n",
            "112/112 [==============================] - 0s 3ms/step - loss: 0.3857 - accuracy: 0.8424\n",
            "Epoch 38/100\n",
            "112/112 [==============================] - 0s 3ms/step - loss: 0.3858 - accuracy: 0.8419\n",
            "Epoch 39/100\n",
            "112/112 [==============================] - 0s 3ms/step - loss: 0.3846 - accuracy: 0.8433\n",
            "Epoch 40/100\n",
            "112/112 [==============================] - 0s 3ms/step - loss: 0.3844 - accuracy: 0.8434\n",
            "Epoch 41/100\n",
            "112/112 [==============================] - 0s 3ms/step - loss: 0.3835 - accuracy: 0.8427\n",
            "Epoch 42/100\n",
            "112/112 [==============================] - 0s 2ms/step - loss: 0.3832 - accuracy: 0.8424\n",
            "Epoch 43/100\n",
            "112/112 [==============================] - 0s 2ms/step - loss: 0.3828 - accuracy: 0.8434\n",
            "Epoch 44/100\n",
            "112/112 [==============================] - 0s 3ms/step - loss: 0.3822 - accuracy: 0.8455\n",
            "Epoch 45/100\n",
            "112/112 [==============================] - 0s 3ms/step - loss: 0.3821 - accuracy: 0.8444\n",
            "Epoch 46/100\n",
            "112/112 [==============================] - 0s 3ms/step - loss: 0.3816 - accuracy: 0.8431\n",
            "Epoch 47/100\n",
            "112/112 [==============================] - 0s 3ms/step - loss: 0.3813 - accuracy: 0.8469\n",
            "Epoch 48/100\n",
            "112/112 [==============================] - 0s 3ms/step - loss: 0.3807 - accuracy: 0.8445\n",
            "Epoch 49/100\n",
            "112/112 [==============================] - 0s 3ms/step - loss: 0.3797 - accuracy: 0.8438\n",
            "Epoch 50/100\n",
            "112/112 [==============================] - 0s 2ms/step - loss: 0.3800 - accuracy: 0.8472\n",
            "Epoch 51/100\n",
            "112/112 [==============================] - 0s 3ms/step - loss: 0.3799 - accuracy: 0.8450\n",
            "Epoch 52/100\n",
            "112/112 [==============================] - 0s 2ms/step - loss: 0.3790 - accuracy: 0.8450\n",
            "Epoch 53/100\n",
            "112/112 [==============================] - 0s 2ms/step - loss: 0.3786 - accuracy: 0.8469\n",
            "Epoch 54/100\n",
            "112/112 [==============================] - 0s 2ms/step - loss: 0.3779 - accuracy: 0.8450\n",
            "Epoch 55/100\n",
            "112/112 [==============================] - 0s 3ms/step - loss: 0.3776 - accuracy: 0.8468\n",
            "Epoch 56/100\n",
            "112/112 [==============================] - 0s 3ms/step - loss: 0.3775 - accuracy: 0.8480\n",
            "Epoch 57/100\n",
            "112/112 [==============================] - 0s 3ms/step - loss: 0.3771 - accuracy: 0.8472\n",
            "Epoch 58/100\n",
            "112/112 [==============================] - 0s 2ms/step - loss: 0.3770 - accuracy: 0.8466\n",
            "Epoch 59/100\n",
            "112/112 [==============================] - 0s 2ms/step - loss: 0.3768 - accuracy: 0.8475\n",
            "Epoch 60/100\n",
            "112/112 [==============================] - 0s 2ms/step - loss: 0.3758 - accuracy: 0.8485\n",
            "Epoch 61/100\n",
            "112/112 [==============================] - 0s 2ms/step - loss: 0.3759 - accuracy: 0.8480\n",
            "Epoch 62/100\n",
            "112/112 [==============================] - 0s 2ms/step - loss: 0.3749 - accuracy: 0.8469\n",
            "Epoch 63/100\n",
            "112/112 [==============================] - 0s 2ms/step - loss: 0.3752 - accuracy: 0.8466\n",
            "Epoch 64/100\n",
            "112/112 [==============================] - 0s 2ms/step - loss: 0.3744 - accuracy: 0.8486\n",
            "Epoch 65/100\n",
            "112/112 [==============================] - 0s 2ms/step - loss: 0.3742 - accuracy: 0.8482\n",
            "Epoch 66/100\n",
            "112/112 [==============================] - 0s 2ms/step - loss: 0.3741 - accuracy: 0.8475\n",
            "Epoch 67/100\n",
            "112/112 [==============================] - 0s 2ms/step - loss: 0.3742 - accuracy: 0.8487\n",
            "Epoch 68/100\n",
            "112/112 [==============================] - 0s 2ms/step - loss: 0.3732 - accuracy: 0.8478\n",
            "Epoch 69/100\n",
            "112/112 [==============================] - 0s 3ms/step - loss: 0.3733 - accuracy: 0.8483\n",
            "Epoch 70/100\n",
            "112/112 [==============================] - 0s 2ms/step - loss: 0.3727 - accuracy: 0.8472\n",
            "Epoch 71/100\n",
            "112/112 [==============================] - 0s 3ms/step - loss: 0.3724 - accuracy: 0.8510\n",
            "Epoch 72/100\n",
            "112/112 [==============================] - 0s 2ms/step - loss: 0.3723 - accuracy: 0.8471\n",
            "Epoch 73/100\n",
            "112/112 [==============================] - 0s 2ms/step - loss: 0.3716 - accuracy: 0.8504\n",
            "Epoch 74/100\n",
            "112/112 [==============================] - 0s 2ms/step - loss: 0.3710 - accuracy: 0.8480\n",
            "Epoch 75/100\n",
            "112/112 [==============================] - 0s 3ms/step - loss: 0.3714 - accuracy: 0.8506\n",
            "Epoch 76/100\n",
            "112/112 [==============================] - 0s 3ms/step - loss: 0.3709 - accuracy: 0.8500\n",
            "Epoch 77/100\n",
            "112/112 [==============================] - 0s 3ms/step - loss: 0.3706 - accuracy: 0.8506\n",
            "Epoch 78/100\n",
            "112/112 [==============================] - 0s 2ms/step - loss: 0.3709 - accuracy: 0.8517\n",
            "Epoch 79/100\n",
            "112/112 [==============================] - 0s 2ms/step - loss: 0.3696 - accuracy: 0.8494\n",
            "Epoch 80/100\n",
            "112/112 [==============================] - 0s 2ms/step - loss: 0.3693 - accuracy: 0.8503\n",
            "Epoch 81/100\n",
            "112/112 [==============================] - 0s 2ms/step - loss: 0.3702 - accuracy: 0.8493\n",
            "Epoch 82/100\n",
            "112/112 [==============================] - 0s 2ms/step - loss: 0.3698 - accuracy: 0.8487\n",
            "Epoch 83/100\n",
            "112/112 [==============================] - 0s 2ms/step - loss: 0.3684 - accuracy: 0.8493\n",
            "Epoch 84/100\n",
            "112/112 [==============================] - 0s 2ms/step - loss: 0.3677 - accuracy: 0.8515\n",
            "Epoch 85/100\n",
            "112/112 [==============================] - 0s 2ms/step - loss: 0.3687 - accuracy: 0.8497\n",
            "Epoch 86/100\n",
            "112/112 [==============================] - 0s 3ms/step - loss: 0.3674 - accuracy: 0.8513\n",
            "Epoch 87/100\n",
            "112/112 [==============================] - 0s 2ms/step - loss: 0.3678 - accuracy: 0.8483\n",
            "Epoch 88/100\n",
            "112/112 [==============================] - 0s 3ms/step - loss: 0.3670 - accuracy: 0.8529\n",
            "Epoch 89/100\n",
            "112/112 [==============================] - 0s 2ms/step - loss: 0.3672 - accuracy: 0.8504\n",
            "Epoch 90/100\n",
            "112/112 [==============================] - 0s 2ms/step - loss: 0.3664 - accuracy: 0.8517\n",
            "Epoch 91/100\n",
            "112/112 [==============================] - 0s 2ms/step - loss: 0.3660 - accuracy: 0.8504\n",
            "Epoch 92/100\n",
            "112/112 [==============================] - 0s 2ms/step - loss: 0.3661 - accuracy: 0.8527\n",
            "Epoch 93/100\n",
            "112/112 [==============================] - 0s 2ms/step - loss: 0.3659 - accuracy: 0.8522\n",
            "Epoch 94/100\n",
            "112/112 [==============================] - 0s 3ms/step - loss: 0.3651 - accuracy: 0.8518\n",
            "Epoch 95/100\n",
            "112/112 [==============================] - 0s 3ms/step - loss: 0.3648 - accuracy: 0.8521\n",
            "Epoch 96/100\n",
            "112/112 [==============================] - 0s 2ms/step - loss: 0.3647 - accuracy: 0.8521\n",
            "Epoch 97/100\n",
            "112/112 [==============================] - 0s 2ms/step - loss: 0.3648 - accuracy: 0.8524\n",
            "Epoch 98/100\n",
            "112/112 [==============================] - 0s 3ms/step - loss: 0.3638 - accuracy: 0.8524\n",
            "Epoch 99/100\n",
            "112/112 [==============================] - 0s 3ms/step - loss: 0.3638 - accuracy: 0.8529\n",
            "Epoch 100/100\n",
            "112/112 [==============================] - 0s 3ms/step - loss: 0.3632 - accuracy: 0.8522\n"
          ]
        },
        {
          "output_type": "execute_result",
          "data": {
            "text/plain": [
              "<keras.callbacks.History at 0x7fc4c2669250>"
            ]
          },
          "metadata": {},
          "execution_count": 12
        }
      ]
    },
    {
      "cell_type": "code",
      "source": [
        "# Predict the X_test results\n",
        "y_pred = model.predict(X_test)"
      ],
      "metadata": {
        "id": "FiguR0FPfA5-"
      },
      "execution_count": 26,
      "outputs": []
    },
    {
      "cell_type": "code",
      "source": [
        "y_pred"
      ],
      "metadata": {
        "colab": {
          "base_uri": "https://localhost:8080/"
        },
        "id": "Cv_kTQMN8tWL",
        "outputId": "99e24d4d-da26-451b-f837-b52da65d7f28"
      },
      "execution_count": 27,
      "outputs": [
        {
          "output_type": "execute_result",
          "data": {
            "text/plain": [
              "array([[0.7922245 ],\n",
              "       [0.52097625],\n",
              "       [0.79439497],\n",
              "       ...,\n",
              "       [0.96734416],\n",
              "       [0.21576253],\n",
              "       [0.89755106]], dtype=float32)"
            ]
          },
          "metadata": {},
          "execution_count": 27
        }
      ]
    },
    {
      "cell_type": "code",
      "source": [
        "y_pred_label = []\n",
        "for i in range(0, len(y_pred)):\n",
        "  if y_pred[i] >= 0.5:\n",
        "    y_pred_label.append(True)\n",
        "  else:\n",
        "    y_pred_label.append(False)"
      ],
      "metadata": {
        "id": "3HSh8osRpAZR"
      },
      "execution_count": 34,
      "outputs": []
    },
    {
      "cell_type": "code",
      "source": [
        "y_pred_label"
      ],
      "metadata": {
        "id": "FcLCZEU-wqDM"
      },
      "execution_count": null,
      "outputs": []
    },
    {
      "cell_type": "markdown",
      "source": [
        "Đánh giá mô hình sử dụng ---- sklearn ---- \n",
        "\n",
        "\n",
        "Vấn đề: Output của mô hình ANN ở trên sử dụng Tensorflow có kiểu dữ liệu ở đầu ra khác với kiểu dữ liệu đầu vào yêu cầu của sklearn "
      ],
      "metadata": {
        "id": "mE7Fd2p8HMgP"
      }
    },
    {
      "cell_type": "code",
      "source": [
        "# Hàm tính độ chính xác, ma trận nhầm lẫn, Recall, precision, f1 score và vẽ đồ thị ROC\n",
        "from sklearn import metrics\n",
        "from sklearn.model_selection import cross_val_score\n",
        "from sklearn.metrics import confusion_matrix\n",
        "from sklearn.metrics import recall_score\n",
        "from sklearn.metrics import precision_score\n",
        "from sklearn.metrics import f1_score\n",
        "\n",
        "def evaluate_model(model, X_test, y_test, y_prediction):\n",
        "  print(\"Các chỉ số đánh giá mức độ hiệu quả của mô hình: \")\n",
        "  #Accuracy\n",
        "  print(\"1. Accuracy:\",metrics.accuracy_score(y_pred_label,y_test))\n",
        "  # confusion_matrix\n",
        "  print('2. confusion_matrix:')\n",
        "  print(confusion_matrix(y_pred_label,y_test))\n",
        "  # recall_score\n",
        "  print('3. recall_score: ', recall_score(y_pred_label,y_test))\n",
        "  # precision_score\n",
        "  print('4. precision_score: ', precision_score(y_pred_label,y_test))\n",
        "  # f1_score\n",
        "  print('5. f1_score: ', f1_score(y_pred_label,y_test))\n",
        "  # ROC plot\n",
        "  # print('6. Biểu đồ ROC của mô hình:')\n",
        "  # metrics.plot_roc_curve(model, X_test, y_test)\n",
        "  # plt.show()"
      ],
      "metadata": {
        "id": "T56JEvxWfIZl"
      },
      "execution_count": 36,
      "outputs": []
    },
    {
      "cell_type": "code",
      "source": [
        " evaluate_model(model, X_test, y_test, y_pred)"
      ],
      "metadata": {
        "colab": {
          "base_uri": "https://localhost:8080/"
        },
        "id": "lX5al2q6F58J",
        "outputId": "54d6359a-7a9a-4503-b213-051ffc3443d4"
      },
      "execution_count": 18,
      "outputs": [
        {
          "output_type": "stream",
          "name": "stdout",
          "text": [
            "Các chỉ số đánh giá mức độ hiệu quả của mô hình: \n",
            "1. Accuracy: 0.8336601307189543\n",
            "2. confusion_matrix:\n",
            "[[ 163  119]\n",
            " [ 390 2388]]\n",
            "3. recall_score:  0.8596112311015118\n",
            "4. precision_score:  0.9525329078579976\n",
            "5. f1_score:  0.903689687795648\n"
          ]
        }
      ]
    },
    {
      "cell_type": "markdown",
      "source": [
        "# **Tensor Flow**"
      ],
      "metadata": {
        "id": "TQu3N7joJVes"
      }
    },
    {
      "cell_type": "markdown",
      "source": [
        "**Tính Accuracy TensorFlow**"
      ],
      "metadata": {
        "id": "3BRtYi24ILVv"
      }
    },
    {
      "cell_type": "code",
      "source": [
        "import tensorflow as tf"
      ],
      "metadata": {
        "id": "jGEVOdRI8XPj"
      },
      "execution_count": 20,
      "outputs": []
    },
    {
      "cell_type": "code",
      "source": [
        "m = tf.keras.metrics.Accuracy()"
      ],
      "metadata": {
        "id": "-8gff5uGGbYB"
      },
      "execution_count": 21,
      "outputs": []
    },
    {
      "cell_type": "code",
      "source": [
        "m.update_state(y_test,y_pred)"
      ],
      "metadata": {
        "colab": {
          "base_uri": "https://localhost:8080/"
        },
        "id": "6SkjyEyUF2ov",
        "outputId": "afaf05c0-7dbc-4202-921b-afda0158eb85"
      },
      "execution_count": 22,
      "outputs": [
        {
          "output_type": "execute_result",
          "data": {
            "text/plain": [
              "<tf.Variable 'UnreadVariable' shape=() dtype=float32, numpy=3060.0>"
            ]
          },
          "metadata": {},
          "execution_count": 22
        }
      ]
    },
    {
      "cell_type": "code",
      "source": [
        "print(\"Accuracy: \",m.result().numpy())"
      ],
      "metadata": {
        "colab": {
          "base_uri": "https://localhost:8080/"
        },
        "id": "Qv5P9nu6GzzA",
        "outputId": "265fd4c9-42c1-4fcc-9f69-1aa8da2cc956"
      },
      "execution_count": 23,
      "outputs": [
        {
          "output_type": "stream",
          "name": "stdout",
          "text": [
            "Accuracy:  0.8336601\n"
          ]
        }
      ]
    },
    {
      "cell_type": "markdown",
      "source": [
        "Vẽ ROC, tính ACU"
      ],
      "metadata": {
        "id": "MtcrW3g0frib"
      }
    },
    {
      "cell_type": "code",
      "source": [
        "from pylab import rcParams\n",
        "\n",
        "rcParams['figure.figsize'] = 16,9"
      ],
      "metadata": {
        "id": "a_Iy7lY0-CgL"
      },
      "execution_count": 39,
      "outputs": []
    },
    {
      "cell_type": "code",
      "source": [
        "from sklearn import metrics\n",
        "import matplotlib.pyplot as plt\n",
        "\n",
        "fpr, tpr, _ = metrics.roc_curve(y_test,y_pred)\n",
        "auc = metrics.roc_auc_score(y_test,y_pred)\n",
        "plt.plot(fpr, tpr, label=\"auc=\" + str(auc))\n",
        "plt.xlabel(\"FPR\")\n",
        "plt.ylabel(\"TPR\")\n",
        "plt.legend(loc=4)\n",
        "plt.show()"
      ],
      "metadata": {
        "colab": {
          "base_uri": "https://localhost:8080/",
          "height": 551
        },
        "id": "Fu8xZk7x8OEt",
        "outputId": "a9e312c5-c55f-417c-a493-35c2a13de6ef"
      },
      "execution_count": 40,
      "outputs": [
        {
          "output_type": "display_data",
          "data": {
            "image/png": "[encoded data removed]",
            "text/plain": [
              "<Figure size 1152x648 with 1 Axes>"
            ]
          },
          "metadata": {
            "needs_background": "light"
          }
        }
      ]
    }
  ]
}