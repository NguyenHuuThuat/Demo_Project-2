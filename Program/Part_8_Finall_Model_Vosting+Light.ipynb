{
  "nbformat": 4,
  "nbformat_minor": 0,
  "metadata": {
    "colab": {
      "name": "Part-8_Finall-Model_Vosting+Light.ipynb",
      "provenance": []
    },
    "kernelspec": {
      "name": "python3",
      "display_name": "Python 3"
    },
    "language_info": {
      "name": "python"
    }
  },
  "cells": [
    {
      "cell_type": "code",
      "execution_count": 1,
      "metadata": {
        "colab": {
          "base_uri": "https://localhost:8080/"
        },
        "id": "t9dlAE3C-fU-",
        "outputId": "43cd00be-0a51-440e-c067-1ed64a2a53b2"
      },
      "outputs": [
        {
          "output_type": "stream",
          "name": "stdout",
          "text": [
            "Mounted at /content/drive\n"
          ]
        }
      ],
      "source": [
        "from google.colab import drive\n",
        "drive.mount('/content/drive')"
      ]
    },
    {
      "cell_type": "code",
      "source": [
        "import pandas as pd\n",
        "import numpy as np\n",
        "import seaborn as sns\n",
        "import matplotlib.pyplot as plt\n",
        "\n",
        "from sklearn.preprocessing import LabelEncoder\n",
        "from sklearn.preprocessing import StandardScaler\n",
        "from sklearn.model_selection import train_test_split\n",
        "from sklearn.datasets import load_breast_cancer\n",
        "from sklearn.metrics import confusion_matrix\n",
        "from sklearn.metrics import recall_score\n",
        "from sklearn.metrics import precision_score\n",
        "from sklearn.metrics import f1_score\n",
        "from sklearn.metrics import accuracy_score\n",
        "\n",
        "from sklearn.ensemble import RandomForestClassifier, GradientBoostingClassifier, \\\n",
        "    ExtraTreesClassifier, VotingClassifier\n",
        "from xgboost import XGBClassifier\n",
        "from lightgbm import LGBMClassifier\n",
        "from sklearn.model_selection import KFold\n",
        "from datetime import datetime\n",
        "import warnings"
      ],
      "metadata": {
        "id": "P2soRAYJ-p2U"
      },
      "execution_count": 2,
      "outputs": []
    },
    {
      "cell_type": "code",
      "source": [
        "from pylab import rcParams\n",
        "\n",
        "rcParams['figure.figsize'] = 16,9"
      ],
      "metadata": {
        "id": "EIW0WwhU-rSS"
      },
      "execution_count": 3,
      "outputs": []
    },
    {
      "cell_type": "markdown",
      "source": [
        "# **Input Data**"
      ],
      "metadata": {
        "id": "Q4e_aSdt_c_4"
      }
    },
    {
      "cell_type": "code",
      "source": [
        "df = pd.read_csv('/content/drive/MyDrive/Colab Notebooks/Credit_Scoring/Test/13.12/data_filled.csv')"
      ],
      "metadata": {
        "id": "UWpv_o67-v5V"
      },
      "execution_count": 4,
      "outputs": []
    },
    {
      "cell_type": "code",
      "source": [
        "df"
      ],
      "metadata": {
        "colab": {
          "base_uri": "https://localhost:8080/",
          "height": 366
        },
        "id": "GzXAromi_k5V",
        "outputId": "7a43477b-b7a7-4b5a-dae0-116039d08231"
      },
      "execution_count": 17,
      "outputs": [
        {
          "output_type": "execute_result",
          "data": {
            "text/html": [
              "\n",
              "  <div id=\"df-77c7bf0b-a66f-45a4-bbcf-1a4171c1ea59\">\n",
              "    <div class=\"colab-df-container\">\n",
              "      <div>\n",
              "<style scoped>\n",
              "    .dataframe tbody tr th:only-of-type {\n",
              "        vertical-align: middle;\n",
              "    }\n",
              "\n",
              "    .dataframe tbody tr th {\n",
              "        vertical-align: top;\n",
              "    }\n",
              "\n",
              "    .dataframe thead th {\n",
              "        text-align: right;\n",
              "    }\n",
              "</style>\n",
              "<table border=\"1\" class=\"dataframe\">\n",
              "  <thead>\n",
              "    <tr style=\"text-align: right;\">\n",
              "      <th></th>\n",
              "      <th>Unnamed: 0</th>\n",
              "      <th>LoanBriefID</th>\n",
              "      <th>LoanAmount</th>\n",
              "      <th>LoanTime</th>\n",
              "      <th>IsReMarketing</th>\n",
              "      <th>ProvinceId</th>\n",
              "      <th>Gender</th>\n",
              "      <th>Age</th>\n",
              "      <th>JobId</th>\n",
              "      <th>ImcomeType</th>\n",
              "      <th>IsMerried</th>\n",
              "      <th>NumberBaby</th>\n",
              "      <th>RelationshipType</th>\n",
              "      <th>LivingWith</th>\n",
              "      <th>RateTypeId</th>\n",
              "      <th>ProductId</th>\n",
              "      <th>ResidentType</th>\n",
              "      <th>LoanAmountExpertiseAI</th>\n",
              "      <th>NumberCall</th>\n",
              "      <th>score</th>\n",
              "      <th>label_result</th>\n",
              "    </tr>\n",
              "  </thead>\n",
              "  <tbody>\n",
              "    <tr>\n",
              "      <th>0</th>\n",
              "      <td>0</td>\n",
              "      <td>1095199</td>\n",
              "      <td>30000000</td>\n",
              "      <td>12</td>\n",
              "      <td>0</td>\n",
              "      <td>1</td>\n",
              "      <td>0.0</td>\n",
              "      <td>31</td>\n",
              "      <td>123.0</td>\n",
              "      <td>1.0</td>\n",
              "      <td>1.0</td>\n",
              "      <td>1.0</td>\n",
              "      <td>1.0</td>\n",
              "      <td>1.0</td>\n",
              "      <td>10</td>\n",
              "      <td>5</td>\n",
              "      <td>6</td>\n",
              "      <td>48800000.0</td>\n",
              "      <td>0.0</td>\n",
              "      <td>1.0</td>\n",
              "      <td>True</td>\n",
              "    </tr>\n",
              "    <tr>\n",
              "      <th>1</th>\n",
              "      <td>1</td>\n",
              "      <td>950035</td>\n",
              "      <td>12000000</td>\n",
              "      <td>6</td>\n",
              "      <td>1</td>\n",
              "      <td>1</td>\n",
              "      <td>0.0</td>\n",
              "      <td>30</td>\n",
              "      <td>123.0</td>\n",
              "      <td>5.0</td>\n",
              "      <td>1.0</td>\n",
              "      <td>2.0</td>\n",
              "      <td>1.0</td>\n",
              "      <td>3.0</td>\n",
              "      <td>10</td>\n",
              "      <td>2</td>\n",
              "      <td>4</td>\n",
              "      <td>13600000.0</td>\n",
              "      <td>1.0</td>\n",
              "      <td>0.6</td>\n",
              "      <td>False</td>\n",
              "    </tr>\n",
              "    <tr>\n",
              "      <th>2</th>\n",
              "      <td>2</td>\n",
              "      <td>975972</td>\n",
              "      <td>10000000</td>\n",
              "      <td>9</td>\n",
              "      <td>1</td>\n",
              "      <td>1</td>\n",
              "      <td>0.0</td>\n",
              "      <td>29</td>\n",
              "      <td>123.0</td>\n",
              "      <td>1.0</td>\n",
              "      <td>1.0</td>\n",
              "      <td>1.0</td>\n",
              "      <td>1.0</td>\n",
              "      <td>2.0</td>\n",
              "      <td>10</td>\n",
              "      <td>5</td>\n",
              "      <td>4</td>\n",
              "      <td>24000000.0</td>\n",
              "      <td>1.0</td>\n",
              "      <td>0.9</td>\n",
              "      <td>True</td>\n",
              "    </tr>\n",
              "    <tr>\n",
              "      <th>3</th>\n",
              "      <td>3</td>\n",
              "      <td>943144</td>\n",
              "      <td>5000000</td>\n",
              "      <td>9</td>\n",
              "      <td>1</td>\n",
              "      <td>79</td>\n",
              "      <td>0.0</td>\n",
              "      <td>25</td>\n",
              "      <td>123.0</td>\n",
              "      <td>5.0</td>\n",
              "      <td>0.0</td>\n",
              "      <td>0.0</td>\n",
              "      <td>2.0</td>\n",
              "      <td>1.0</td>\n",
              "      <td>10</td>\n",
              "      <td>2</td>\n",
              "      <td>4</td>\n",
              "      <td>0.0</td>\n",
              "      <td>8.0</td>\n",
              "      <td>0.9</td>\n",
              "      <td>True</td>\n",
              "    </tr>\n",
              "    <tr>\n",
              "      <th>4</th>\n",
              "      <td>4</td>\n",
              "      <td>1015972</td>\n",
              "      <td>16000000</td>\n",
              "      <td>9</td>\n",
              "      <td>0</td>\n",
              "      <td>1</td>\n",
              "      <td>0.0</td>\n",
              "      <td>28</td>\n",
              "      <td>123.0</td>\n",
              "      <td>1.0</td>\n",
              "      <td>0.0</td>\n",
              "      <td>1.0</td>\n",
              "      <td>15.0</td>\n",
              "      <td>0.0</td>\n",
              "      <td>10</td>\n",
              "      <td>2</td>\n",
              "      <td>7</td>\n",
              "      <td>24100000.0</td>\n",
              "      <td>0.0</td>\n",
              "      <td>0.4</td>\n",
              "      <td>False</td>\n",
              "    </tr>\n",
              "    <tr>\n",
              "      <th>...</th>\n",
              "      <td>...</td>\n",
              "      <td>...</td>\n",
              "      <td>...</td>\n",
              "      <td>...</td>\n",
              "      <td>...</td>\n",
              "      <td>...</td>\n",
              "      <td>...</td>\n",
              "      <td>...</td>\n",
              "      <td>...</td>\n",
              "      <td>...</td>\n",
              "      <td>...</td>\n",
              "      <td>...</td>\n",
              "      <td>...</td>\n",
              "      <td>...</td>\n",
              "      <td>...</td>\n",
              "      <td>...</td>\n",
              "      <td>...</td>\n",
              "      <td>...</td>\n",
              "      <td>...</td>\n",
              "      <td>...</td>\n",
              "      <td>...</td>\n",
              "    </tr>\n",
              "    <tr>\n",
              "      <th>10195</th>\n",
              "      <td>10195</td>\n",
              "      <td>1801710</td>\n",
              "      <td>12000000</td>\n",
              "      <td>12</td>\n",
              "      <td>0</td>\n",
              "      <td>26</td>\n",
              "      <td>0.0</td>\n",
              "      <td>35</td>\n",
              "      <td>123.0</td>\n",
              "      <td>5.0</td>\n",
              "      <td>1.0</td>\n",
              "      <td>2.0</td>\n",
              "      <td>1.0</td>\n",
              "      <td>0.0</td>\n",
              "      <td>13</td>\n",
              "      <td>2</td>\n",
              "      <td>14</td>\n",
              "      <td>17900000.0</td>\n",
              "      <td>0.0</td>\n",
              "      <td>0.9</td>\n",
              "      <td>True</td>\n",
              "    </tr>\n",
              "    <tr>\n",
              "      <th>10196</th>\n",
              "      <td>10196</td>\n",
              "      <td>1803670</td>\n",
              "      <td>10000000</td>\n",
              "      <td>12</td>\n",
              "      <td>0</td>\n",
              "      <td>1</td>\n",
              "      <td>0.0</td>\n",
              "      <td>34</td>\n",
              "      <td>126.0</td>\n",
              "      <td>1.0</td>\n",
              "      <td>1.0</td>\n",
              "      <td>3.0</td>\n",
              "      <td>9.0</td>\n",
              "      <td>1.0</td>\n",
              "      <td>13</td>\n",
              "      <td>5</td>\n",
              "      <td>14</td>\n",
              "      <td>28050000.0</td>\n",
              "      <td>0.0</td>\n",
              "      <td>0.9</td>\n",
              "      <td>True</td>\n",
              "    </tr>\n",
              "    <tr>\n",
              "      <th>10197</th>\n",
              "      <td>10197</td>\n",
              "      <td>1800734</td>\n",
              "      <td>10000000</td>\n",
              "      <td>12</td>\n",
              "      <td>0</td>\n",
              "      <td>79</td>\n",
              "      <td>0.0</td>\n",
              "      <td>31</td>\n",
              "      <td>123.0</td>\n",
              "      <td>1.0</td>\n",
              "      <td>0.0</td>\n",
              "      <td>0.0</td>\n",
              "      <td>4.0</td>\n",
              "      <td>0.0</td>\n",
              "      <td>13</td>\n",
              "      <td>2</td>\n",
              "      <td>14</td>\n",
              "      <td>33400000.0</td>\n",
              "      <td>0.0</td>\n",
              "      <td>0.9</td>\n",
              "      <td>True</td>\n",
              "    </tr>\n",
              "    <tr>\n",
              "      <th>10198</th>\n",
              "      <td>10198</td>\n",
              "      <td>1751348</td>\n",
              "      <td>7000000</td>\n",
              "      <td>12</td>\n",
              "      <td>0</td>\n",
              "      <td>1</td>\n",
              "      <td>0.0</td>\n",
              "      <td>35</td>\n",
              "      <td>126.0</td>\n",
              "      <td>1.0</td>\n",
              "      <td>1.0</td>\n",
              "      <td>2.0</td>\n",
              "      <td>1.0</td>\n",
              "      <td>2.0</td>\n",
              "      <td>13</td>\n",
              "      <td>2</td>\n",
              "      <td>15</td>\n",
              "      <td>10300000.0</td>\n",
              "      <td>0.0</td>\n",
              "      <td>0.7</td>\n",
              "      <td>True</td>\n",
              "    </tr>\n",
              "    <tr>\n",
              "      <th>10199</th>\n",
              "      <td>10199</td>\n",
              "      <td>940012</td>\n",
              "      <td>5000000</td>\n",
              "      <td>9</td>\n",
              "      <td>1</td>\n",
              "      <td>79</td>\n",
              "      <td>0.0</td>\n",
              "      <td>28</td>\n",
              "      <td>121.0</td>\n",
              "      <td>5.0</td>\n",
              "      <td>1.0</td>\n",
              "      <td>0.0</td>\n",
              "      <td>5.0</td>\n",
              "      <td>1.0</td>\n",
              "      <td>10</td>\n",
              "      <td>5</td>\n",
              "      <td>4</td>\n",
              "      <td>0.0</td>\n",
              "      <td>5.0</td>\n",
              "      <td>1.0</td>\n",
              "      <td>True</td>\n",
              "    </tr>\n",
              "  </tbody>\n",
              "</table>\n",
              "<p>10200 rows × 21 columns</p>\n",
              "</div>\n",
              "      <button class=\"colab-df-convert\" onclick=\"convertToInteractive('df-77c7bf0b-a66f-45a4-bbcf-1a4171c1ea59')\"\n",
              "              title=\"Convert this dataframe to an interactive table.\"\n",
              "              style=\"display:none;\">\n",
              "        \n",
              "  <svg xmlns=\"http://www.w3.org/2000/svg\" height=\"24px\"viewBox=\"0 0 24 24\"\n",
              "       width=\"24px\">\n",
              "    <path d=\"M0 0h24v24H0V0z\" fill=\"none\"/>\n",
              "    <path d=\"M18.56 5.44l.94 2.06.94-2.06 2.06-.94-2.06-.94-.94-2.06-.94 2.06-2.06.94zm-11 1L8.5 8.5l.94-2.06 2.06-.94-2.06-.94L8.5 2.5l-.94 2.06-2.06.94zm10 10l.94 2.06.94-2.06 2.06-.94-2.06-.94-.94-2.06-.94 2.06-2.06.94z\"/><path d=\"M17.41 7.96l-1.37-1.37c-.4-.4-.92-.59-1.43-.59-.52 0-1.04.2-1.43.59L10.3 9.45l-7.72 7.72c-.78.78-.78 2.05 0 2.83L4 21.41c.39.39.9.59 1.41.59.51 0 1.02-.2 1.41-.59l7.78-7.78 2.81-2.81c.8-.78.8-2.07 0-2.86zM5.41 20L4 18.59l7.72-7.72 1.47 1.35L5.41 20z\"/>\n",
              "  </svg>\n",
              "      </button>\n",
              "      \n",
              "  <style>\n",
              "    .colab-df-container {\n",
              "      display:flex;\n",
              "      flex-wrap:wrap;\n",
              "      gap: 12px;\n",
              "    }\n",
              "\n",
              "    .colab-df-convert {\n",
              "      background-color: #E8F0FE;\n",
              "      border: none;\n",
              "      border-radius: 50%;\n",
              "      cursor: pointer;\n",
              "      display: none;\n",
              "      fill: #1967D2;\n",
              "      height: 32px;\n",
              "      padding: 0 0 0 0;\n",
              "      width: 32px;\n",
              "    }\n",
              "\n",
              "    .colab-df-convert:hover {\n",
              "      background-color: #E2EBFA;\n",
              "      box-shadow: 0px 1px 2px rgba(60, 64, 67, 0.3), 0px 1px 3px 1px rgba(60, 64, 67, 0.15);\n",
              "      fill: #174EA6;\n",
              "    }\n",
              "\n",
              "    [theme=dark] .colab-df-convert {\n",
              "      background-color: #3B4455;\n",
              "      fill: #D2E3FC;\n",
              "    }\n",
              "\n",
              "    [theme=dark] .colab-df-convert:hover {\n",
              "      background-color: #434B5C;\n",
              "      box-shadow: 0px 1px 3px 1px rgba(0, 0, 0, 0.15);\n",
              "      filter: drop-shadow(0px 1px 2px rgba(0, 0, 0, 0.3));\n",
              "      fill: #FFFFFF;\n",
              "    }\n",
              "  </style>\n",
              "\n",
              "      <script>\n",
              "        const buttonEl =\n",
              "          document.querySelector('#df-77c7bf0b-a66f-45a4-bbcf-1a4171c1ea59 button.colab-df-convert');\n",
              "        buttonEl.style.display =\n",
              "          google.colab.kernel.accessAllowed ? 'block' : 'none';\n",
              "\n",
              "        async function convertToInteractive(key) {\n",
              "          const element = document.querySelector('#df-77c7bf0b-a66f-45a4-bbcf-1a4171c1ea59');\n",
              "          const dataTable =\n",
              "            await google.colab.kernel.invokeFunction('convertToInteractive',\n",
              "                                                     [key], {});\n",
              "          if (!dataTable) return;\n",
              "\n",
              "          const docLinkHtml = 'Like what you see? Visit the ' +\n",
              "            '<a target=\"_blank\" href=https://colab.research.google.com/notebooks/data_table.ipynb>data table notebook</a>'\n",
              "            + ' to learn more about interactive tables.';\n",
              "          element.innerHTML = '';\n",
              "          dataTable['output_type'] = 'display_data';\n",
              "          await google.colab.output.renderOutput(dataTable, element);\n",
              "          const docLink = document.createElement('div');\n",
              "          docLink.innerHTML = docLinkHtml;\n",
              "          element.appendChild(docLink);\n",
              "        }\n",
              "      </script>\n",
              "    </div>\n",
              "  </div>\n",
              "  "
            ],
            "text/plain": [
              "       Unnamed: 0  LoanBriefID  LoanAmount  ...  NumberCall  score  label_result\n",
              "0               0      1095199    30000000  ...         0.0    1.0          True\n",
              "1               1       950035    12000000  ...         1.0    0.6         False\n",
              "2               2       975972    10000000  ...         1.0    0.9          True\n",
              "3               3       943144     5000000  ...         8.0    0.9          True\n",
              "4               4      1015972    16000000  ...         0.0    0.4         False\n",
              "...           ...          ...         ...  ...         ...    ...           ...\n",
              "10195       10195      1801710    12000000  ...         0.0    0.9          True\n",
              "10196       10196      1803670    10000000  ...         0.0    0.9          True\n",
              "10197       10197      1800734    10000000  ...         0.0    0.9          True\n",
              "10198       10198      1751348     7000000  ...         0.0    0.7          True\n",
              "10199       10199       940012     5000000  ...         5.0    1.0          True\n",
              "\n",
              "[10200 rows x 21 columns]"
            ]
          },
          "metadata": {},
          "execution_count": 17
        },
        {
          "output_type": "stream",
          "name": "stdout",
          "text": [
            "Warning: Total number of columns (21) exceeds max_columns (20) limiting to first (20) columns.\n"
          ]
        }
      ]
    },
    {
      "cell_type": "markdown",
      "source": [
        "# **Process data**"
      ],
      "metadata": {
        "id": "C4-XSdeI_1CN"
      }
    },
    {
      "cell_type": "code",
      "source": [
        "features = ['LoanAmount', 'LoanTime', 'IsReMarketing',\n",
        "       'ProvinceId', 'Gender', 'Age', 'JobId', 'ImcomeType', 'IsMerried',\n",
        "       'NumberBaby', 'RelationshipType', 'LivingWith', 'RateTypeId',\n",
        "       'ProductId', 'ResidentType', 'LoanAmountExpertiseAI', 'NumberCall']"
      ],
      "metadata": {
        "id": "tc0ctqkc-xqV"
      },
      "execution_count": 5,
      "outputs": []
    },
    {
      "cell_type": "code",
      "source": [
        "X = df[features]\n",
        "Y = df['label_result']"
      ],
      "metadata": {
        "id": "SskxaC94-yl8"
      },
      "execution_count": 6,
      "outputs": []
    },
    {
      "cell_type": "code",
      "source": [
        "X_train,X_test,y_train,y_test=train_test_split(X,Y,test_size=0.3,random_state=42)"
      ],
      "metadata": {
        "id": "4Rd4DACK-zhF"
      },
      "execution_count": 7,
      "outputs": []
    },
    {
      "cell_type": "markdown",
      "source": [
        "# **Train model**"
      ],
      "metadata": {
        "id": "ojmbe9vBACKk"
      }
    },
    {
      "cell_type": "code",
      "source": [
        "# Train Model\n",
        "\n",
        "# soft voting\n",
        "clf1 = RandomForestClassifier(n_estimators=200, class_weight={0: 100, 1: 1})\n",
        "clf2 = GradientBoostingClassifier(n_estimators=1000, max_depth=7)\n",
        "clf3 = ExtraTreesClassifier(n_estimators=1000, class_weight={0: 100, 1: 1})\n",
        "clf4 = XGBClassifier(n_estimators=1000, max_depth=5, learning_rate=0.01)\n",
        "pos_clf = VotingClassifier(estimators=[('pos', clf1), ('gb', clf2),\n",
        "                                        ('et', clf3), ('xgb', clf4)],\n",
        "                            voting='soft',\n",
        "                            weights=[1, 2, 1, 1])\n",
        "pos_clf.fit(np.array(X_train), np.array(y_train))\n",
        "\n",
        "# LightGBM\n",
        "neg_clf = LGBMClassifier(n_estimators=1000, objective='binary',\n",
        "                          class_weight={0:25, 1:1}, learning_rate=0.01,\n",
        "                          boosting_type='dart')\n",
        "neg_clf.fit(X_train, y_train)"
      ],
      "metadata": {
        "colab": {
          "base_uri": "https://localhost:8080/"
        },
        "id": "7U_DSZGt-0u5",
        "outputId": "06de02e9-1222-4263-f86c-1673f1bd604f"
      },
      "execution_count": 8,
      "outputs": [
        {
          "output_type": "execute_result",
          "data": {
            "text/plain": [
              "LGBMClassifier(boosting_type='dart', class_weight={0: 25, 1: 1},\n",
              "               learning_rate=0.01, n_estimators=1000, objective='binary')"
            ]
          },
          "metadata": {},
          "execution_count": 8
        }
      ]
    },
    {
      "cell_type": "markdown",
      "source": [
        "**Predict**"
      ],
      "metadata": {
        "id": "Vfr9aftoAIxT"
      }
    },
    {
      "cell_type": "code",
      "source": [
        "pos_clf = pos_clf.predict_proba(np.array(X_test))\n",
        "##\n",
        "neg_clf = neg_clf.predict_proba(np.array(X_test))"
      ],
      "metadata": {
        "id": "HGIPtHT7-2Bs"
      },
      "execution_count": 9,
      "outputs": []
    },
    {
      "cell_type": "markdown",
      "source": [
        "**Config**"
      ],
      "metadata": {
        "id": "YqW8V8RzAQCX"
      }
    },
    {
      "cell_type": "code",
      "source": [
        "MODEL = {'weights' : {'pos':0.5, 'neg':0.5},\n",
        "         'probs' : {'pos':0.845, 'neg':0.9},\n",
        "         'probs_cfn_certain' : {'pos':0.8, 'neg': 0.95},\n",
        "         'probs_cfn' : {'pos':0.65, 'neg':0.95}}"
      ],
      "metadata": {
        "id": "e9IpHgDP-3jZ"
      },
      "execution_count": 10,
      "outputs": []
    },
    {
      "cell_type": "markdown",
      "source": [
        "# **Process problem**"
      ],
      "metadata": {
        "id": "GpnBoDlLAZdW"
      }
    },
    {
      "cell_type": "code",
      "source": [
        "y =[]\n",
        "for i in range(len(X_test)):\n",
        "  pos = pos_clf[i]\n",
        "  neg = neg_clf[i]\n",
        "  if pos[1] >= MODEL['probs']['pos']:\n",
        "    y.append((1, pos[1], 'pos'))\n",
        "  elif neg[0] >= MODEL['probs']['neg']:  \n",
        "    y.append((0, neg[0], 'neg'))\n",
        "  else: \n",
        "    merge = pos * MODEL['weights']['pos'] + neg*MODEL['weights']['neg']\n",
        "    label = np.argmax(merge)\n",
        "    if label == 1 and merge[label] >= MODEL['probs']['pos']:\n",
        "      merge[label] = MODEL['probs']['pos']\n",
        "    elif label == 0 and MODEL['probs']['neg']:\n",
        "      merge[label] = MODEL['probs']['neg']\n",
        "\n",
        "    if label == 1 and merge[label] >= MODEL['probs_cfn_certain']['pos']:\n",
        "      y.append((np.argmax(merge), merge[label], 'special_confusion'))\n",
        "    elif label == 0 and merge[label] >= MODEL['probs_cfn_certain']['neg']:\n",
        "      y.append((np.argmax(merge), merge[label], 'special_confusion'))\n",
        "    else: # not certain\n",
        "      y.append((np.argmax(merge), merge[label], 'confuse'))\n",
        "print(y)"
      ],
      "metadata": {
        "colab": {
          "base_uri": "https://localhost:8080/"
        },
        "id": "urKAG6WJ_KdS",
        "outputId": "4adfd7b7-4409-43b9-b96b-47d29b2480ab"
      },
      "execution_count": 12,
      "outputs": [
        {
          "output_type": "stream",
          "name": "stdout",
          "text": [
            "[(1, 0.9136001627247137, 'pos'), (1, 0.9071759948809148, 'pos'), (1, 0.964498606769245, 'pos'), (1, 0.9872907314902619, 'pos'), (1, 0.96587053498037, 'pos'), (1, 0.9641937700837824, 'pos'), (1, 0.9184930312402816, 'pos'), (1, 0.9584867721567327, 'pos'), (1, 0.9405755966536073, 'pos'), (1, 0.9760223402980271, 'pos'), (1, 0.9598170386690889, 'pos'), (0, 0.908491010110915, 'neg'), (1, 0.945168969032786, 'pos'), (1, 0.9066360624353061, 'pos'), (1, 0.9404727458912705, 'pos'), (0, 0.947115643211946, 'neg'), (1, 0.8526355091625225, 'pos'), (1, 0.9534239936233055, 'pos'), (1, 0.9280404483155292, 'pos'), (1, 0.9811026148800817, 'pos'), (0, 0.9025179869918046, 'neg'), (1, 0.9645163037423782, 'pos'), (0, 0.9, 'confuse'), (1, 0.9489288374753173, 'pos'), (1, 0.9561156292942741, 'pos'), (1, 0.9531274191936697, 'pos'), (0, 0.9, 'confuse'), (1, 0.9323792673489105, 'pos'), (0, 0.947115643211946, 'neg'), (0, 0.947115643211946, 'neg'), (1, 0.9556444860930371, 'pos'), (1, 0.8475754058353069, 'pos'), (1, 0.9542870561140167, 'pos'), (1, 0.9673648258864809, 'pos'), (1, 0.9470108967633948, 'pos'), (1, 0.9884718445589702, 'pos'), (1, 0.9423384791453575, 'pos'), (1, 0.948935060023963, 'pos'), (1, 0.9283455965758449, 'pos'), (1, 0.9208869109561686, 'pos'), (1, 0.9573362289221109, 'pos'), (0, 0.9048990222176992, 'neg'), (1, 0.8855919908663067, 'pos'), (0, 0.9, 'confuse'), (0, 0.9, 'confuse'), (0, 0.947115643211946, 'neg'), (1, 0.9251823446107051, 'pos'), (1, 0.8795878423378063, 'pos'), (1, 0.9692245599438856, 'pos'), (1, 0.9263713566549076, 'pos'), (1, 0.9674846432502611, 'pos'), (1, 0.9625581224059147, 'pos'), (1, 0.9517048224096747, 'pos'), (0, 0.947115643211946, 'neg'), (1, 0.936444904981105, 'pos'), (1, 0.9232829986279446, 'pos'), (1, 0.8685499739644506, 'pos'), (1, 0.9669218490457059, 'pos'), (1, 0.9233213910888896, 'pos'), (1, 0.9727078266595856, 'pos'), (0, 0.9, 'confuse'), (1, 0.9188184378708432, 'pos'), (1, 0.9586784663286789, 'pos'), (1, 0.9092682498609918, 'pos'), (1, 0.9725094223752911, 'pos'), (1, 0.9445957626645622, 'pos'), (1, 0.9640632212173733, 'pos'), (1, 0.9751522143562523, 'pos'), (1, 0.9429864907469921, 'pos'), (1, 0.9695417177738246, 'pos'), (1, 0.9731042062536763, 'pos'), (1, 0.8886471155650717, 'pos'), (0, 0.947115643211946, 'neg'), (1, 0.9359826128711195, 'pos'), (1, 0.9358138875572639, 'pos'), (1, 0.9715653871539471, 'pos'), (1, 0.9258224926179534, 'pos'), (0, 0.9, 'confuse'), (1, 0.9276275802443188, 'pos'), (1, 0.9471341043016487, 'pos'), (0, 0.947115643211946, 'neg'), (1, 0.9656851259030221, 'pos'), (1, 0.9000912756442258, 'pos'), (1, 0.9209545489227946, 'pos'), (1, 0.9760953487096803, 'pos'), (1, 0.9690405712776234, 'pos'), (1, 0.9299050464664969, 'pos'), (1, 0.940150225575254, 'pos'), (1, 0.9568443352982898, 'pos'), (0, 0.9213680419539239, 'neg'), (1, 0.9268385467099703, 'pos'), (1, 0.9763684989475137, 'pos'), (1, 0.9068309180123986, 'pos'), (1, 0.8939789708256447, 'pos'), (1, 0.8863804544422713, 'pos'), (1, 0.9743113753924659, 'pos'), (1, 0.9700891960758536, 'pos'), (1, 0.9763588494319574, 'pos'), (0, 0.947115643211946, 'neg'), (1, 0.9034612570703349, 'pos'), (0, 0.947115643211946, 'neg'), (1, 0.9292691397202232, 'pos'), (1, 0.9457124577514815, 'pos'), (1, 0.9396328688506678, 'pos'), (1, 0.9602525994859953, 'pos'), (1, 0.9299833488024168, 'pos'), (1, 0.9029197388560647, 'pos'), (1, 0.9561507389584563, 'pos'), (1, 0.8882873234543858, 'pos'), (1, 0.9671360955645445, 'pos'), (1, 0.9608832780110852, 'pos'), (0, 0.947115643211946, 'neg'), (1, 0.9610359687118178, 'pos'), (1, 0.8964540420242713, 'pos'), (1, 0.952216676530457, 'pos'), (1, 0.5090786885216433, 'confuse'), (1, 0.9711916167451609, 'pos'), (1, 0.9860229355474551, 'pos'), (1, 0.9246805816606234, 'pos'), (1, 0.9653645211452198, 'pos'), (1, 0.8515469252014165, 'pos'), (1, 0.9377387351378639, 'pos'), (1, 0.9541788641681471, 'pos'), (1, 0.9478741328134916, 'pos'), (0, 0.9, 'confuse'), (1, 0.9632611388617566, 'pos'), (1, 0.517063251934787, 'confuse'), (0, 0.9288666442985607, 'neg'), (1, 0.9489782606445558, 'pos'), (0, 0.9390025768818803, 'neg'), (1, 0.9229447225946273, 'pos'), (1, 0.899579441390526, 'pos'), (1, 0.930302716069121, 'pos'), (1, 0.9879320586837161, 'pos'), (0, 0.947115643211946, 'neg'), (1, 0.9819715324305542, 'pos'), (0, 0.947115643211946, 'neg'), (1, 0.8959600704827476, 'pos'), (1, 0.9312179028048853, 'pos'), (0, 0.9, 'confuse'), (0, 0.9, 'confuse'), (1, 0.9619452075649313, 'pos'), (1, 0.9575496153146844, 'pos'), (1, 0.9487770326559257, 'pos'), (1, 0.9781691198100777, 'pos'), (1, 0.9158624408417542, 'pos'), (0, 0.9, 'confuse'), (0, 0.947115643211946, 'neg'), (0, 0.947115643211946, 'neg'), (1, 0.9734568767110321, 'pos'), (1, 0.9546222644584226, 'pos'), (0, 0.947115643211946, 'neg'), (1, 0.9067010538173992, 'pos'), (1, 0.9454778001574823, 'pos'), (1, 0.9167414059284045, 'pos'), (1, 0.8893530469367592, 'pos'), (0, 0.908491010110915, 'neg'), (1, 0.5704794926950072, 'confuse'), (1, 0.9120274223417784, 'pos'), (1, 0.9548867341056553, 'pos'), (0, 0.9, 'confuse'), (1, 0.8560806898138094, 'pos'), (0, 0.908491010110915, 'neg'), (1, 0.8524295624705754, 'pos'), (1, 0.972692800442605, 'pos'), (1, 0.9456755983955849, 'pos'), (1, 0.9350064264672213, 'pos'), (1, 0.935937330557105, 'pos'), (1, 0.9758046632757296, 'pos'), (1, 0.9615683926948801, 'pos'), (1, 0.974127466743542, 'pos'), (1, 0.9566616821594802, 'pos'), (1, 0.5508104253031707, 'confuse'), (1, 0.9111641826910526, 'pos'), (1, 0.9802668474892681, 'pos'), (0, 0.947115643211946, 'neg'), (1, 0.9734702251413474, 'pos'), (1, 0.9631311035976022, 'pos'), (1, 0.9048198485955726, 'pos'), (0, 0.9, 'confuse'), (1, 0.9542990127243947, 'pos'), (1, 0.9385878112806413, 'pos'), (1, 0.9082991453540601, 'pos'), (1, 0.9082839348230103, 'pos'), (0, 0.9, 'confuse'), (0, 0.947115643211946, 'neg'), (1, 0.9689956512517235, 'pos'), (0, 0.9135570468346395, 'neg'), (0, 0.9135570468346395, 'neg'), (1, 0.9047357714747667, 'pos'), (1, 0.9548046025637154, 'pos'), (1, 0.9390203906565002, 'pos'), (1, 0.9645414007940822, 'pos'), (1, 0.87721718147939, 'pos'), (1, 0.9641417398094616, 'pos'), (1, 0.5108729292687966, 'confuse'), (1, 0.8544776357443885, 'pos'), (1, 0.9681518213437934, 'pos'), (1, 0.8830008189429813, 'pos'), (0, 0.947115643211946, 'neg'), (0, 0.9135570468346395, 'neg'), (1, 0.8848640176100041, 'pos'), (1, 0.9805718322790963, 'pos'), (1, 0.9333378790960388, 'pos'), (0, 0.9135570468346395, 'neg'), (1, 0.9111098988747293, 'pos'), (1, 0.9451891240732253, 'pos'), (1, 0.905963875578997, 'pos'), (1, 0.9242764858329249, 'pos'), (1, 0.88338115686437, 'pos'), (1, 0.9732543296178818, 'pos'), (1, 0.9377196000066249, 'pos'), (1, 0.5317338090503239, 'confuse'), (1, 0.9267765840501706, 'pos'), (1, 0.964174374551488, 'pos'), (1, 0.5729036453286349, 'confuse'), (0, 0.9135570468346395, 'neg'), (1, 0.9687341623461269, 'pos'), (1, 0.8601043457578467, 'pos'), (1, 0.963380514821522, 'pos'), (1, 0.913489458002369, 'pos'), (1, 0.9216968386666882, 'pos'), (1, 0.9855865403895503, 'pos'), (1, 0.9704939478989936, 'pos'), (1, 0.8485417202291791, 'pos'), (1, 0.8764896018512133, 'pos'), (1, 0.9305099197839326, 'pos'), (1, 0.948702807032873, 'pos'), (1, 0.9113790119294313, 'pos'), (1, 0.9678182309601648, 'pos'), (1, 0.513620915215009, 'confuse'), (1, 0.9444978851970778, 'pos'), (1, 0.6213676021449849, 'confuse'), (1, 0.9782847954758491, 'pos'), (0, 0.947115643211946, 'neg'), (1, 0.9648570015459306, 'pos'), (1, 0.8631923042235279, 'pos'), (1, 0.9584136068872894, 'pos'), (1, 0.9480822333248693, 'pos'), (1, 0.9674553321539688, 'pos'), (1, 0.9890933115932732, 'pos'), (1, 0.9234505836179352, 'pos'), (1, 0.8929339614809436, 'pos'), (1, 0.9737612926624697, 'pos'), (0, 0.9000341840570604, 'neg'), (1, 0.9312980628561449, 'pos'), (1, 0.9401597405591591, 'pos'), (1, 0.9552530995678034, 'pos'), (0, 0.9381721780149984, 'neg'), (1, 0.931018732644457, 'pos'), (1, 0.9792884729213046, 'pos'), (1, 0.9204365165549273, 'pos'), (1, 0.9815236530349164, 'pos'), (1, 0.9739848025197105, 'pos'), (0, 0.9, 'confuse'), (1, 0.9290942470603692, 'pos'), (1, 0.9110648544882214, 'pos'), (1, 0.8851751973231808, 'pos'), (1, 0.9619694084560505, 'pos'), (1, 0.9581178640450825, 'pos'), (1, 0.9589281192299488, 'pos'), (1, 0.9610371945279669, 'pos'), (0, 0.9390025768818803, 'neg'), (1, 0.9370602855476818, 'pos'), (1, 0.9668905972447945, 'pos'), (1, 0.8928676963187734, 'pos'), (1, 0.9172492257060034, 'pos'), (1, 0.8620178067438168, 'pos'), (0, 0.947115643211946, 'neg'), (1, 0.914231662476413, 'pos'), (1, 0.9491440510455206, 'pos'), (1, 0.9583985200609654, 'pos'), (1, 0.9599050763916244, 'pos'), (1, 0.9672095278616103, 'pos'), (1, 0.950628672006741, 'pos'), (1, 0.962846784052952, 'pos'), (1, 0.9355266849086907, 'pos'), (1, 0.9682643134555331, 'pos'), (1, 0.9004240781471264, 'pos'), (1, 0.9331903385997322, 'pos'), (1, 0.9709577376799802, 'pos'), (1, 0.9580864167014445, 'pos'), (1, 0.9199281893756168, 'pos'), (1, 0.5450338976608541, 'confuse'), (1, 0.9590830166509416, 'pos'), (1, 0.9508417991800412, 'pos'), (1, 0.9564096728577798, 'pos'), (1, 0.8831387668597909, 'pos'), (0, 0.947115643211946, 'neg'), (1, 0.919336697157609, 'pos'), (0, 0.947115643211946, 'neg'), (1, 0.9457340623596628, 'pos'), (0, 0.947115643211946, 'neg'), (1, 0.9655623907353907, 'pos'), (0, 0.908491010110915, 'neg'), (1, 0.9774250421068331, 'pos'), (1, 0.9300279020047493, 'pos'), (1, 0.9620271296854277, 'pos'), (1, 0.9115169200025637, 'pos'), (1, 0.959401648046638, 'pos'), (1, 0.9821732871141551, 'pos'), (1, 0.9665316592968554, 'pos'), (1, 0.9311562224086813, 'pos'), (0, 0.9, 'confuse'), (1, 0.9311106537243983, 'pos'), (1, 0.9536203988061877, 'pos'), (1, 0.9267722671211203, 'pos'), (1, 0.961745264806324, 'pos'), (1, 0.9265325627174639, 'pos'), (1, 0.9740509130210759, 'pos'), (1, 0.9167854426283342, 'pos'), (1, 0.9682155716609003, 'pos'), (1, 0.9243262914575674, 'pos'), (1, 0.9730709975537412, 'pos'), (1, 0.9775877379323756, 'pos'), (1, 0.9218336673458548, 'pos'), (1, 0.9330271354094769, 'pos'), (0, 0.947115643211946, 'neg'), (1, 0.9736196988439371, 'pos'), (1, 0.8490482839742952, 'pos'), (1, 0.9688706068381523, 'pos'), (1, 0.9697881975384266, 'pos'), (1, 0.9474895758611108, 'pos'), (1, 0.919528668504659, 'pos'), (1, 0.8736773214071516, 'pos'), (1, 0.9729866451150964, 'pos'), (1, 0.9086658187238233, 'pos'), (1, 0.9602274542280564, 'pos'), (1, 0.9836030537422527, 'pos'), (1, 0.9125671965291474, 'pos'), (1, 0.9768781368946684, 'pos'), (1, 0.984956245060717, 'pos'), (1, 0.9655471278155933, 'pos'), (1, 0.9240268633325126, 'pos'), (1, 0.5006718396488831, 'confuse'), (1, 0.9663022401929375, 'pos'), (1, 0.9859716111401046, 'pos'), (1, 0.9806376194573101, 'pos'), (1, 0.9592410120692086, 'pos'), (1, 0.9635546555871098, 'pos'), (1, 0.9514830544173318, 'pos'), (1, 0.5304856007067686, 'confuse'), (1, 0.9882832905898983, 'pos'), (1, 0.9369692518511925, 'pos'), (1, 0.9249877742674121, 'pos'), (1, 0.9046628278091685, 'pos'), (1, 0.9685794261438433, 'pos'), (1, 0.9637493960742354, 'pos'), (1, 0.9661463462164983, 'pos'), (1, 0.9025283314616347, 'pos'), (1, 0.9442159010995852, 'pos'), (1, 0.9012811974899584, 'pos'), (1, 0.9412867111657691, 'pos'), (1, 0.9565455246161825, 'pos'), (1, 0.8777253481889364, 'pos'), (0, 0.9135570468346395, 'neg'), (1, 0.9329613015110111, 'pos'), (1, 0.8714243827550454, 'pos'), (0, 0.947115643211946, 'neg'), (1, 0.9134546612270565, 'pos'), (1, 0.945122792116338, 'pos'), (0, 0.947115643211946, 'neg'), (1, 0.9130202153276171, 'pos'), (1, 0.9391457660047928, 'pos'), (0, 0.9, 'confuse'), (1, 0.9357487361359815, 'pos'), (1, 0.9370214399437714, 'pos'), (1, 0.9724264893439714, 'pos'), (1, 0.9225794350223738, 'pos'), (1, 0.9213893041064078, 'pos'), (0, 0.947115643211946, 'neg'), (1, 0.9743438493406034, 'pos'), (1, 0.9728215155898914, 'pos'), (1, 0.8935207117262761, 'pos'), (1, 0.9540355297104297, 'pos'), (1, 0.9540370654187917, 'pos'), (1, 0.9809714741766158, 'pos'), (0, 0.9381721780149984, 'neg'), (1, 0.5848636303303735, 'confuse'), (1, 0.9456291835807379, 'pos'), (0, 0.9, 'confuse'), (1, 0.8938555932519765, 'pos'), (1, 0.9204250347392182, 'pos'), (0, 0.9025179869918046, 'neg'), (1, 0.9673667978589702, 'pos'), (1, 0.9757461232886584, 'pos'), (1, 0.8451578527801441, 'pos'), (0, 0.947115643211946, 'neg'), (0, 0.9, 'confuse'), (1, 0.897218396923833, 'pos'), (1, 0.9203431996468721, 'pos'), (1, 0.9669917457001851, 'pos'), (1, 0.9211814535288486, 'pos'), (1, 0.9703741381076216, 'pos'), (1, 0.9045040839589416, 'pos'), (1, 0.9491434540535139, 'pos'), (0, 0.947115643211946, 'neg'), (1, 0.8955227752030192, 'pos'), (1, 0.98708202852628, 'pos'), (1, 0.9519092553960636, 'pos'), (1, 0.9735874236533368, 'pos'), (1, 0.5134636322562102, 'confuse'), (1, 0.5667955200834651, 'confuse'), (1, 0.8484884008419609, 'pos'), (1, 0.9707442809255232, 'pos'), (1, 0.9384666097142285, 'pos'), (1, 0.9455033976657929, 'pos'), (1, 0.9181211366391956, 'pos'), (1, 0.9649977157719128, 'pos'), (1, 0.9452155604457679, 'pos'), (1, 0.9706996901987066, 'pos'), (1, 0.9455140525641778, 'pos'), (1, 0.9695672653949238, 'pos'), (1, 0.9358708942012705, 'pos'), (1, 0.9745498225719789, 'pos'), (1, 0.9540957513887847, 'pos'), (1, 0.9812094871442906, 'pos'), (0, 0.947115643211946, 'neg'), (1, 0.858637450096138, 'pos'), (1, 0.9803127340303023, 'pos'), (1, 0.8737472267812884, 'pos'), (1, 0.951000051821639, 'pos'), (0, 0.9, 'confuse'), (1, 0.922111323015652, 'pos'), (1, 0.9461479340624486, 'pos'), (1, 0.9465607165537818, 'pos'), (1, 0.9725273543812701, 'pos'), (0, 0.947115643211946, 'neg'), (1, 0.9653635391429383, 'pos'), (0, 0.947115643211946, 'neg'), (1, 0.9638927005509302, 'pos'), (1, 0.8571735855208272, 'pos'), (1, 0.975395821171918, 'pos'), (1, 0.958822118214797, 'pos'), (1, 0.9722864397758109, 'pos'), (1, 0.959185948120911, 'pos'), (1, 0.965828085740954, 'pos'), (1, 0.9498842349824924, 'pos'), (1, 0.8627479389917717, 'pos'), (1, 0.9665917939537817, 'pos'), (1, 0.9756936636914151, 'pos'), (1, 0.9531754150323503, 'pos'), (0, 0.947115643211946, 'neg'), (1, 0.9285303678603238, 'pos'), (1, 0.9543100848679357, 'pos'), (1, 0.8954398129720428, 'pos'), (1, 0.9338417515091242, 'pos'), (1, 0.5365338182846547, 'confuse'), (1, 0.9570231117114061, 'pos'), (1, 0.9568258341668535, 'pos'), (1, 0.9735054102258284, 'pos'), (1, 0.9630925673370753, 'pos'), (0, 0.9, 'confuse'), (1, 0.9577039875169746, 'pos'), (1, 0.9520763095014321, 'pos'), (1, 0.9331884062773931, 'pos'), (1, 0.9636830832082568, 'pos'), (0, 0.9, 'confuse'), (0, 0.947115643211946, 'neg'), (1, 0.9581728187011163, 'pos'), (1, 0.9535222836576832, 'pos'), (1, 0.9527972032063134, 'pos'), (1, 0.9796298194877305, 'pos'), (1, 0.8786770234713325, 'pos'), (1, 0.9301927913948415, 'pos'), (1, 0.9067382416954842, 'pos'), (1, 0.9588952643605447, 'pos'), (1, 0.9290845892670635, 'pos'), (1, 0.9711984945964559, 'pos'), (1, 0.9813933681128401, 'pos'), (1, 0.9468427610430854, 'pos'), (1, 0.9459367058167443, 'pos'), (1, 0.9729527241217404, 'pos'), (1, 0.9360542735241124, 'pos'), (1, 0.924094112881971, 'pos'), (0, 0.9, 'confuse'), (1, 0.9538464540550244, 'pos'), (1, 0.523475361675181, 'confuse'), (1, 0.9374207963379952, 'pos'), (1, 0.9721463335772398, 'pos'), (1, 0.9501351621543815, 'pos'), (1, 0.9294755655356394, 'pos'), (1, 0.9817218189429664, 'pos'), (1, 0.9767401959101691, 'pos'), (1, 0.9232729871466188, 'pos'), (1, 0.9642407955244513, 'pos'), (0, 0.947115643211946, 'neg'), (1, 0.9200511570699283, 'pos'), (1, 0.907635807490568, 'pos'), (0, 0.947115643211946, 'neg'), (0, 0.9135570468346395, 'neg'), (1, 0.8758199496075083, 'pos'), (1, 0.9775628643374645, 'pos'), (0, 0.9373534876438286, 'neg'), (1, 0.9488895342281831, 'pos'), (1, 0.9342700154355306, 'pos'), (1, 0.9381487838478563, 'pos'), (1, 0.9040491828985944, 'pos'), (1, 0.9216693998165745, 'pos'), (0, 0.947115643211946, 'neg'), (1, 0.9392750544098354, 'pos'), (1, 0.9628703187891418, 'pos'), (1, 0.9000223462044309, 'pos'), (0, 0.9, 'confuse'), (0, 0.9135570468346395, 'neg'), (1, 0.8851885922210585, 'pos'), (1, 0.9590854509669295, 'pos'), (1, 0.9521287623162283, 'pos'), (1, 0.5227680676041752, 'confuse'), (1, 0.9294753627879893, 'pos'), (1, 0.9254622279108096, 'pos'), (1, 0.9149568673504513, 'pos'), (1, 0.9726202353256932, 'pos'), (1, 0.960589489330982, 'pos'), (1, 0.8666453434964287, 'pos'), (0, 0.947115643211946, 'neg'), (1, 0.9457249606068835, 'pos'), (1, 0.8795136350968974, 'pos'), (1, 0.896510866882118, 'pos'), (1, 0.9722815581165183, 'pos'), (1, 0.972341102921406, 'pos'), (0, 0.947115643211946, 'neg'), (1, 0.9495428102913837, 'pos'), (1, 0.9409323960630651, 'pos'), (1, 0.9283573023234173, 'pos'), (1, 0.9444747822967203, 'pos'), (0, 0.947115643211946, 'neg'), (1, 0.9366035041601929, 'pos'), (0, 0.9, 'confuse'), (1, 0.9603853799617779, 'pos'), (0, 0.9, 'confuse'), (1, 0.9774235187329641, 'pos'), (1, 0.9279136242091346, 'pos'), (1, 0.9469700769236763, 'pos'), (1, 0.9281425949390469, 'pos'), (1, 0.8549169112711124, 'pos'), (0, 0.9, 'confuse'), (1, 0.9539095359122317, 'pos'), (0, 0.947115643211946, 'neg'), (0, 0.9, 'confuse'), (1, 0.5225911969120943, 'confuse'), (1, 0.9092202289301092, 'pos'), (1, 0.9870021378867531, 'pos'), (0, 0.947115643211946, 'neg'), (0, 0.947115643211946, 'neg'), (1, 0.9244674767548723, 'pos'), (1, 0.9028200790879065, 'pos'), (1, 0.9508256868954745, 'pos'), (0, 0.9135570468346395, 'neg'), (1, 0.9452494462719304, 'pos'), (1, 0.9717209305441011, 'pos'), (1, 0.9134468524771236, 'pos'), (0, 0.9381721780149984, 'neg'), (0, 0.9135570468346395, 'neg'), (0, 0.9135570468346395, 'neg'), (1, 0.9572866372323304, 'pos'), (0, 0.9135570468346395, 'neg'), (1, 0.9749018992691125, 'pos'), (1, 0.9254866011892589, 'pos'), (1, 0.8892721775052532, 'pos'), (1, 0.971882360182744, 'pos'), (1, 0.5216826234549421, 'confuse'), (1, 0.9380099972302837, 'pos'), (1, 0.9848358738672536, 'pos'), (0, 0.9025179869918046, 'neg'), (0, 0.9, 'confuse'), (0, 0.947115643211946, 'neg'), (1, 0.9721871643685753, 'pos'), (1, 0.9122106811042554, 'pos'), (1, 0.9712410964058046, 'pos'), (1, 0.9420441261940485, 'pos'), (1, 0.8912205267973933, 'pos'), (1, 0.9368382906632664, 'pos'), (1, 0.9703481321281713, 'pos'), (1, 0.9707633589520327, 'pos'), (1, 0.9809116246576167, 'pos'), (1, 0.8698972008079707, 'pos'), (1, 0.5665500982225775, 'confuse'), (1, 0.9040720531285469, 'pos'), (0, 0.947115643211946, 'neg'), (1, 0.9610168973856302, 'pos'), (1, 0.93095480060748, 'pos'), (1, 0.9747490028129621, 'pos'), (1, 0.9022644402048863, 'pos'), (1, 0.9217323847612299, 'pos'), (1, 0.9483413630798644, 'pos'), (1, 0.9186830527296206, 'pos'), (1, 0.897097525465672, 'pos'), (0, 0.9, 'confuse'), (1, 0.9522986418298214, 'pos'), (0, 0.9, 'confuse'), (1, 0.9724039773071377, 'pos'), (1, 0.8987981542018769, 'pos'), (1, 0.977026730442623, 'pos'), (1, 0.9798078540554027, 'pos'), (1, 0.978419919113086, 'pos'), (0, 0.9, 'confuse'), (1, 0.9661318476672601, 'pos'), (0, 0.9088657257285504, 'neg'), (1, 0.9290070547146732, 'pos'), (1, 0.9801106118014488, 'pos'), (1, 0.9546009947846678, 'pos'), (1, 0.9373872113412599, 'pos'), (1, 0.9368722530336641, 'pos'), (0, 0.9, 'confuse'), (1, 0.5835367834213694, 'confuse'), (1, 0.9524912788920382, 'pos'), (0, 0.9135570468346395, 'neg'), (1, 0.9283827768014902, 'pos'), (1, 0.9534044270911283, 'pos'), (1, 0.9037344236891836, 'pos'), (0, 0.947115643211946, 'neg'), (0, 0.9135570468346395, 'neg'), (1, 0.9413377800261731, 'pos'), (1, 0.9488023491003628, 'pos'), (0, 0.9381721780149984, 'neg'), (1, 0.9512787297945564, 'pos'), (0, 0.947115643211946, 'neg'), (0, 0.9135570468346395, 'neg'), (1, 0.9466447508478983, 'pos'), (0, 0.9, 'confuse'), (1, 0.8848435554119956, 'pos'), (1, 0.9340878431778314, 'pos'), (0, 0.9, 'confuse'), (1, 0.902006991329053, 'pos'), (1, 0.8745579772650587, 'pos'), (1, 0.9321985693193702, 'pos'), (0, 0.9072238944472991, 'neg'), (1, 0.984198202875724, 'pos'), (1, 0.9608191365467474, 'pos'), (0, 0.947115643211946, 'neg'), (1, 0.9454196228041383, 'pos'), (0, 0.9135570468346395, 'neg'), (0, 0.9, 'confuse'), (1, 0.9167315111149159, 'pos'), (0, 0.9, 'confuse'), (1, 0.9555777922006943, 'pos'), (1, 0.9669192167997679, 'pos'), (1, 0.9524518269285875, 'pos'), (1, 0.9831332906397947, 'pos'), (1, 0.951053186406033, 'pos'), (0, 0.9, 'confuse'), (1, 0.9402978476832349, 'pos'), (1, 0.8593712770663113, 'pos'), (0, 0.9, 'confuse'), (1, 0.9485803412020839, 'pos'), (0, 0.9, 'confuse'), (0, 0.908491010110915, 'neg'), (1, 0.9045878206649511, 'pos'), (1, 0.9555230845152725, 'pos'), (1, 0.9496918742293241, 'pos'), (1, 0.9452449405576434, 'pos'), (1, 0.9442718188222582, 'pos'), (1, 0.9423751700821196, 'pos'), (1, 0.9220725211279607, 'pos'), (1, 0.9850934137309786, 'pos'), (1, 0.8558290311774577, 'pos'), (1, 0.9628987232534449, 'pos'), (1, 0.8491511701534481, 'pos'), (1, 0.9528308803351446, 'pos'), (1, 0.8520509796615652, 'pos'), (1, 0.9381117421822456, 'pos'), (1, 0.9091486231930354, 'pos'), (1, 0.8585496023760504, 'pos'), (1, 0.9861338345856716, 'pos'), (1, 0.9043421968665035, 'pos'), (1, 0.9515017408566828, 'pos'), (1, 0.9379074663850595, 'pos'), (1, 0.9499413696037322, 'pos'), (1, 0.5558862682013547, 'confuse'), (1, 0.9150369020893638, 'pos'), (1, 0.9909518998987543, 'pos'), (1, 0.8584340039591603, 'pos'), (0, 0.947115643211946, 'neg'), (1, 0.9908523875658981, 'pos'), (1, 0.9510114512016316, 'pos'), (0, 0.9135570468346395, 'neg'), (1, 0.9792033075277093, 'pos'), (1, 0.972154064458872, 'pos'), (1, 0.9421476534438844, 'pos'), (1, 0.9177148418366684, 'pos'), (1, 0.9368388766974602, 'pos'), (1, 0.6533689083341852, 'confuse'), (1, 0.960324729640449, 'pos'), (0, 0.9381721780149984, 'neg'), (1, 0.9787998594147531, 'pos'), (1, 0.8852699194854523, 'pos'), (1, 0.9804082704498474, 'pos'), (1, 0.9554954399268671, 'pos'), (1, 0.963023483193736, 'pos'), (1, 0.8745563502014084, 'pos'), (0, 0.9, 'confuse'), (0, 0.947115643211946, 'neg'), (1, 0.856837598349171, 'pos'), (0, 0.9, 'confuse'), (1, 0.9320691287682855, 'pos'), (1, 0.9600843908583115, 'pos'), (1, 0.9759730592116078, 'pos'), (1, 0.8967173178241955, 'pos'), (1, 0.9041802053854336, 'pos'), (1, 0.9734586395681489, 'pos'), (1, 0.8591749761629428, 'pos'), (1, 0.9661563018621877, 'pos'), (1, 0.9367769004944687, 'pos'), (1, 0.9803877315649437, 'pos'), (0, 0.9373534876438286, 'neg'), (1, 0.9688033180300335, 'pos'), (1, 0.8856720265578424, 'pos'), (1, 0.8704554774038066, 'pos'), (1, 0.9796558269588264, 'pos'), (1, 0.9758139979040912, 'pos'), (1, 0.9289816573167613, 'pos'), (1, 0.9553370894558594, 'pos'), (1, 0.8730046380823857, 'pos'), (1, 0.954868174606791, 'pos'), (1, 0.9206953347351121, 'pos'), (1, 0.9202886669019719, 'pos'), (1, 0.9547789643216769, 'pos'), (1, 0.9577593758734928, 'pos'), (1, 0.951026774107536, 'pos'), (1, 0.9204554529309504, 'pos'), (0, 0.9, 'confuse'), (1, 0.8905025112678508, 'pos'), (1, 0.9828218716603063, 'pos'), (0, 0.909106785877146, 'neg'), (1, 0.954873064381213, 'pos'), (0, 0.947115643211946, 'neg'), (1, 0.9745051433448093, 'pos'), (1, 0.9567348821811532, 'pos'), (0, 0.947115643211946, 'neg'), (1, 0.8999349086325943, 'pos'), (1, 0.9698740743762115, 'pos'), (1, 0.8904407991248592, 'pos'), (1, 0.924760430546892, 'pos'), (1, 0.8913642562059552, 'pos'), (1, 0.9876588386613472, 'pos'), (1, 0.9826727284217082, 'pos'), (1, 0.8510633662047795, 'pos'), (1, 0.9486468006586662, 'pos'), (1, 0.8857718341761689, 'pos'), (1, 0.9142785690875034, 'pos'), (1, 0.8987915775149107, 'pos'), (1, 0.97450181670091, 'pos'), (1, 0.9268048422185746, 'pos'), (1, 0.8565559872287386, 'pos'), (1, 0.9589781824645829, 'pos'), (1, 0.9036888958666163, 'pos'), (1, 0.9040672142570234, 'pos'), (1, 0.984805709628857, 'pos'), (1, 0.9435946113513257, 'pos'), (1, 0.9397409872220936, 'pos'), (0, 0.9135570468346395, 'neg'), (1, 0.9673202209209025, 'pos'), (0, 0.947115643211946, 'neg'), (1, 0.9776697222724158, 'pos'), (0, 0.947115643211946, 'neg'), (1, 0.9738429310286797, 'pos'), (1, 0.9555691455944231, 'pos'), (1, 0.9146437063400175, 'pos'), (1, 0.9403643832092599, 'pos'), (1, 0.9712414420360516, 'pos'), (0, 0.947115643211946, 'neg'), (1, 0.9581715922130829, 'pos'), (0, 0.9, 'confuse'), (0, 0.947115643211946, 'neg'), (1, 0.9562966741714171, 'pos'), (1, 0.9809457245843269, 'pos'), (1, 0.9505952336338848, 'pos'), (1, 0.9867293072452263, 'pos'), (0, 0.9001916335539413, 'neg'), (0, 0.9000341840570604, 'neg'), (0, 0.947115643211946, 'neg'), (1, 0.9699346424429962, 'pos'), (1, 0.9608656516868098, 'pos'), (1, 0.5204574041834727, 'confuse'), (1, 0.9692369226725035, 'pos'), (1, 0.8622858856284701, 'pos'), (0, 0.9135570468346395, 'neg'), (1, 0.9596415157865522, 'pos'), (1, 0.9811522298319391, 'pos'), (1, 0.9529599567607153, 'pos'), (1, 0.9512727307712254, 'pos'), (1, 0.9711039331805749, 'pos'), (1, 0.9481819748202455, 'pos'), (1, 0.9771427717413701, 'pos'), (0, 0.947115643211946, 'neg'), (1, 0.9533575749140308, 'pos'), (0, 0.9135570468346395, 'neg'), (1, 0.8790307550211635, 'pos'), (1, 0.9134669061515904, 'pos'), (1, 0.9916447614857736, 'pos'), (1, 0.9300485977305005, 'pos'), (1, 0.9618357131629864, 'pos'), (1, 0.9607988354428206, 'pos'), (0, 0.947115643211946, 'neg'), (1, 0.9533102462202695, 'pos'), (1, 0.9429083662926905, 'pos'), (1, 0.9032717555270982, 'pos'), (0, 0.9, 'confuse'), (1, 0.9784272556718626, 'pos'), (1, 0.9555910856614608, 'pos'), (1, 0.9180342931579833, 'pos'), (1, 0.8959219542258724, 'pos'), (1, 0.964420495830271, 'pos'), (1, 0.9622868313471745, 'pos'), (1, 0.9656981943159796, 'pos'), (0, 0.9, 'confuse'), (1, 0.8754331026750439, 'pos'), (1, 0.8454108893758997, 'pos'), (1, 0.9559115824905824, 'pos'), (1, 0.9631037735515509, 'pos'), (0, 0.947115643211946, 'neg'), (0, 0.947115643211946, 'neg'), (1, 0.9843346932449869, 'pos'), (1, 0.8553041870945716, 'pos'), (0, 0.947115643211946, 'neg'), (1, 0.9524833155839199, 'pos'), (1, 0.9735515267276327, 'pos'), (1, 0.9465106388186818, 'pos'), (0, 0.947115643211946, 'neg'), (1, 0.8617072952505866, 'pos'), (0, 0.947115643211946, 'neg'), (1, 0.9801340326984104, 'pos'), (1, 0.9232659078414306, 'pos'), (1, 0.9673100220569275, 'pos'), (1, 0.8862897610513596, 'pos'), (1, 0.9052988009542119, 'pos'), (1, 0.9672665720489377, 'pos'), (0, 0.947115643211946, 'neg'), (1, 0.9006227284112907, 'pos'), (1, 0.9308961979118514, 'pos'), (1, 0.9649500231262174, 'pos'), (1, 0.9795197176778181, 'pos'), (1, 0.9900250381039003, 'pos'), (1, 0.9778179445406139, 'pos'), (1, 0.9569586095322904, 'pos'), (1, 0.9728711898057545, 'pos'), (1, 0.9613186479139042, 'pos'), (1, 0.9401992114040096, 'pos'), (1, 0.8833712270837724, 'pos'), (0, 0.9, 'confuse'), (1, 0.9628629842066614, 'pos'), (0, 0.947115643211946, 'neg'), (1, 0.9459019603219175, 'pos'), (0, 0.947115643211946, 'neg'), (1, 0.9285000370332728, 'pos'), (1, 0.9464881801503934, 'pos'), (1, 0.8489483887911483, 'pos'), (1, 0.9467418078022242, 'pos'), (1, 0.9031169576463514, 'pos'), (1, 0.9497833556369987, 'pos'), (1, 0.9701967953734485, 'pos'), (1, 0.9446772921655798, 'pos'), (1, 0.9157725100558892, 'pos'), (1, 0.9841038508047053, 'pos'), (1, 0.9631058902450199, 'pos'), (1, 0.920522556568218, 'pos'), (1, 0.9526131587966438, 'pos'), (1, 0.9650995030879914, 'pos'), (0, 0.947115643211946, 'neg'), (0, 0.947115643211946, 'neg'), (1, 0.8804033909234896, 'pos'), (1, 0.9586070485384971, 'pos'), (1, 0.9687402826114365, 'pos'), (0, 0.9, 'confuse'), (0, 0.947115643211946, 'neg'), (1, 0.9078140244368933, 'pos'), (1, 0.9718567521635857, 'pos'), (1, 0.8652332570563956, 'pos'), (1, 0.9842133972415166, 'pos'), (1, 0.9661785037870387, 'pos'), (1, 0.9603576530553927, 'pos'), (1, 0.9791387306898688, 'pos'), (1, 0.9732155578621965, 'pos'), (1, 0.9636974913119927, 'pos'), (0, 0.9, 'confuse'), (1, 0.9618869455611199, 'pos'), (1, 0.9750802010917272, 'pos'), (0, 0.9, 'confuse'), (0, 0.947115643211946, 'neg'), (1, 0.9131370884676875, 'pos'), (1, 0.9215334638799139, 'pos'), (1, 0.983413561266459, 'pos'), (1, 0.9456806547168253, 'pos'), (1, 0.9296985170727693, 'pos'), (1, 0.9475878950407136, 'pos'), (1, 0.9730164422913283, 'pos'), (0, 0.9135570468346395, 'neg'), (0, 0.9, 'confuse'), (1, 0.9679676616136763, 'pos'), (1, 0.9500065881924119, 'pos'), (0, 0.947115643211946, 'neg'), (1, 0.9554448136341065, 'pos'), (0, 0.908491010110915, 'neg'), (1, 0.9287213541009454, 'pos'), (1, 0.914757298563542, 'pos'), (1, 0.9839505834467156, 'pos'), (0, 0.9, 'confuse'), (1, 0.9268461703270521, 'pos'), (1, 0.8503206124423028, 'pos'), (0, 0.9, 'confuse'), (1, 0.9409582937735426, 'pos'), (1, 0.9015831714662639, 'pos'), (0, 0.943674131320158, 'neg'), (0, 0.947115643211946, 'neg'), (1, 0.9322689783444142, 'pos'), (1, 0.9387961583154126, 'pos'), (1, 0.9541495498720053, 'pos'), (1, 0.9773575849377092, 'pos'), (0, 0.947115643211946, 'neg'), (1, 0.9602231386657708, 'pos'), (1, 0.9646377456202615, 'pos'), (1, 0.9690625058432272, 'pos'), (1, 0.9892900466171117, 'pos'), (1, 0.9542279609407581, 'pos'), (1, 0.9692944974757213, 'pos'), (1, 0.9209421681573005, 'pos'), (0, 0.947115643211946, 'neg'), (0, 0.9, 'confuse'), (1, 0.9539547647373972, 'pos'), (1, 0.8624350740954195, 'pos'), (1, 0.8481869132901692, 'pos'), (1, 0.9874933707909197, 'pos'), (1, 0.8951209468916257, 'pos'), (1, 0.8829467851528706, 'pos'), (1, 0.8578337626827128, 'pos'), (1, 0.9353651696636842, 'pos'), (0, 0.9, 'confuse'), (1, 0.944127708457313, 'pos'), (1, 0.9549032765737072, 'pos'), (1, 0.9442576773820239, 'pos'), (0, 0.9, 'confuse'), (0, 0.9, 'confuse'), (0, 0.9, 'confuse'), (1, 0.9248511731734752, 'pos'), (1, 0.9616097006162525, 'pos'), (1, 0.9708697214124502, 'pos'), (1, 0.9553545274828503, 'pos'), (1, 0.9543002620241593, 'pos'), (1, 0.9651257376202433, 'pos'), (1, 0.9460911487411092, 'pos'), (0, 0.9331504778652919, 'neg'), (1, 0.9729167820552821, 'pos'), (0, 0.9094404582281826, 'neg'), (1, 0.9124414240837908, 'pos'), (1, 0.8779336256999162, 'pos'), (1, 0.9772362867223396, 'pos'), (1, 0.8727766167151856, 'pos'), (0, 0.947115643211946, 'neg'), (1, 0.9744384322534545, 'pos'), (0, 0.9, 'confuse'), (1, 0.8974136364890153, 'pos'), (1, 0.9718279292358221, 'pos'), (0, 0.947115643211946, 'neg'), (1, 0.964841429403028, 'pos'), (1, 0.9455183339814901, 'pos'), (1, 0.930869960665097, 'pos'), (0, 0.947115643211946, 'neg'), (1, 0.961841926728229, 'pos'), (1, 0.9395297058352128, 'pos'), (0, 0.9, 'confuse'), (1, 0.9647594033964912, 'pos'), (1, 0.9748435064641591, 'pos'), (1, 0.9478001035246614, 'pos'), (1, 0.9528075101822653, 'pos'), (1, 0.9564086823541388, 'pos'), (0, 0.947115643211946, 'neg'), (1, 0.962961202354996, 'pos'), (0, 0.947115643211946, 'neg'), (1, 0.9637993609980935, 'pos'), (1, 0.9309620260810068, 'pos'), (1, 0.9421893987197503, 'pos'), (1, 0.9839822862566809, 'pos'), (1, 0.5892001761688791, 'confuse'), (1, 0.9795195845817016, 'pos'), (1, 0.9525105190459093, 'pos'), (1, 0.9624240135913444, 'pos'), (1, 0.9369053040137585, 'pos'), (1, 0.92697376360574, 'pos'), (1, 0.9747648120079246, 'pos'), (1, 0.9085646807741385, 'pos'), (1, 0.9565430876492652, 'pos'), (1, 0.9313363093777616, 'pos'), (0, 0.9025179869918046, 'neg'), (1, 0.5333242613277358, 'confuse'), (1, 0.9388039833869165, 'pos'), (1, 0.8603845658531416, 'pos'), (1, 0.9653807141528918, 'pos'), (1, 0.901272670861012, 'pos'), (1, 0.9448784040801739, 'pos'), (0, 0.9, 'confuse'), (1, 0.980200756141616, 'pos'), (1, 0.9235696543906513, 'pos'), (1, 0.9243558165644161, 'pos'), (1, 0.959283530691118, 'pos'), (1, 0.51177677018215, 'confuse'), (1, 0.945014286073711, 'pos'), (1, 0.9770440132730727, 'pos'), (1, 0.9350485408874671, 'pos'), (0, 0.9025179869918046, 'neg'), (1, 0.9700881365761667, 'pos'), (1, 0.8971787642907068, 'pos'), (1, 0.9567324152080341, 'pos'), (1, 0.8804621744379556, 'pos'), (1, 0.9706510337870174, 'pos'), (1, 0.8950926277778464, 'pos'), (1, 0.9539104011522553, 'pos'), (0, 0.947115643211946, 'neg'), (1, 0.9211841643961558, 'pos'), (1, 0.9396868319009732, 'pos'), (1, 0.8930636465996965, 'pos'), (1, 0.8769022974106013, 'pos'), (1, 0.979484413691688, 'pos'), (1, 0.9416919744512517, 'pos'), (0, 0.9, 'confuse'), (0, 0.930247195479447, 'neg'), (1, 0.9158102276777651, 'pos'), (1, 0.9616060362737086, 'pos'), (1, 0.9534934988509519, 'pos'), (1, 0.9159883756297356, 'pos'), (1, 0.9412711285837159, 'pos'), (1, 0.9640133159128517, 'pos'), (1, 0.940474117103142, 'pos'), (1, 0.9787812672850927, 'pos'), (0, 0.9, 'confuse'), (1, 0.8491665392757731, 'pos'), (1, 0.95663100210956, 'pos'), (0, 0.9381721780149984, 'neg'), (1, 0.9493203035877616, 'pos'), (1, 0.9157425416662781, 'pos'), (1, 0.9700171517342013, 'pos'), (1, 0.8500174558903947, 'pos'), (1, 0.9535030172333266, 'pos'), (0, 0.9, 'confuse'), (1, 0.9304928254246689, 'pos'), (1, 0.9835284887856789, 'pos'), (0, 0.947115643211946, 'neg'), (1, 0.9553185191899978, 'pos'), (1, 0.8620252445347149, 'pos'), (1, 0.8546178213215893, 'pos'), (0, 0.947115643211946, 'neg'), (1, 0.9042558115740682, 'pos'), (1, 0.9471960991692179, 'pos'), (1, 0.9389730801353611, 'pos'), (1, 0.9079722674878201, 'pos'), (0, 0.9135570468346395, 'neg'), (1, 0.926018012838344, 'pos'), (1, 0.9787165298065386, 'pos'), (1, 0.9694721127682797, 'pos'), (1, 0.8908137985375759, 'pos'), (1, 0.569448432098083, 'confuse'), (0, 0.9, 'confuse'), (1, 0.985420012420723, 'pos'), (1, 0.9686170605683081, 'pos'), (1, 0.9744823877785928, 'pos'), (1, 0.9778466337734601, 'pos'), (0, 0.947115643211946, 'neg'), (1, 0.9215592537765103, 'pos'), (1, 0.9645781626115479, 'pos'), (1, 0.9621682657006552, 'pos'), (1, 0.9730603787045137, 'pos'), (1, 0.5357595157617179, 'confuse'), (0, 0.947115643211946, 'neg'), (1, 0.9452628639475549, 'pos'), (1, 0.9561005207997816, 'pos'), (1, 0.9641765061683717, 'pos'), (1, 0.9781523947072049, 'pos'), (1, 0.9010574255140285, 'pos'), (1, 0.9046056822071853, 'pos'), (1, 0.9469380275210122, 'pos'), (1, 0.9799528273467786, 'pos'), (1, 0.8835419204011355, 'pos'), (1, 0.9055038725105546, 'pos'), (1, 0.8986669253382477, 'pos'), (1, 0.9704165754923111, 'pos'), (1, 0.9670124618506888, 'pos'), (1, 0.9798761289793333, 'pos'), (0, 0.947115643211946, 'neg'), (1, 0.9564954437336907, 'pos'), (1, 0.9700010398863543, 'pos'), (1, 0.9745538490928543, 'pos'), (1, 0.9177282295227578, 'pos'), (1, 0.9852998198421549, 'pos'), (0, 0.9, 'confuse'), (1, 0.9779100517913353, 'pos'), (1, 0.8543198232643157, 'pos'), (1, 0.9800781712928543, 'pos'), (1, 0.9214815389651786, 'pos'), (1, 0.9201442593800083, 'pos'), (0, 0.947115643211946, 'neg'), (1, 0.8855138033020982, 'pos'), (1, 0.95913930943875, 'pos'), (0, 0.947115643211946, 'neg'), (1, 0.9855760384466287, 'pos'), (1, 0.9696816601486216, 'pos'), (0, 0.9, 'confuse'), (1, 0.9175615043493082, 'pos'), (1, 0.9668715159520775, 'pos'), (1, 0.9545699563918927, 'pos'), (1, 0.9549151935187108, 'pos'), (1, 0.9424336116705222, 'pos'), (1, 0.9442399267920786, 'pos'), (1, 0.877099505119548, 'pos'), (1, 0.9115218481155603, 'pos'), (1, 0.9732979586297794, 'pos'), (1, 0.5779274992735508, 'confuse'), (1, 0.9726527100130378, 'pos'), (0, 0.947115643211946, 'neg'), (1, 0.9236399977833937, 'pos'), (1, 0.9551256573984868, 'pos'), (0, 0.947115643211946, 'neg'), (1, 0.9366935895398978, 'pos'), (1, 0.8874458913526526, 'pos'), (1, 0.9598776689526964, 'pos'), (1, 0.9017955088799223, 'pos'), (1, 0.9523786656128757, 'pos'), (0, 0.9135570468346395, 'neg'), (1, 0.8774267642905305, 'pos'), (1, 0.9736767658868828, 'pos'), (1, 0.9286452803054729, 'pos'), (1, 0.9306979605269203, 'pos'), (0, 0.947115643211946, 'neg'), (1, 0.9058789647862173, 'pos'), (1, 0.9815083777548368, 'pos'), (1, 0.9466944832889596, 'pos'), (1, 0.8502909239791855, 'pos'), (0, 0.908491010110915, 'neg'), (0, 0.947115643211946, 'neg'), (0, 0.947115643211946, 'neg'), (1, 0.5034049317636431, 'confuse'), (0, 0.9, 'confuse'), (1, 0.9754248413192798, 'pos'), (1, 0.8993717602432184, 'pos'), (1, 0.9312363588079176, 'pos'), (1, 0.9207620617769109, 'pos'), (0, 0.9, 'confuse'), (1, 0.8906408289514338, 'pos'), (1, 0.9517539416943872, 'pos'), (1, 0.9730854230962407, 'pos'), (1, 0.977978092161959, 'pos'), (1, 0.8933772568084407, 'pos'), (1, 0.9676933501870939, 'pos'), (1, 0.9553354427632005, 'pos'), (1, 0.9466123987236752, 'pos'), (1, 0.9744124280961859, 'pos'), (1, 0.987309754881894, 'pos'), (1, 0.905239354915268, 'pos'), (1, 0.9582221849853543, 'pos'), (0, 0.9135570468346395, 'neg'), (1, 0.9300826324085513, 'pos'), (1, 0.877173073700035, 'pos'), (1, 0.9382393201282884, 'pos'), (1, 0.9415257434313633, 'pos'), (1, 0.9404285873648996, 'pos'), (1, 0.8579168987481995, 'pos'), (1, 0.9411797595019248, 'pos'), (1, 0.5180312174640205, 'confuse'), (0, 0.947115643211946, 'neg'), (1, 0.9208845673324383, 'pos'), (0, 0.9373534876438286, 'neg'), (1, 0.9218854677302873, 'pos'), (1, 0.9744784652167688, 'pos'), (0, 0.9, 'confuse'), (1, 0.9476505936084407, 'pos'), (1, 0.9693731265052842, 'pos'), (1, 0.9640224304867118, 'pos'), (1, 0.9587125008401494, 'pos'), (0, 0.947115643211946, 'neg'), (1, 0.9706958236873074, 'pos'), (1, 0.8489386114338402, 'pos'), (0, 0.9135570468346395, 'neg'), (1, 0.9695486427810545, 'pos'), (0, 0.9, 'confuse'), (1, 0.958928552652597, 'pos'), (1, 0.8492407561308474, 'pos'), (1, 0.9422587668580171, 'pos'), (1, 0.950129776093924, 'pos'), (1, 0.9631209695406685, 'pos'), (1, 0.8976737510113313, 'pos'), (1, 0.9092605118098896, 'pos'), (0, 0.9, 'confuse'), (1, 0.9161164764365683, 'pos'), (1, 0.9507146760777709, 'pos'), (1, 0.8958751392771586, 'pos'), (1, 0.9436336311188416, 'pos'), (1, 0.9672250422454789, 'pos'), (1, 0.8614246461757574, 'pos'), (1, 0.9530290586140076, 'pos'), (1, 0.959588080334514, 'pos'), (1, 0.8892195451357339, 'pos'), (1, 0.9805531389917702, 'pos'), (1, 0.9324400283170433, 'pos'), (1, 0.9371275777847048, 'pos'), (1, 0.9587595856974644, 'pos'), (1, 0.945695209952861, 'pos'), (1, 0.971175084075608, 'pos'), (1, 0.9655959920845893, 'pos'), (0, 0.9, 'confuse'), (1, 0.9295242590209973, 'pos'), (0, 0.947115643211946, 'neg'), (1, 0.9469931170714506, 'pos'), (1, 0.8948778660644721, 'pos'), (0, 0.947115643211946, 'neg'), (1, 0.9559379532745954, 'pos'), (1, 0.8966937866410895, 'pos'), (1, 0.9440453445538013, 'pos'), (1, 0.8909238284242358, 'pos'), (1, 0.9586153372301229, 'pos'), (1, 0.9519431271614494, 'pos'), (1, 0.9586405397318828, 'pos'), (0, 0.9280779127836674, 'neg'), (1, 0.9795722645819753, 'pos'), (1, 0.955273246153293, 'pos'), (1, 0.9514362163856964, 'pos'), (1, 0.9454938875127503, 'pos'), (1, 0.9699977787187413, 'pos'), (1, 0.9313431272446229, 'pos'), (1, 0.9908187720337838, 'pos'), (1, 0.8725880816942146, 'pos'), (1, 0.8982447248213277, 'pos'), (1, 0.9508711019562164, 'pos'), (1, 0.9302705785474774, 'pos'), (1, 0.9453003835518384, 'pos'), (1, 0.9274056483967043, 'pos'), (1, 0.95444987752841, 'pos'), (1, 0.8537721985265353, 'pos'), (0, 0.947115643211946, 'neg'), (0, 0.947115643211946, 'neg'), (1, 0.9445778389839553, 'pos'), (1, 0.978324515449349, 'pos'), (1, 0.9555482301232455, 'pos'), (1, 0.5334485483409658, 'confuse'), (1, 0.9443372804639184, 'pos'), (1, 0.9417957189401758, 'pos'), (1, 0.9721246697480556, 'pos'), (1, 0.9452010957728515, 'pos'), (1, 0.9543382387191135, 'pos'), (1, 0.9342874483790551, 'pos'), (1, 0.9673668833792938, 'pos'), (1, 0.9762852425616391, 'pos'), (1, 0.9512133799944402, 'pos'), (1, 0.8720746917314024, 'pos'), (1, 0.971312373736156, 'pos'), (0, 0.9, 'confuse'), (1, 0.9570025759479821, 'pos'), (1, 0.9414940306182935, 'pos'), (1, 0.9411808342444503, 'pos'), (0, 0.9000341840570604, 'neg'), (0, 0.9, 'confuse'), (0, 0.9, 'confuse'), (0, 0.9, 'confuse'), (0, 0.947115643211946, 'neg'), (1, 0.9037884342300565, 'pos'), (1, 0.8558029055230711, 'pos'), (1, 0.942200661239843, 'pos'), (1, 0.9458074641773209, 'pos'), (1, 0.92225797675679, 'pos'), (1, 0.8514165306899895, 'pos'), (1, 0.9828715147781232, 'pos'), (1, 0.9301296404917974, 'pos'), (1, 0.9212472735363086, 'pos'), (1, 0.9630252172223063, 'pos'), (1, 0.9215896307773832, 'pos'), (1, 0.9511428548403185, 'pos'), (1, 0.942421403282377, 'pos'), (0, 0.947115643211946, 'neg'), (1, 0.9345547859749113, 'pos'), (0, 0.947115643211946, 'neg'), (0, 0.9, 'confuse'), (1, 0.9372654144606141, 'pos'), (1, 0.8930056812165397, 'pos'), (1, 0.9576447027490739, 'pos'), (0, 0.947115643211946, 'neg'), (0, 0.9213680419539239, 'neg'), (1, 0.9545071168611156, 'pos'), (1, 0.9285794777607613, 'pos'), (1, 0.8826892736953044, 'pos'), (0, 0.9381721780149984, 'neg'), (1, 0.8589137200794804, 'pos'), (1, 0.8876425939160164, 'pos'), (1, 0.8859121384408759, 'pos'), (1, 0.5378069873162268, 'confuse'), (1, 0.9377233671860893, 'pos'), (1, 0.5222585601100311, 'confuse'), (0, 0.947115643211946, 'neg'), (1, 0.9721910844461675, 'pos'), (1, 0.9722845959888982, 'pos'), (1, 0.9276520472920942, 'pos'), (1, 0.9653189807655063, 'pos'), (1, 0.8769285661713164, 'pos'), (1, 0.9732402524099815, 'pos'), (1, 0.9749044049564748, 'pos'), (0, 0.9373534876438286, 'neg'), (1, 0.5776624186949644, 'confuse'), (1, 0.907459174796306, 'pos'), (0, 0.9, 'confuse'), (1, 0.9330664067298668, 'pos'), (1, 0.9785114611564858, 'pos'), (0, 0.9135570468346395, 'neg'), (1, 0.9466334002418474, 'pos'), (1, 0.9757663741613494, 'pos'), (1, 0.9152457232171904, 'pos'), (1, 0.9407491670641095, 'pos'), (0, 0.9, 'confuse'), (1, 0.944367402030448, 'pos'), (1, 0.936690105397638, 'pos'), (1, 0.9751333990702667, 'pos'), (1, 0.9613142257431004, 'pos'), (0, 0.9, 'confuse'), (1, 0.9632101507614241, 'pos'), (1, 0.972788725378582, 'pos'), (1, 0.9791465874827321, 'pos'), (1, 0.9679766582933546, 'pos'), (1, 0.9463798276511287, 'pos'), (1, 0.9267621908252796, 'pos'), (0, 0.947115643211946, 'neg'), (0, 0.947115643211946, 'neg'), (1, 0.9806424232508599, 'pos'), (1, 0.9738899493338534, 'pos'), (1, 0.5644670185603238, 'confuse'), (1, 0.9684599614081753, 'pos'), (1, 0.9597995707809561, 'pos'), (1, 0.9440942565583885, 'pos'), (0, 0.947115643211946, 'neg'), (1, 0.9637847263937163, 'pos'), (0, 0.9025179869918046, 'neg'), (0, 0.947115643211946, 'neg'), (1, 0.9828617876113949, 'pos'), (1, 0.9489732670713314, 'pos'), (1, 0.9383957373199567, 'pos'), (1, 0.9405723460185383, 'pos'), (1, 0.9665164199203062, 'pos'), (1, 0.9608811763949184, 'pos'), (1, 0.9632721750845734, 'pos'), (1, 0.9483465450013042, 'pos'), (1, 0.9617185350624068, 'pos'), (1, 0.9366301970708427, 'pos'), (1, 0.9337061272184399, 'pos'), (1, 0.9549177722221008, 'pos'), (1, 0.8968927934335955, 'pos'), (0, 0.947115643211946, 'neg'), (1, 0.8681556418947997, 'pos'), (0, 0.9062319564633765, 'neg'), (1, 0.9710287259610798, 'pos'), (1, 0.956334357742828, 'pos'), (1, 0.92866363058582, 'pos'), (1, 0.9182053454940033, 'pos'), (1, 0.9094709483155892, 'pos'), (1, 0.9422126866319278, 'pos'), (1, 0.9620603645319594, 'pos'), (1, 0.944847103061986, 'pos'), (1, 0.8996967591428187, 'pos'), (1, 0.9703132087721817, 'pos'), (1, 0.875138121091533, 'pos'), (1, 0.9915350977480631, 'pos'), (1, 0.9723010906303582, 'pos'), (1, 0.9462520953893513, 'pos'), (0, 0.947115643211946, 'neg'), (1, 0.9581746920139576, 'pos'), (0, 0.9213680419539239, 'neg'), (1, 0.9647125831943579, 'pos'), (1, 0.9577428222534314, 'pos'), (1, 0.9937136734827133, 'pos'), (1, 0.8764676609659023, 'pos'), (1, 0.9471386792175155, 'pos'), (1, 0.9698616500410353, 'pos'), (1, 0.960923457330674, 'pos'), (1, 0.9496553263770838, 'pos'), (1, 0.9044439228822476, 'pos'), (1, 0.9603995209173863, 'pos'), (0, 0.947115643211946, 'neg'), (1, 0.9016463082355252, 'pos'), (1, 0.9358169679035058, 'pos'), (0, 0.9381721780149984, 'neg'), (1, 0.9659605562322386, 'pos'), (1, 0.9399278806704281, 'pos'), (1, 0.9157442342673772, 'pos'), (1, 0.8618946102985792, 'pos'), (0, 0.9, 'confuse'), (1, 0.9819221127856853, 'pos'), (1, 0.8634495431806929, 'pos'), (1, 0.9374986977325552, 'pos'), (1, 0.9461387947545349, 'pos'), (0, 0.9, 'confuse'), (1, 0.8850948367163628, 'pos'), (1, 0.9791500797718975, 'pos'), (1, 0.8841498263598095, 'pos'), (1, 0.963980479485668, 'pos'), (1, 0.9575113537443777, 'pos'), (1, 0.9605113609449131, 'pos'), (1, 0.9810525586555695, 'pos'), (0, 0.9, 'confuse'), (1, 0.9228411480719718, 'pos'), (1, 0.9358853859559725, 'pos'), (0, 0.947115643211946, 'neg'), (0, 0.9, 'confuse'), (0, 0.908491010110915, 'neg'), (1, 0.9235198249689933, 'pos'), (1, 0.9583292025531327, 'pos'), (1, 0.9522219605144364, 'pos'), (1, 0.9745386329993941, 'pos'), (1, 0.8566126006413926, 'pos'), (1, 0.9606380720477169, 'pos'), (1, 0.9631023384997347, 'pos'), (1, 0.8515550752113059, 'pos'), (1, 0.9364362017052816, 'pos'), (1, 0.9664312282656699, 'pos'), (1, 0.9454162360199705, 'pos'), (1, 0.9514312105307745, 'pos'), (0, 0.9135570468346395, 'neg'), (0, 0.9, 'confuse'), (1, 0.9344532474289864, 'pos'), (1, 0.9645813561386557, 'pos'), (1, 0.9499546446512032, 'pos'), (1, 0.9135703675504395, 'pos'), (1, 0.9682601164626675, 'pos'), (0, 0.9, 'confuse'), (1, 0.897151371263395, 'pos'), (1, 0.8599729199687328, 'pos'), (1, 0.9723256226706782, 'pos'), (0, 0.9, 'confuse'), (1, 0.8725256332579893, 'pos'), (0, 0.9, 'confuse'), (1, 0.9657106782632052, 'pos'), (1, 0.9587681069405856, 'pos'), (1, 0.9865357567381942, 'pos'), (0, 0.9, 'confuse'), (1, 0.9622400796836657, 'pos'), (1, 0.9407463429852376, 'pos'), (1, 0.9791853490222007, 'pos'), (1, 0.9599428451526706, 'pos'), (1, 0.9592643275778748, 'pos'), (1, 0.9521262029390352, 'pos'), (0, 0.9000341840570604, 'neg'), (1, 0.907055172616051, 'pos'), (0, 0.9, 'confuse'), (1, 0.9232681853544109, 'pos'), (1, 0.9704849992082225, 'pos'), (0, 0.9, 'confuse'), (1, 0.9552984273511221, 'pos'), (1, 0.9695102023602441, 'pos'), (1, 0.9679417633521595, 'pos'), (1, 0.9723232814666222, 'pos'), (0, 0.9025179869918046, 'neg'), (0, 0.9, 'confuse'), (1, 0.956945081791418, 'pos'), (1, 0.855777986705557, 'pos'), (1, 0.9635878661991397, 'pos'), (1, 0.8620325696126147, 'pos'), (1, 0.9681630119386121, 'pos'), (1, 0.9086270925140759, 'pos'), (1, 0.8957790237696045, 'pos'), (0, 0.947115643211946, 'neg'), (1, 0.9500829689403065, 'pos'), (1, 0.9610018834341959, 'pos'), (1, 0.9427760529883227, 'pos'), (1, 0.966436220554949, 'pos'), (0, 0.9135570468346395, 'neg'), (1, 0.9135479236705961, 'pos'), (0, 0.9, 'confuse'), (0, 0.947115643211946, 'neg'), (1, 0.974883818551483, 'pos'), (1, 0.9509767054407521, 'pos'), (0, 0.9000341840570604, 'neg'), (0, 0.9025179869918046, 'neg'), (0, 0.9288666442985607, 'neg'), (1, 0.5249886501821909, 'confuse'), (1, 0.9693027483743915, 'pos'), (1, 0.9366564268876111, 'pos'), (0, 0.9135570468346395, 'neg'), (1, 0.9601923404694922, 'pos'), (1, 0.9445623553930954, 'pos'), (0, 0.9370209206637585, 'neg'), (1, 0.9274876675041913, 'pos'), (1, 0.990367144059506, 'pos'), (1, 0.856398447697171, 'pos'), (1, 0.9171502600245983, 'pos'), (1, 0.9217549451520191, 'pos'), (1, 0.5453469770720654, 'confuse'), (1, 0.9269744163820315, 'pos'), (1, 0.9313240703873786, 'pos'), (0, 0.9048990222176992, 'neg'), (1, 0.9795665141456219, 'pos'), (1, 0.8868192686308559, 'pos'), (0, 0.947115643211946, 'neg'), (0, 0.908491010110915, 'neg'), (1, 0.8843455676838256, 'pos'), (1, 0.9505647987434311, 'pos'), (0, 0.908491010110915, 'neg'), (1, 0.9407758905069337, 'pos'), (1, 0.9147762956668689, 'pos'), (1, 0.9525619317275155, 'pos'), (1, 0.9337331299333809, 'pos'), (1, 0.9622705543885077, 'pos'), (1, 0.9628098024259962, 'pos'), (1, 0.8818500260600022, 'pos'), (1, 0.9742115419778123, 'pos'), (0, 0.947115643211946, 'neg'), (0, 0.947115643211946, 'neg'), (0, 0.908491010110915, 'neg'), (0, 0.9331504778652919, 'neg'), (1, 0.988387992200888, 'pos'), (1, 0.9308979315819984, 'pos'), (1, 0.9214952893895543, 'pos'), (1, 0.9610784414640243, 'pos'), (1, 0.9007056533639684, 'pos'), (1, 0.8891479368401386, 'pos'), (1, 0.9492764102109719, 'pos'), (1, 0.9477716778500309, 'pos'), (1, 0.9772846223244489, 'pos'), (1, 0.954779151569333, 'pos'), (1, 0.9753983643284194, 'pos'), (0, 0.9, 'confuse'), (0, 0.9, 'confuse'), (0, 0.908491010110915, 'neg'), (0, 0.947115643211946, 'neg'), (1, 0.9649462387290229, 'pos'), (1, 0.8930403559918837, 'pos'), (0, 0.947115643211946, 'neg'), (1, 0.920255522824097, 'pos'), (1, 0.9626574262005576, 'pos'), (0, 0.9000341840570604, 'neg'), (1, 0.9574217527714787, 'pos'), (1, 0.9640684028518998, 'pos'), (1, 0.9401779785363384, 'pos'), (1, 0.9368806477091353, 'pos'), (1, 0.9905582052043936, 'pos'), (0, 0.947115643211946, 'neg'), (0, 0.9381721780149984, 'neg'), (1, 0.8469624839497805, 'pos'), (1, 0.9601052792169705, 'pos'), (1, 0.9108075796365849, 'pos'), (1, 0.8861070170195621, 'pos'), (1, 0.9256425366172337, 'pos'), (1, 0.9603965532137583, 'pos'), (1, 0.9435174419568542, 'pos'), (1, 0.9565052643059776, 'pos'), (1, 0.9965215259929388, 'pos'), (0, 0.9, 'confuse'), (0, 0.947115643211946, 'neg'), (1, 0.9628205460486676, 'pos'), (1, 0.9484626297628724, 'pos'), (0, 0.9, 'confuse'), (1, 0.850394295719074, 'pos'), (1, 0.9161819637481912, 'pos'), (1, 0.9297416804187293, 'pos'), (1, 0.5391511805435057, 'confuse'), (0, 0.9, 'confuse'), (1, 0.9650261666758734, 'pos'), (1, 0.9401382093603059, 'pos'), (1, 0.8988377701422638, 'pos'), (0, 0.9, 'confuse'), (0, 0.9, 'confuse'), (0, 0.9, 'confuse'), (1, 0.9741881561933987, 'pos'), (0, 0.947115643211946, 'neg'), (1, 0.9480912720456948, 'pos'), (1, 0.97694395066076, 'pos'), (1, 0.9003128114882861, 'pos'), (0, 0.9, 'confuse'), (1, 0.9699274938640421, 'pos'), (0, 0.9, 'confuse'), (1, 0.964694021600544, 'pos'), (0, 0.947115643211946, 'neg'), (1, 0.9064484628380451, 'pos'), (1, 0.9747907599026753, 'pos'), (1, 0.8897421571024612, 'pos'), (1, 0.8933078393347913, 'pos'), (1, 0.9604062084407758, 'pos'), (1, 0.9666317161863937, 'pos'), (1, 0.9619186748828057, 'pos'), (1, 0.9576266975981629, 'pos'), (0, 0.9, 'confuse'), (0, 0.947115643211946, 'neg'), (1, 0.5553196551276669, 'confuse'), (1, 0.507475301174781, 'confuse'), (1, 0.9560396828645106, 'pos'), (1, 0.9773927857983338, 'pos'), (1, 0.852899912155183, 'pos'), (1, 0.9708497656732957, 'pos'), (1, 0.9627758418445727, 'pos'), (1, 0.9528374757860302, 'pos'), (1, 0.9368294611407961, 'pos'), (1, 0.9246856186491866, 'pos'), (1, 0.9144824737695505, 'pos'), (1, 0.9562909365114443, 'pos'), (1, 0.9037842151760698, 'pos'), (1, 0.9207254958592348, 'pos'), (0, 0.947115643211946, 'neg'), (1, 0.963064937603896, 'pos'), (1, 0.9710750401347097, 'pos'), (1, 0.5739418293067017, 'confuse'), (0, 0.9, 'confuse'), (1, 0.9409633896448053, 'pos'), (1, 0.8754114705959157, 'pos'), (1, 0.9431298719227736, 'pos'), (1, 0.9833786437633467, 'pos'), (1, 0.9787655743028999, 'pos'), (1, 0.9732076171721336, 'pos'), (0, 0.947115643211946, 'neg'), (1, 0.8875662154239936, 'pos'), (1, 0.9185324352259873, 'pos'), (0, 0.908491010110915, 'neg'), (0, 0.947115643211946, 'neg'), (0, 0.947115643211946, 'neg'), (1, 0.9558793240167891, 'pos'), (1, 0.5013471664866517, 'confuse'), (1, 0.9609241386631568, 'pos'), (1, 0.9652341847825155, 'pos'), (1, 0.9688325843008398, 'pos'), (1, 0.9456785624644656, 'pos'), (1, 0.9495920187678735, 'pos'), (1, 0.922783681461428, 'pos'), (1, 0.9053786402312763, 'pos'), (0, 0.9, 'confuse'), (0, 0.947115643211946, 'neg'), (1, 0.8856183385680971, 'pos'), (1, 0.903196266172043, 'pos'), (1, 0.9556028020534004, 'pos'), (0, 0.947115643211946, 'neg'), (0, 0.947115643211946, 'neg'), (1, 0.9366309284571102, 'pos'), (0, 0.9025179869918046, 'neg'), (1, 0.8460709959258971, 'pos'), (1, 0.9511066193077351, 'pos'), (1, 0.9305684422927485, 'pos'), (1, 0.9654698486701575, 'pos'), (1, 0.9552175716401301, 'pos'), (1, 0.9239040953098655, 'pos'), (1, 0.9537675656636868, 'pos'), (0, 0.9, 'confuse'), (1, 0.8937045692183817, 'pos'), (1, 0.8830740912881087, 'pos'), (1, 0.9457119493969686, 'pos'), (1, 0.9628995455007313, 'pos'), (1, 0.8802116576136594, 'pos'), (1, 0.9153012572494126, 'pos'), (1, 0.9551344106534755, 'pos'), (1, 0.643522136132738, 'confuse'), (0, 0.947115643211946, 'neg'), (1, 0.9733540862320714, 'pos'), (1, 0.9708780148406838, 'pos'), (1, 0.8598885590638563, 'pos'), (1, 0.9713828895867621, 'pos'), (1, 0.97186733581106, 'pos'), (1, 0.9763395469846922, 'pos'), (1, 0.987468834123615, 'pos'), (1, 0.9713313675443924, 'pos'), (1, 0.9657182556073174, 'pos'), (1, 0.9811401163792557, 'pos'), (1, 0.9069640743976922, 'pos'), (0, 0.9213680419539239, 'neg'), (1, 0.9651047580954412, 'pos'), (1, 0.9907382779438801, 'pos'), (1, 0.9407584802354595, 'pos'), (1, 0.9066322445182458, 'pos'), (1, 0.9631775477035809, 'pos'), (1, 0.9314866375227497, 'pos'), (0, 0.9, 'confuse'), (1, 0.9189558254183912, 'pos'), (1, 0.984771700873335, 'pos'), (0, 0.9048990222176992, 'neg'), (1, 0.9403177676753385, 'pos'), (1, 0.9779670021836793, 'pos'), (1, 0.9774992950758904, 'pos'), (1, 0.9670380366717541, 'pos'), (1, 0.5040858111102003, 'confuse'), (0, 0.947115643211946, 'neg'), (1, 0.9433857495958048, 'pos'), (1, 0.9426184896957199, 'pos'), (1, 0.9230171041744437, 'pos'), (0, 0.947115643211946, 'neg'), (1, 0.9170034702501454, 'pos'), (0, 0.9025179869918046, 'neg'), (1, 0.972363605468049, 'pos'), (1, 0.9502649809380564, 'pos'), (1, 0.8798608008369232, 'pos'), (0, 0.947115643211946, 'neg'), (0, 0.9135570468346395, 'neg'), (1, 0.9804525127370207, 'pos'), (1, 0.9713703225064577, 'pos'), (1, 0.96569231451628, 'pos'), (1, 0.975230636101425, 'pos'), (1, 0.9759638600480862, 'pos'), (0, 0.947115643211946, 'neg'), (1, 0.9376483299225923, 'pos'), (1, 0.558437348112599, 'confuse'), (1, 0.9027287682315143, 'pos'), (0, 0.947115643211946, 'neg'), (1, 0.9428010462804451, 'pos'), (1, 0.8807145830762625, 'pos'), (1, 0.903761007255968, 'pos'), (1, 0.9438718163551009, 'pos'), (0, 0.9135570468346395, 'neg'), (1, 0.965358880414508, 'pos'), (1, 0.9542675567559258, 'pos'), (1, 0.9763540268589217, 'pos'), (1, 0.9534237627028201, 'pos'), (1, 0.9699730528120529, 'pos'), (1, 0.9427556503881569, 'pos'), (1, 0.8669607188783676, 'pos'), (0, 0.947115643211946, 'neg'), (0, 0.947115643211946, 'neg'), (1, 0.93046325359007, 'pos'), (0, 0.9381721780149984, 'neg'), (1, 0.8774587277561355, 'pos'), (1, 0.973906657888247, 'pos'), (1, 0.9600791813138079, 'pos'), (1, 0.9313656155475518, 'pos'), (1, 0.9725977783070554, 'pos'), (0, 0.947115643211946, 'neg'), (1, 0.9476245701292522, 'pos'), (1, 0.9530003176073845, 'pos'), (1, 0.9441649689943663, 'pos'), (1, 0.971676142904939, 'pos'), (1, 0.9180538637222249, 'pos'), (1, 0.9302153008879775, 'pos'), (0, 0.9025179869918046, 'neg'), (1, 0.9669087400416366, 'pos'), (1, 0.9575571531389107, 'pos'), (1, 0.9275025740960613, 'pos'), (1, 0.855694608016622, 'pos'), (0, 0.947115643211946, 'neg'), (0, 0.947115643211946, 'neg'), (1, 0.6228675699312421, 'confuse'), (1, 0.9814571782906041, 'pos'), (1, 0.9342740122233252, 'pos'), (1, 0.9179389895129265, 'pos'), (1, 0.9385419522099646, 'pos'), (1, 0.9722977230600158, 'pos'), (1, 0.9538326041724418, 'pos'), (1, 0.8693499892162961, 'pos'), (1, 0.9134679839679374, 'pos'), (0, 0.947115643211946, 'neg'), (1, 0.9501736887050093, 'pos'), (1, 0.9837330219345454, 'pos'), (1, 0.9790440569756322, 'pos'), (1, 0.9627113779293781, 'pos'), (1, 0.9452377139375809, 'pos'), (1, 0.9723097278089871, 'pos'), (0, 0.947115643211946, 'neg'), (0, 0.947115643211946, 'neg'), (1, 0.9470264132992187, 'pos'), (1, 0.9749963211253381, 'pos'), (1, 0.879839580583725, 'pos'), (1, 0.5446185622147672, 'confuse'), (1, 0.9773058536308572, 'pos'), (1, 0.9789806581661633, 'pos'), (1, 0.9619909449640407, 'pos'), (1, 0.9066492384552468, 'pos'), (1, 0.9738081689401715, 'pos'), (0, 0.908491010110915, 'neg'), (1, 0.9465721759970182, 'pos'), (1, 0.9196320757009895, 'pos'), (1, 0.8569003363067509, 'pos'), (1, 0.9372768527337559, 'pos'), (1, 0.9129876361459182, 'pos'), (1, 0.9134696231297339, 'pos'), (1, 0.9489478605187116, 'pos'), (1, 0.9694179708310238, 'pos'), (1, 0.931847217281015, 'pos'), (1, 0.866281204692142, 'pos'), (1, 0.9756148030205075, 'pos'), (1, 0.9086189242676241, 'pos'), (1, 0.9611782165572993, 'pos'), (1, 0.9637509106241098, 'pos'), (0, 0.9, 'confuse'), (1, 0.9785226333150536, 'pos'), (1, 0.9698747897646692, 'pos'), (1, 0.9856857998211469, 'pos'), (1, 0.9270662792919147, 'pos'), (1, 0.874103990087011, 'pos'), (1, 0.9848438361840561, 'pos'), (0, 0.947115643211946, 'neg'), (1, 0.9778726061661871, 'pos'), (1, 0.9279368220896892, 'pos'), (1, 0.9917978423073514, 'pos'), (1, 0.9717989480681168, 'pos'), (0, 0.9, 'confuse'), (1, 0.8933859857203373, 'pos'), (1, 0.8514440830833074, 'pos'), (1, 0.944871981710951, 'pos'), (1, 0.9853292865079301, 'pos'), (1, 0.9692877500141422, 'pos'), (1, 0.9591053898832511, 'pos'), (0, 0.947115643211946, 'neg'), (1, 0.9416003143486927, 'pos'), (1, 0.9098949197844675, 'pos'), (1, 0.5533439312134188, 'confuse'), (1, 0.9561557758417344, 'pos'), (1, 0.9515445861466778, 'pos'), (1, 0.972067241776506, 'pos'), (1, 0.9416290346788848, 'pos'), (0, 0.947115643211946, 'neg'), (1, 0.9852842135062474, 'pos'), (1, 0.9381788415902118, 'pos'), (0, 0.947115643211946, 'neg'), (1, 0.9199053311627143, 'pos'), (1, 0.9292289422861881, 'pos'), (0, 0.9, 'confuse'), (0, 0.947115643211946, 'neg'), (1, 0.8666534942163017, 'pos'), (1, 0.9813586665775247, 'pos'), (0, 0.9, 'confuse'), (0, 0.908491010110915, 'neg'), (1, 0.9671384115421638, 'pos'), (1, 0.9571568533258201, 'pos'), (1, 0.5676373857083393, 'confuse'), (1, 0.9401882214507633, 'pos'), (1, 0.9535180776723177, 'pos'), (1, 0.9729245953214113, 'pos'), (0, 0.9, 'confuse'), (1, 0.9823553774734208, 'pos'), (0, 0.908491010110915, 'neg'), (1, 0.9050687724502808, 'pos'), (1, 0.9489840840697259, 'pos'), (1, 0.9643492572034844, 'pos'), (1, 0.8962307817708692, 'pos'), (1, 0.8661565943476672, 'pos'), (1, 0.9738453975660237, 'pos'), (0, 0.947115643211946, 'neg'), (1, 0.9902196974459535, 'pos'), (1, 0.946956714683893, 'pos'), (1, 0.9743115308755079, 'pos'), (1, 0.9444334777634384, 'pos'), (1, 0.9575358424893518, 'pos'), (1, 0.968560852379259, 'pos'), (1, 0.9794838051116447, 'pos'), (0, 0.947115643211946, 'neg'), (1, 0.8953255216803905, 'pos'), (0, 0.947115643211946, 'neg'), (1, 0.9800255463138583, 'pos'), (1, 0.9542996677502638, 'pos'), (1, 0.8516865988456586, 'pos'), (1, 0.9264169569430735, 'pos'), (1, 0.9255097209641349, 'pos'), (1, 0.959196736140916, 'pos'), (1, 0.9342578490675851, 'pos'), (1, 0.9815898708680809, 'pos'), (1, 0.9726727510399357, 'pos'), (0, 0.947115643211946, 'neg'), (1, 0.9457877416017768, 'pos'), (1, 0.96097094109168, 'pos'), (1, 0.9860822641399988, 'pos'), (0, 0.947115643211946, 'neg'), (1, 0.9612509227635041, 'pos'), (1, 0.9294491904117036, 'pos'), (1, 0.9197487690720727, 'pos'), (1, 0.9269349721732972, 'pos'), (1, 0.9483116281984374, 'pos'), (1, 0.9515512821508804, 'pos'), (1, 0.9452913231256843, 'pos'), (1, 0.9618138330033521, 'pos'), (1, 0.983377688313294, 'pos'), (1, 0.9488361984306568, 'pos'), (0, 0.9, 'confuse'), (1, 0.9401604685448139, 'pos'), (1, 0.9803361836329205, 'pos'), (1, 0.9271688946952171, 'pos'), (0, 0.947115643211946, 'neg'), (1, 0.9355865259544046, 'pos'), (1, 0.8958295193411192, 'pos'), (1, 0.9710904372442691, 'pos'), (1, 0.9633084348404342, 'pos'), (1, 0.9740039627067538, 'pos'), (1, 0.96165122804193, 'pos'), (1, 0.9102694166989643, 'pos'), (0, 0.947115643211946, 'neg'), (1, 0.8943348128656401, 'pos'), (1, 0.9277088389578324, 'pos'), (0, 0.947115643211946, 'neg'), (1, 0.9641797413923425, 'pos'), (1, 0.5224528557767636, 'confuse'), (1, 0.951700450569939, 'pos'), (1, 0.9664002027968059, 'pos'), (0, 0.947115643211946, 'neg'), (1, 0.9800224528592523, 'pos'), (1, 0.9543302365876171, 'pos'), (1, 0.8876430999102627, 'pos'), (1, 0.9685051296948639, 'pos'), (1, 0.9777562304129175, 'pos'), (1, 0.9462829629246576, 'pos'), (1, 0.9636828731666218, 'pos'), (0, 0.947115643211946, 'neg'), (0, 0.947115643211946, 'neg'), (1, 0.9016108392401655, 'pos'), (1, 0.9039043802086801, 'pos'), (0, 0.947115643211946, 'neg'), (0, 0.908491010110915, 'neg'), (1, 0.9271539697105318, 'pos'), (1, 0.9719989879919251, 'pos'), (1, 0.9821395836935306, 'pos'), (1, 0.9602513422356387, 'pos'), (1, 0.8592890192663643, 'pos'), (1, 0.8746330490194882, 'pos'), (1, 0.9805620857269279, 'pos'), (1, 0.9221258576374322, 'pos'), (1, 0.9753772810650201, 'pos'), (1, 0.8527937551925276, 'pos'), (1, 0.9531090721985283, 'pos'), (1, 0.5251497259360032, 'confuse'), (1, 0.9521075304404996, 'pos'), (0, 0.9135570468346395, 'neg'), (1, 0.9271228085433169, 'pos'), (1, 0.9654971841836485, 'pos'), (1, 0.8967795542174194, 'pos'), (1, 0.9366527966538989, 'pos'), (0, 0.947115643211946, 'neg'), (1, 0.9765670771399746, 'pos'), (1, 0.9491097807817397, 'pos'), (1, 0.9543975901049698, 'pos'), (1, 0.9379518527205335, 'pos'), (1, 0.9719114240110762, 'pos'), (0, 0.947115643211946, 'neg'), (1, 0.9373136902663509, 'pos'), (1, 0.9601944031385704, 'pos'), (1, 0.9158296903816382, 'pos'), (0, 0.947115643211946, 'neg'), (0, 0.9, 'confuse'), (0, 0.947115643211946, 'neg'), (1, 0.9408948776209651, 'pos'), (0, 0.947115643211946, 'neg'), (1, 0.9475682838734638, 'pos'), (1, 0.9572388909692515, 'pos'), (1, 0.9626779699621594, 'pos'), (1, 0.9488214748012369, 'pos'), (1, 0.9625511549304153, 'pos'), (1, 0.9307916075054837, 'pos'), (1, 0.8634645173789135, 'pos'), (1, 0.9521063008940811, 'pos'), (1, 0.9153336266125409, 'pos'), (1, 0.9441094071935374, 'pos'), (1, 0.5319716100809369, 'confuse'), (1, 0.8830688447181625, 'pos'), (1, 0.9384671789663193, 'pos'), (1, 0.9741110315084492, 'pos'), (1, 0.9409243858681083, 'pos'), (1, 0.9385361749484206, 'pos'), (1, 0.8530984379331443, 'pos'), (1, 0.9267657439649433, 'pos'), (1, 0.9290814705557515, 'pos'), (1, 0.9487390649618686, 'pos'), (0, 0.9, 'confuse'), (0, 0.947115643211946, 'neg'), (1, 0.9750352569099288, 'pos'), (1, 0.9677437976593943, 'pos'), (1, 0.9418549251476886, 'pos'), (1, 0.9094668528960363, 'pos'), (1, 0.9588759671707828, 'pos'), (1, 0.941989115681751, 'pos'), (1, 0.9788258450321543, 'pos'), (0, 0.947115643211946, 'neg'), (1, 0.9709498266773441, 'pos'), (1, 0.9260124899986746, 'pos'), (0, 0.947115643211946, 'neg'), (1, 0.9772613854222909, 'pos'), (1, 0.9044300729265183, 'pos'), (1, 0.9365778677449395, 'pos'), (1, 0.8502041168930987, 'pos'), (1, 0.9532599176836698, 'pos'), (1, 0.8798735036303466, 'pos'), (1, 0.9591505205978053, 'pos'), (1, 0.9567008239381686, 'pos'), (1, 0.9486282961703489, 'pos'), (0, 0.9135570468346395, 'neg'), (1, 0.9410756864229957, 'pos'), (1, 0.9509552126842014, 'pos'), (0, 0.9270892659526293, 'neg'), (1, 0.8975976413547129, 'pos'), (1, 0.9734323190152848, 'pos'), (0, 0.9, 'confuse'), (1, 0.9076545210084562, 'pos'), (1, 0.5817346707347686, 'confuse'), (1, 0.9844994701985375, 'pos'), (1, 0.966948936429399, 'pos'), (1, 0.9652047799851511, 'pos'), (1, 0.9558772606340484, 'pos'), (0, 0.947115643211946, 'neg'), (0, 0.9, 'confuse'), (1, 0.9351590382666795, 'pos'), (0, 0.947115643211946, 'neg'), (1, 0.9646475674436701, 'pos'), (1, 0.8514407956824925, 'pos'), (1, 0.960334870300907, 'pos'), (1, 0.954503931478552, 'pos'), (0, 0.947115643211946, 'neg'), (1, 0.9760505589918587, 'pos'), (0, 0.9, 'confuse'), (1, 0.5110312710734952, 'confuse'), (1, 0.8900282097846007, 'pos'), (1, 0.9528517603115649, 'pos'), (0, 0.947115643211946, 'neg'), (1, 0.9577448289852704, 'pos'), (0, 0.947115643211946, 'neg'), (1, 0.9581076572260934, 'pos'), (1, 0.9593544550811203, 'pos'), (1, 0.5410354515708486, 'confuse'), (1, 0.9685825972796922, 'pos'), (1, 0.9353170086901818, 'pos'), (1, 0.9781024121869436, 'pos'), (1, 0.9548865543743215, 'pos'), (1, 0.9233770239823145, 'pos'), (1, 0.9713436189273045, 'pos'), (1, 0.9493181126042858, 'pos'), (1, 0.8779732071953296, 'pos'), (1, 0.9488883826672696, 'pos'), (1, 0.9350240947001884, 'pos'), (1, 0.9295808940033867, 'pos'), (1, 0.9737102618372944, 'pos'), (1, 0.9293780151724885, 'pos'), (1, 0.5709937842501681, 'confuse'), (0, 0.9135570468346395, 'neg'), (0, 0.9, 'confuse'), (1, 0.9629621664252322, 'pos'), (1, 0.9674296430641289, 'pos'), (0, 0.947115643211946, 'neg'), (1, 0.9432740131478633, 'pos'), (1, 0.9007615048408567, 'pos'), (1, 0.9617560643339657, 'pos'), (1, 0.9330318334035145, 'pos'), (1, 0.9766788625386196, 'pos'), (1, 0.5686986732434454, 'confuse'), (0, 0.9381721780149984, 'neg'), (1, 0.9514420668769926, 'pos'), (0, 0.9, 'confuse'), (1, 0.9250017497337104, 'pos'), (0, 0.947115643211946, 'neg'), (1, 0.9737181789612881, 'pos'), (1, 0.9775465719674493, 'pos'), (1, 0.9522349254658404, 'pos'), (1, 0.9599919348020883, 'pos'), (1, 0.925926290338311, 'pos'), (1, 0.9850472944324509, 'pos'), (1, 0.9239670830982837, 'pos'), (1, 0.9411336296860358, 'pos'), (0, 0.947115643211946, 'neg'), (1, 0.8761415596773927, 'pos'), (1, 0.947470438945988, 'pos'), (0, 0.947115643211946, 'neg'), (1, 0.9763451259500204, 'pos'), (1, 0.8667876222979111, 'pos'), (1, 0.8764883236832308, 'pos'), (1, 0.9515418855272312, 'pos'), (1, 0.8897117520590818, 'pos'), (1, 0.9571857757883631, 'pos'), (1, 0.9419262469037516, 'pos'), (1, 0.9703874108399295, 'pos'), (1, 0.9151457025474243, 'pos'), (1, 0.9516095003377881, 'pos'), (1, 0.8782065105979354, 'pos'), (1, 0.879844493249849, 'pos'), (1, 0.9331931170821512, 'pos'), (1, 0.9388474865757264, 'pos'), (1, 0.8489058060983904, 'pos'), (1, 0.9558707617057077, 'pos'), (0, 0.947115643211946, 'neg'), (1, 0.9127578083532292, 'pos'), (1, 0.9476069705226742, 'pos'), (0, 0.947115643211946, 'neg'), (0, 0.947115643211946, 'neg'), (1, 0.933904460373788, 'pos'), (1, 0.9638722311339887, 'pos'), (1, 0.9724650128807765, 'pos'), (1, 0.8667783783611316, 'pos'), (0, 0.9, 'confuse'), (1, 0.9674887985275777, 'pos'), (1, 0.9603951030031361, 'pos'), (0, 0.947115643211946, 'neg'), (0, 0.947115643211946, 'neg'), (1, 0.8691155216536532, 'pos'), (1, 0.9162077606081374, 'pos'), (1, 0.9546314031543839, 'pos'), (1, 0.9778392607089021, 'pos'), (1, 0.9782926239789216, 'pos'), (1, 0.9001286258364469, 'pos'), (1, 0.9283381042314055, 'pos'), (1, 0.5171145105655524, 'confuse'), (1, 0.970150881234591, 'pos'), (1, 0.9734415583287438, 'pos'), (1, 0.9631826181593104, 'pos'), (1, 0.9770835194983007, 'pos'), (1, 0.9534946700450974, 'pos'), (1, 0.9337593911429952, 'pos'), (1, 0.9593043347807775, 'pos'), (1, 0.9276651944301783, 'pos'), (1, 0.9678228898135581, 'pos'), (1, 0.9693370933467076, 'pos'), (1, 0.9130091670996408, 'pos'), (0, 0.9135570468346395, 'neg'), (1, 0.9391634403842684, 'pos'), (1, 0.9238857121999159, 'pos'), (1, 0.9387651837518465, 'pos'), (1, 0.9291500177798436, 'pos'), (1, 0.9458091377786519, 'pos'), (1, 0.9588728854256043, 'pos'), (1, 0.9585560555388071, 'pos'), (1, 0.9142606862877158, 'pos'), (1, 0.958733534974779, 'pos'), (1, 0.9854789609018834, 'pos'), (1, 0.9610172479640674, 'pos'), (1, 0.8696428577490147, 'pos'), (1, 0.9726784065099559, 'pos'), (1, 0.9308681327629484, 'pos'), (1, 0.9605767087461604, 'pos'), (1, 0.9767818633253753, 'pos'), (1, 0.9746076833757904, 'pos'), (1, 0.8765327220697875, 'pos'), (1, 0.9035872525596712, 'pos'), (0, 0.9, 'confuse'), (1, 0.9211735322607885, 'pos'), (1, 0.9439316058017111, 'pos'), (1, 0.9568517660072443, 'pos'), (1, 0.9740707044240793, 'pos'), (1, 0.9586331482804191, 'pos'), (1, 0.9039789193450851, 'pos'), (0, 0.947115643211946, 'neg'), (1, 0.9783356499861371, 'pos'), (1, 0.9273565400429249, 'pos'), (1, 0.9450978460944537, 'pos'), (1, 0.9369164609521977, 'pos'), (1, 0.978222517922358, 'pos'), (1, 0.9778086818249795, 'pos'), (1, 0.9049365842013213, 'pos'), (1, 0.9482827211320177, 'pos'), (0, 0.9, 'confuse'), (0, 0.947115643211946, 'neg'), (0, 0.908491010110915, 'neg'), (1, 0.9076473913203781, 'pos'), (1, 0.9695308978536794, 'pos'), (1, 0.9342489341354707, 'pos'), (0, 0.947115643211946, 'neg'), (0, 0.947115643211946, 'neg'), (0, 0.947115643211946, 'neg'), (1, 0.9843459674296458, 'pos'), (0, 0.9, 'confuse'), (1, 0.9441255112481386, 'pos'), (1, 0.9201270798654313, 'pos'), (1, 0.9322180232865304, 'pos'), (1, 0.877398195093917, 'pos'), (1, 0.896296480576239, 'pos'), (1, 0.9497330319451864, 'pos'), (0, 0.9135570468346395, 'neg'), (1, 0.9709045598194648, 'pos'), (1, 0.9599550565100303, 'pos'), (1, 0.9036827241866412, 'pos'), (1, 0.9432273343269129, 'pos'), (1, 0.9782459037314112, 'pos'), (0, 0.908491010110915, 'neg'), (1, 0.9507598590403401, 'pos'), (1, 0.961422807131511, 'pos'), (0, 0.908491010110915, 'neg'), (1, 0.9132840646774831, 'pos'), (1, 0.9327097549722408, 'pos'), (0, 0.9, 'confuse'), (0, 0.9, 'confuse'), (1, 0.9716302597157587, 'pos'), (0, 0.9, 'confuse'), (1, 0.950377119335841, 'pos'), (0, 0.908491010110915, 'neg'), (1, 0.9276318710738908, 'pos'), (1, 0.9811986421187925, 'pos'), (1, 0.941841305426172, 'pos'), (1, 0.9721771016002734, 'pos'), (1, 0.9549916449051068, 'pos'), (1, 0.9785089180507072, 'pos'), (1, 0.5671349167602712, 'confuse'), (1, 0.9599953033781412, 'pos'), (1, 0.9055613283116284, 'pos'), (1, 0.963296797763667, 'pos'), (1, 0.9727028963215986, 'pos'), (0, 0.9, 'confuse'), (0, 0.947115643211946, 'neg'), (0, 0.9, 'confuse'), (1, 0.9555055986906069, 'pos'), (1, 0.9796860373262692, 'pos'), (1, 0.5197723389197496, 'confuse'), (1, 0.926731906122859, 'pos'), (1, 0.9598732418473936, 'pos'), (1, 0.9773133076860798, 'pos'), (1, 0.8917092964712918, 'pos'), (0, 0.9331504778652919, 'neg'), (1, 0.9228502712549289, 'pos'), (1, 0.9171354342623743, 'pos'), (0, 0.9, 'confuse'), (0, 0.9, 'confuse'), (0, 0.9381721780149984, 'neg'), (1, 0.9273846958936259, 'pos'), (0, 0.947115643211946, 'neg'), (1, 0.946657810132916, 'pos'), (1, 0.9777245585888515, 'pos'), (1, 0.958834951393543, 'pos'), (1, 0.9453715233211195, 'pos'), (1, 0.9363135434394962, 'pos'), (1, 0.9682999451326257, 'pos'), (1, 0.9387115611021688, 'pos'), (1, 0.9505431897246357, 'pos'), (1, 0.9631738040986226, 'pos'), (1, 0.9607483500063789, 'pos'), (1, 0.9580050806324909, 'pos'), (0, 0.9135570468346395, 'neg'), (1, 0.5653000165541522, 'confuse'), (1, 0.9466214038362473, 'pos'), (1, 0.8813552315153703, 'pos'), (1, 0.9166620292745972, 'pos'), (1, 0.9198293368028299, 'pos'), (1, 0.9155030151550634, 'pos'), (1, 0.9091245864433007, 'pos'), (0, 0.947115643211946, 'neg'), (1, 0.9369629532694574, 'pos'), (0, 0.947115643211946, 'neg'), (0, 0.9373534876438286, 'neg'), (1, 0.9146078268554753, 'pos'), (1, 0.9319575112786218, 'pos'), (1, 0.9428732405127851, 'pos'), (1, 0.9176895882298263, 'pos'), (1, 0.8987981542018769, 'pos'), (1, 0.8931898797382651, 'pos'), (1, 0.9667118855233031, 'pos'), (1, 0.9791957311752817, 'pos'), (1, 0.8965646481046161, 'pos'), (0, 0.947115643211946, 'neg'), (0, 0.947115643211946, 'neg'), (1, 0.9445789783858117, 'pos'), (1, 0.9516172794612612, 'pos'), (1, 0.9278913569506134, 'pos'), (1, 0.9394158831825589, 'pos'), (1, 0.9673671740673552, 'pos'), (1, 0.9423141326576581, 'pos'), (1, 0.8688797061745295, 'pos'), (1, 0.9386085997041033, 'pos'), (1, 0.9245762504493171, 'pos'), (1, 0.9648894798970474, 'pos'), (1, 0.9669885307523863, 'pos'), (1, 0.9391295110557161, 'pos'), (1, 0.977311829686465, 'pos'), (1, 0.8740599295879017, 'pos'), (1, 0.9582274779647945, 'pos'), (1, 0.9119017272658423, 'pos'), (0, 0.909106785877146, 'neg'), (1, 0.9181136252381579, 'pos'), (1, 0.951770102438719, 'pos'), (1, 0.570677464442065, 'confuse'), (1, 0.9449849276210894, 'pos'), (1, 0.9633809748090499, 'pos'), (0, 0.947115643211946, 'neg'), (1, 0.8887562571464811, 'pos'), (1, 0.9749211763778737, 'pos'), (1, 0.8938848288609226, 'pos'), (1, 0.9379940366228631, 'pos'), (1, 0.9404418709367878, 'pos'), (0, 0.9135570468346395, 'neg'), (1, 0.9624635717090975, 'pos'), (1, 0.9473496325600376, 'pos'), (0, 0.9, 'confuse'), (1, 0.9372871933941003, 'pos'), (1, 0.9653540225165944, 'pos'), (1, 0.9803170648124329, 'pos'), (1, 0.9639646610128405, 'pos'), (0, 0.947115643211946, 'neg'), (0, 0.9, 'confuse'), (1, 0.9353942069821045, 'pos'), (1, 0.9370403196731256, 'pos'), (1, 0.9680181775004282, 'pos'), (1, 0.9667481380040066, 'pos'), (1, 0.9556829934143355, 'pos'), (1, 0.5699423259794109, 'confuse'), (1, 0.9397565544665051, 'pos'), (1, 0.9585163270546676, 'pos'), (0, 0.9258829052017932, 'neg'), (1, 0.9426030697935601, 'pos'), (1, 0.95897068710599, 'pos'), (1, 0.8968379907685812, 'pos'), (1, 0.8666195045787493, 'pos'), (1, 0.9608887012275471, 'pos'), (1, 0.9651873304916989, 'pos'), (1, 0.934310649759437, 'pos'), (1, 0.9875270936270454, 'pos'), (1, 0.9685809796379894, 'pos'), (1, 0.9639376274970731, 'pos'), (1, 0.9588345790031237, 'pos'), (1, 0.9467240144794588, 'pos'), (0, 0.947115643211946, 'neg'), (1, 0.8840374075542192, 'pos'), (0, 0.947115643211946, 'neg'), (0, 0.908491010110915, 'neg'), (1, 0.9676709049225585, 'pos'), (1, 0.9714757848631084, 'pos'), (0, 0.9, 'confuse'), (0, 0.947115643211946, 'neg'), (1, 0.974249268660596, 'pos'), (1, 0.9769603107708302, 'pos'), (0, 0.947115643211946, 'neg'), (0, 0.9048990222176992, 'neg'), (1, 0.9099201904632535, 'pos'), (1, 0.9701082307377072, 'pos'), (0, 0.9, 'confuse'), (1, 0.9643303176230773, 'pos'), (1, 0.8688686100090187, 'pos'), (1, 0.9734764927414943, 'pos'), (1, 0.946892510751249, 'pos'), (1, 0.9649511374781514, 'pos'), (1, 0.8972651567739772, 'pos'), (1, 0.9650814705650369, 'pos'), (1, 0.9764300359306123, 'pos'), (1, 0.9763586267827119, 'pos'), (1, 0.9482784458760248, 'pos'), (1, 0.9678640451857398, 'pos'), (1, 0.9529878951648831, 'pos'), (1, 0.9477801528941555, 'pos'), (1, 0.8678106342619328, 'pos'), (1, 0.8741039162042352, 'pos'), (1, 0.9508506843470401, 'pos'), (1, 0.9539227364083696, 'pos'), (1, 0.5501161571923441, 'confuse'), (0, 0.947115643211946, 'neg'), (1, 0.8969247691807805, 'pos'), (1, 0.9088978731494345, 'pos'), (1, 0.8627106793073741, 'pos'), (1, 0.9509549903056733, 'pos'), (1, 0.8958133248919745, 'pos'), (1, 0.9774866524209562, 'pos'), (1, 0.9473720408232176, 'pos'), (1, 0.9542829297476985, 'pos'), (1, 0.9703860227351996, 'pos'), (1, 0.9561043173621337, 'pos'), (1, 0.9058122454428694, 'pos'), (1, 0.5339150417116971, 'confuse'), (1, 0.8789800250447669, 'pos'), (0, 0.9135570468346395, 'neg'), (1, 0.9459469053246325, 'pos'), (1, 0.9563676275400719, 'pos'), (1, 0.9238653739350395, 'pos'), (1, 0.5396663390678578, 'confuse'), (0, 0.9, 'confuse'), (0, 0.947115643211946, 'neg'), (1, 0.8706773235720003, 'pos'), (1, 0.9596988993685454, 'pos'), (1, 0.9866170307882524, 'pos'), (1, 0.9615355510091307, 'pos'), (1, 0.9820589049431998, 'pos'), (1, 0.9688660724499657, 'pos'), (1, 0.9181215982907979, 'pos'), (0, 0.9, 'confuse'), (1, 0.9404236193689745, 'pos'), (1, 0.9672222581465754, 'pos'), (1, 0.904869401693918, 'pos'), (1, 0.9135117947765217, 'pos'), (0, 0.9025179869918046, 'neg'), (1, 0.9639076563423229, 'pos'), (1, 0.8726015740470208, 'pos'), (0, 0.9, 'confuse'), (1, 0.9694867646951076, 'pos'), (0, 0.9, 'confuse'), (1, 0.9575174002930676, 'pos'), (1, 0.9204290315684419, 'pos'), (1, 0.9845560192882898, 'pos'), (1, 0.9169498160572591, 'pos'), (1, 0.9456053856172618, 'pos'), (1, 0.9635527969418171, 'pos'), (0, 0.9135570468346395, 'neg'), (1, 0.9182175045086829, 'pos'), (1, 0.9691315127210558, 'pos'), (1, 0.9218897231105565, 'pos'), (1, 0.9478306392638419, 'pos'), (1, 0.8910203575968666, 'pos'), (0, 0.947115643211946, 'neg'), (1, 0.9353178337898861, 'pos'), (1, 0.9368192739922261, 'pos'), (1, 0.9731096514633559, 'pos'), (1, 0.9594744062615674, 'pos'), (1, 0.9750683118465909, 'pos'), (1, 0.9506220069839614, 'pos'), (1, 0.9260992110978201, 'pos'), (1, 0.972120565834451, 'pos'), (1, 0.9723425203929412, 'pos'), (1, 0.9314551634125392, 'pos'), (1, 0.9582857354199886, 'pos'), (0, 0.947115643211946, 'neg'), (1, 0.9753682847531365, 'pos'), (1, 0.9696675727571702, 'pos'), (1, 0.9684222526430633, 'pos'), (0, 0.947115643211946, 'neg'), (1, 0.9313264151633097, 'pos'), (1, 0.9647457424091899, 'pos'), (1, 0.91288277256429, 'pos'), (1, 0.9259485547515606, 'pos'), (1, 0.9827095471774294, 'pos'), (1, 0.903325481493128, 'pos'), (1, 0.972661782581038, 'pos'), (1, 0.9023230100154104, 'pos'), (1, 0.9653426735989763, 'pos'), (1, 0.8917907058420356, 'pos'), (1, 0.918945191224703, 'pos'), (1, 0.9258846549565888, 'pos'), (1, 0.91378641498798, 'pos'), (1, 0.9643938162059363, 'pos'), (0, 0.947115643211946, 'neg'), (1, 0.5083712271722581, 'confuse'), (0, 0.9000341840570604, 'neg'), (1, 0.895004498757219, 'pos'), (1, 0.907628742264863, 'pos'), (1, 0.8982741058672271, 'pos'), (1, 0.9616519033587677, 'pos'), (0, 0.9135570468346395, 'neg'), (1, 0.9706261578201627, 'pos'), (1, 0.9353277136403152, 'pos'), (1, 0.916164949595235, 'pos'), (0, 0.947115643211946, 'neg'), (1, 0.963515109358309, 'pos'), (1, 0.8677478060596944, 'pos'), (1, 0.8503461622951338, 'pos'), (1, 0.9481417157780342, 'pos'), (0, 0.9, 'confuse'), (0, 0.947115643211946, 'neg'), (1, 0.9452247861140256, 'pos'), (1, 0.9306109794875894, 'pos'), (1, 0.9814928504101295, 'pos'), (1, 0.9673274767924012, 'pos'), (0, 0.9, 'confuse'), (0, 0.947115643211946, 'neg'), (1, 0.9363244881049523, 'pos'), (0, 0.9135570468346395, 'neg'), (1, 0.952623916273512, 'pos'), (1, 0.9322425202674554, 'pos'), (0, 0.947115643211946, 'neg'), (1, 0.9620517310513843, 'pos'), (0, 0.9, 'confuse'), (1, 0.9376300844175616, 'pos'), (1, 0.964334852940971, 'pos'), (1, 0.8864721769297411, 'pos'), (1, 0.9746142923425634, 'pos'), (0, 0.9, 'confuse'), (1, 0.9746030566734234, 'pos'), (1, 0.9197073507133833, 'pos'), (1, 0.8876490913080357, 'pos'), (0, 0.9135570468346395, 'neg'), (1, 0.952087851515854, 'pos'), (0, 0.9, 'confuse'), (1, 0.8822234774650111, 'pos'), (0, 0.947115643211946, 'neg'), (1, 0.8978698023285967, 'pos'), (1, 0.96710055807578, 'pos'), (1, 0.9028069462907873, 'pos'), (1, 0.9704125104165413, 'pos'), (1, 0.9220936880847195, 'pos'), (1, 0.9746832307224575, 'pos'), (1, 0.8596185118638582, 'pos'), (1, 0.9507101010455491, 'pos'), (1, 0.5069609740393171, 'confuse'), (0, 0.9000341840570604, 'neg'), (1, 0.9587117766371598, 'pos'), (1, 0.5742092297129073, 'confuse'), (1, 0.9019038927806229, 'pos'), (1, 0.9791835334364569, 'pos'), (1, 0.8991522085895209, 'pos'), (1, 0.8675948110985496, 'pos'), (1, 0.9729555596923835, 'pos'), (1, 0.9323510455951659, 'pos'), (1, 0.9475408185803593, 'pos'), (1, 0.9612868939591364, 'pos'), (1, 0.9403806186728136, 'pos'), (1, 0.9259698511215625, 'pos'), (1, 0.9483850097321989, 'pos'), (1, 0.9829595859642932, 'pos'), (1, 0.5089136146731836, 'confuse'), (1, 0.9080264621594903, 'pos'), (0, 0.9, 'confuse'), (1, 0.9560350339001236, 'pos'), (1, 0.9701481814728439, 'pos'), (1, 0.9654564632175759, 'pos'), (1, 0.9296227826532707, 'pos'), (1, 0.8699776647581704, 'pos'), (0, 0.947115643211946, 'neg'), (1, 0.9674497513065285, 'pos'), (1, 0.9479747262540169, 'pos'), (1, 0.9636091408032499, 'pos'), (1, 0.9556616136368504, 'pos'), (1, 0.9553380016716797, 'pos'), (1, 0.9479034386926513, 'pos'), (1, 0.956586656400874, 'pos'), (0, 0.947115643211946, 'neg'), (1, 0.9598216858964449, 'pos'), (1, 0.9362337664092012, 'pos'), (1, 0.944410771686151, 'pos'), (1, 0.9218362388438784, 'pos'), (0, 0.9381721780149984, 'neg'), (1, 0.9641035668332469, 'pos'), (1, 0.9098678896740487, 'pos'), (0, 0.947115643211946, 'neg'), (1, 0.9734018003439013, 'pos'), (1, 0.948946315401806, 'pos'), (0, 0.9082633288146441, 'neg'), (1, 0.569071177840734, 'confuse'), (1, 0.9667272611465242, 'pos'), (1, 0.9433795001413927, 'pos'), (1, 0.9508570449886642, 'pos'), (1, 0.9445090359665184, 'pos'), (1, 0.9445099215749948, 'pos'), (1, 0.9404363525666957, 'pos'), (1, 0.9318675135728892, 'pos'), (1, 0.9800809724113775, 'pos'), (0, 0.9, 'confuse'), (1, 0.5235616090455183, 'confuse'), (1, 0.9584251388953074, 'pos'), (0, 0.9, 'confuse'), (1, 0.9372388004660926, 'pos'), (1, 0.9566890574300816, 'pos'), (1, 0.9807597041038711, 'pos'), (0, 0.908491010110915, 'neg'), (0, 0.9, 'confuse'), (1, 0.9071151583256466, 'pos'), (0, 0.947115643211946, 'neg'), (1, 0.9666123797017082, 'pos'), (1, 0.8653909149417972, 'pos'), (0, 0.9, 'confuse'), (1, 0.9263946671183166, 'pos'), (1, 0.9239923769146504, 'pos'), (1, 0.9267270172628249, 'pos'), (1, 0.9477273504993073, 'pos'), (1, 0.9509972566453161, 'pos'), (1, 0.9543581306610642, 'pos'), (1, 0.8744522622385216, 'pos'), (1, 0.9167905576269524, 'pos'), (1, 0.9355283420162328, 'pos'), (0, 0.9000341840570604, 'neg'), (1, 0.9181636111892251, 'pos'), (0, 0.9, 'confuse'), (1, 0.9460978512672957, 'pos'), (1, 0.9707458920604735, 'pos'), (1, 0.9739152635659382, 'pos'), (1, 0.9047517556566111, 'pos'), (1, 0.9299712401544646, 'pos'), (1, 0.9854006083323995, 'pos'), (1, 0.9401675617651712, 'pos'), (1, 0.8540897796427039, 'pos'), (1, 0.9881539533828096, 'pos'), (1, 0.9185757341805225, 'pos'), (1, 0.5042469852373144, 'confuse'), (1, 0.8716890585367791, 'pos'), (1, 0.9031895544471975, 'pos'), (1, 0.9595035802493698, 'pos'), (1, 0.9303588720328829, 'pos'), (1, 0.9350718205619593, 'pos'), (1, 0.9452815597234648, 'pos'), (1, 0.9768819780199838, 'pos'), (1, 0.9408361306397763, 'pos'), (1, 0.9251609792363009, 'pos'), (1, 0.9656081484773195, 'pos'), (0, 0.947115643211946, 'neg'), (1, 0.950468941172592, 'pos'), (0, 0.947115643211946, 'neg'), (1, 0.9135218513223456, 'pos'), (1, 0.9407763372660515, 'pos'), (1, 0.9706437741039935, 'pos'), (0, 0.9000341840570604, 'neg'), (1, 0.9557941620214109, 'pos'), (0, 0.947115643211946, 'neg'), (1, 0.947865570911052, 'pos'), (1, 0.9742655581018271, 'pos'), (1, 0.970008202460793, 'pos'), (1, 0.8878060799478933, 'pos'), (1, 0.9429680940936132, 'pos'), (1, 0.9868199328476155, 'pos'), (1, 0.9764968831249256, 'pos'), (0, 0.947115643211946, 'neg'), (0, 0.947115643211946, 'neg'), (1, 0.9215654096595838, 'pos'), (0, 0.947115643211946, 'neg'), (1, 0.9664757454984041, 'pos'), (1, 0.9293789557907649, 'pos'), (1, 0.9358456903815808, 'pos'), (1, 0.9418905167730249, 'pos'), (1, 0.9405905337984175, 'pos'), (1, 0.961606669484776, 'pos'), (1, 0.8870749652167419, 'pos'), (1, 0.9690786258726358, 'pos'), (1, 0.9836953681193641, 'pos'), (1, 0.8659333128524519, 'pos'), (1, 0.9168345379320385, 'pos'), (1, 0.9744704599515727, 'pos'), (1, 0.9659188902750688, 'pos'), (0, 0.947115643211946, 'neg'), (1, 0.9656176461184952, 'pos'), (1, 0.9376179064825108, 'pos'), (1, 0.9149239227710246, 'pos'), (1, 0.5311402082657244, 'confuse'), (1, 0.9565724403280698, 'pos'), (1, 0.8878623423545676, 'pos'), (1, 0.9703665228570608, 'pos'), (0, 0.947115643211946, 'neg'), (1, 0.9346298670374924, 'pos'), (1, 0.9660929241875532, 'pos'), (1, 0.9548688853772876, 'pos'), (1, 0.9570480183156007, 'pos'), (1, 0.9591404766076878, 'pos'), (1, 0.9398734546000043, 'pos'), (1, 0.9537250973939777, 'pos'), (0, 0.9000341840570604, 'neg'), (1, 0.9535214917346039, 'pos'), (1, 0.9469056881614982, 'pos'), (1, 0.9482653742556408, 'pos'), (1, 0.9250234491474794, 'pos'), (1, 0.9892214531444093, 'pos'), (0, 0.947115643211946, 'neg'), (1, 0.9751907733685469, 'pos'), (1, 0.9731195446956518, 'pos'), (0, 0.9, 'confuse'), (1, 0.9232356756930343, 'pos'), (1, 0.8788397387133002, 'pos'), (1, 0.9641190450098612, 'pos'), (1, 0.8898353945816112, 'pos'), (0, 0.947115643211946, 'neg'), (1, 0.9350608178097788, 'pos'), (0, 0.9381721780149984, 'neg'), (0, 0.9025179869918046, 'neg'), (1, 0.9674838538540674, 'pos'), (1, 0.9857604344191557, 'pos'), (1, 0.9577066860185003, 'pos'), (1, 0.973949383580543, 'pos'), (1, 0.9553385601609318, 'pos'), (0, 0.9, 'confuse'), (0, 0.9, 'confuse'), (1, 0.9198635066828518, 'pos'), (0, 0.947115643211946, 'neg'), (1, 0.9427212145925392, 'pos'), (1, 0.9484657362321929, 'pos'), (1, 0.9461315235865992, 'pos'), (1, 0.9438366911209156, 'pos'), (1, 0.9293610045728411, 'pos'), (1, 0.9764916626829002, 'pos'), (1, 0.9484911603192427, 'pos'), (1, 0.952611604329182, 'pos'), (1, 0.8966055457635731, 'pos'), (1, 0.9194719177013141, 'pos'), (1, 0.9403222028910783, 'pos'), (0, 0.9, 'confuse'), (1, 0.9794557904214793, 'pos'), (1, 0.9615060047329888, 'pos'), (0, 0.9, 'confuse'), (1, 0.9204839075397253, 'pos'), (1, 0.8737314245179668, 'pos'), (0, 0.9381721780149984, 'neg'), (1, 0.9632852008252787, 'pos'), (1, 0.9273209175097088, 'pos'), (1, 0.986224349147987, 'pos'), (1, 0.609377485905088, 'confuse'), (0, 0.947115643211946, 'neg'), (1, 0.9546099524036645, 'pos'), (1, 0.9729882537293104, 'pos'), (0, 0.947115643211946, 'neg'), (1, 0.9665667184754534, 'pos'), (0, 0.947115643211946, 'neg'), (1, 0.9435269252461433, 'pos'), (1, 0.9573963810429887, 'pos'), (1, 0.9006953749054125, 'pos'), (1, 0.8519644023048889, 'pos'), (1, 0.9444729815628558, 'pos'), (1, 0.9497644637285575, 'pos'), (1, 0.9462075479086149, 'pos'), (1, 0.9658695213816092, 'pos'), (1, 0.9577287409524878, 'pos'), (1, 0.9730581840612615, 'pos'), (1, 0.9576808354674119, 'pos'), (1, 0.9732048160631926, 'pos'), (1, 0.9848303122649874, 'pos'), (1, 0.5482964890839997, 'confuse'), (0, 0.947115643211946, 'neg'), (1, 0.8557062594544064, 'pos'), (1, 0.9454753534092651, 'pos'), (1, 0.960371723018256, 'pos'), (1, 0.9023621802432578, 'pos'), (0, 0.9, 'confuse'), (1, 0.9558205528805626, 'pos'), (1, 0.9653045867071569, 'pos'), (1, 0.9792720027703726, 'pos'), (1, 0.5106235445090267, 'confuse'), (1, 0.9588036159390771, 'pos'), (1, 0.9232901754627958, 'pos'), (1, 0.9388183222012436, 'pos'), (0, 0.947115643211946, 'neg'), (1, 0.961661156778615, 'pos'), (1, 0.9347196816081361, 'pos'), (0, 0.947115643211946, 'neg'), (1, 0.9257837789125866, 'pos'), (1, 0.980032349201778, 'pos'), (1, 0.9778472421843057, 'pos'), (1, 0.9133131662451015, 'pos'), (0, 0.9, 'confuse'), (1, 0.9274952992487513, 'pos'), (1, 0.9771667509954979, 'pos'), (1, 0.9731703468449506, 'pos'), (1, 0.9810968443635442, 'pos'), (1, 0.9610945641885618, 'pos'), (0, 0.9, 'confuse'), (1, 0.9714947667487497, 'pos'), (1, 0.9454422418286302, 'pos'), (0, 0.9, 'confuse'), (1, 0.9012883875291442, 'pos'), (1, 0.9610283115263514, 'pos'), (1, 0.9343628383668726, 'pos'), (1, 0.97844509032441, 'pos'), (1, 0.9516058136756126, 'pos'), (1, 0.8972312695116947, 'pos'), (1, 0.9659520593447837, 'pos'), (1, 0.9756430603505901, 'pos'), (1, 0.5392755492755357, 'confuse'), (0, 0.9, 'confuse'), (1, 0.9671854971736794, 'pos'), (1, 0.896723264947636, 'pos'), (1, 0.965313681133632, 'pos'), (1, 0.9654802341036675, 'pos'), (1, 0.9337944606467066, 'pos'), (1, 0.9410089728445324, 'pos'), (1, 0.9458845688881418, 'pos'), (1, 0.9445152839630078, 'pos'), (1, 0.9403155742939775, 'pos'), (0, 0.947115643211946, 'neg'), (1, 0.9283442713224979, 'pos'), (1, 0.9509397344179462, 'pos'), (1, 0.9216337151546362, 'pos'), (0, 0.9135570468346395, 'neg'), (1, 0.981508038304446, 'pos'), (1, 0.9697543120897318, 'pos'), (1, 0.9634158165695386, 'pos'), (1, 0.9490298959433252, 'pos'), (0, 0.9, 'confuse'), (1, 0.9376222731935171, 'pos'), (0, 0.947115643211946, 'neg'), (1, 0.9512395631739861, 'pos'), (1, 0.923950770934006, 'pos'), (0, 0.947115643211946, 'neg'), (1, 0.9583467309397662, 'pos'), (1, 0.9215390774361957, 'pos'), (1, 0.9677707554693352, 'pos'), (0, 0.9, 'confuse'), (1, 0.9180353543598496, 'pos'), (1, 0.9206121554615099, 'pos'), (0, 0.947115643211946, 'neg'), (1, 0.967090905072671, 'pos'), (1, 0.9583424347881572, 'pos'), (1, 0.9581115381511918, 'pos'), (1, 0.8541490473668754, 'pos'), (1, 0.9627936570022483, 'pos'), (1, 0.9546530239664047, 'pos'), (1, 0.5199660514290423, 'confuse'), (1, 0.8891271519474154, 'pos'), (1, 0.9550195761742796, 'pos'), (1, 0.9757560909624449, 'pos'), (1, 0.9298831904902609, 'pos'), (1, 0.9445047300799849, 'pos'), (1, 0.9530969755843938, 'pos'), (1, 0.9169687416540976, 'pos'), (1, 0.9572415200806267, 'pos'), (1, 0.9282643502338335, 'pos'), (1, 0.932478857953642, 'pos'), (1, 0.9523288529885445, 'pos'), (1, 0.8526888260629232, 'pos'), (1, 0.9625227173013222, 'pos'), (1, 0.9339676233670817, 'pos'), (1, 0.9803255433588335, 'pos'), (1, 0.975046331141457, 'pos'), (1, 0.9783119850423436, 'pos'), (0, 0.947115643211946, 'neg'), (1, 0.9647642779744793, 'pos'), (1, 0.939991874306339, 'pos'), (1, 0.9302216113772379, 'pos'), (1, 0.9581516589062037, 'pos'), (1, 0.9855147800474502, 'pos'), (1, 0.9557343463398154, 'pos'), (1, 0.910808083368349, 'pos'), (1, 0.9551515448086603, 'pos'), (1, 0.9816032984276012, 'pos'), (1, 0.963711335219174, 'pos'), (1, 0.8487625700438908, 'pos'), (1, 0.9348831174277347, 'pos'), (1, 0.9594793521589567, 'pos'), (0, 0.9, 'confuse'), (1, 0.918459883537788, 'pos'), (1, 0.925454304195752, 'pos'), (0, 0.9135570468346395, 'neg'), (1, 0.9224925775586028, 'pos'), (1, 0.9806256351754697, 'pos'), (0, 0.947115643211946, 'neg'), (0, 0.9, 'confuse'), (1, 0.9610291457935954, 'pos'), (1, 0.9888932695975404, 'pos'), (1, 0.951704138266711, 'pos'), (0, 0.9135570468346395, 'neg'), (0, 0.9, 'confuse'), (1, 0.9608482086280186, 'pos'), (1, 0.9878242107773334, 'pos'), (1, 0.9510565785089451, 'pos'), (0, 0.947115643211946, 'neg'), (1, 0.9664117295421872, 'pos'), (1, 0.9237176605670154, 'pos'), (0, 0.908491010110915, 'neg'), (1, 0.9425536543569855, 'pos'), (0, 0.9, 'confuse'), (1, 0.9453490200657356, 'pos'), (1, 0.9483432265232846, 'pos'), (1, 0.9346347392755, 'pos'), (1, 0.5651749297179958, 'confuse'), (0, 0.908491010110915, 'neg'), (1, 0.9311052592818141, 'pos'), (1, 0.9093944185403122, 'pos'), (1, 0.9817577164547501, 'pos'), (1, 0.9464313868174734, 'pos'), (1, 0.916491684341079, 'pos'), (1, 0.9373546334478273, 'pos'), (1, 0.8616822527338774, 'pos'), (1, 0.9472132959372406, 'pos'), (1, 0.8850711805391441, 'pos'), (1, 0.9350799349567545, 'pos'), (1, 0.9659285827778245, 'pos'), (0, 0.947115643211946, 'neg'), (1, 0.9700727430443603, 'pos'), (1, 0.9601681631432664, 'pos'), (1, 0.9454581450951309, 'pos'), (0, 0.9135570468346395, 'neg'), (1, 0.9613520492122072, 'pos'), (1, 0.9091890326445826, 'pos'), (1, 0.5308603680758122, 'confuse'), (1, 0.8936923990873332, 'pos'), (1, 0.9569432763205026, 'pos'), (1, 0.9557093087735951, 'pos'), (1, 0.960782639534625, 'pos'), (1, 0.9199070417269659, 'pos'), (1, 0.971222695770836, 'pos'), (0, 0.947115643211946, 'neg'), (1, 0.9088825834666618, 'pos'), (0, 0.947115643211946, 'neg'), (1, 0.9515011836214239, 'pos'), (0, 0.9, 'confuse'), (1, 0.9037912894401231, 'pos'), (1, 0.9704245361053164, 'pos'), (0, 0.947115643211946, 'neg'), (1, 0.9724881967885064, 'pos'), (1, 0.9382457093263762, 'pos'), (1, 0.9095758472161364, 'pos'), (1, 0.9818875446958293, 'pos'), (0, 0.9, 'confuse'), (1, 0.9598751259332721, 'pos'), (1, 0.9557250491083824, 'pos'), (0, 0.9407326871143705, 'neg'), (1, 0.936942688687078, 'pos'), (1, 0.9747133989332278, 'pos'), (1, 0.9057697142402447, 'pos'), (1, 0.9676850022601702, 'pos'), (1, 0.8580495960005999, 'pos'), (1, 0.8514529341348218, 'pos'), (1, 0.9643012975545229, 'pos'), (1, 0.9122387790636963, 'pos'), (1, 0.9576431796469362, 'pos'), (0, 0.947115643211946, 'neg'), (1, 0.9719987037630407, 'pos'), (1, 0.9468361844237659, 'pos'), (0, 0.9263229176007236, 'neg'), (1, 0.9667253541418941, 'pos'), (1, 0.968330435154745, 'pos'), (1, 0.9884756484562873, 'pos'), (1, 0.8823626927738722, 'pos'), (0, 0.947115643211946, 'neg'), (1, 0.9505712610714394, 'pos'), (0, 0.9258829052017932, 'neg'), (1, 0.9247738556991933, 'pos'), (1, 0.9728847064905679, 'pos'), (1, 0.8867674847563277, 'pos'), (1, 0.9422656622657607, 'pos'), (1, 0.9016190351017267, 'pos'), (0, 0.947115643211946, 'neg'), (1, 0.9342224137116663, 'pos'), (1, 0.9200378014165789, 'pos'), (0, 0.947115643211946, 'neg'), (1, 0.9185784848449521, 'pos'), (1, 0.9645050954075133, 'pos'), (0, 0.9135570468346395, 'neg'), (0, 0.9135570468346395, 'neg'), (0, 0.947115643211946, 'neg'), (1, 0.9562567142118773, 'pos'), (0, 0.9, 'confuse'), (0, 0.9057225192500221, 'neg'), (1, 0.9295775223023345, 'pos'), (1, 0.972759043849792, 'pos'), (0, 0.9, 'confuse'), (1, 0.8840113242858362, 'pos'), (1, 0.9230050373775613, 'pos'), (1, 0.9635896859003663, 'pos'), (1, 0.9734231593195449, 'pos'), (1, 0.9681539004284005, 'pos'), (0, 0.947115643211946, 'neg'), (1, 0.9655985080399752, 'pos'), (1, 0.9364744685862902, 'pos'), (0, 0.9, 'confuse'), (0, 0.9, 'confuse'), (1, 0.9696550123698524, 'pos'), (1, 0.9863565232290279, 'pos'), (1, 0.91838275029904, 'pos'), (1, 0.9590824544257014, 'pos'), (1, 0.9551700805062341, 'pos'), (1, 0.8933969155294363, 'pos'), (0, 0.9, 'confuse'), (1, 0.8670824746149137, 'pos'), (0, 0.9135570468346395, 'neg'), (1, 0.9361869454700109, 'pos'), (1, 0.9410016755385364, 'pos'), (1, 0.8454639751343841, 'pos'), (1, 0.9673211719525534, 'pos'), (1, 0.9484603219618817, 'pos'), (1, 0.9278365985289726, 'pos'), (1, 0.9478580537687902, 'pos'), (0, 0.9, 'confuse'), (1, 0.9047404665903811, 'pos'), (1, 0.9320702614033596, 'pos'), (1, 0.9796615731712315, 'pos'), (1, 0.946957037787454, 'pos'), (0, 0.947115643211946, 'neg'), (0, 0.9381721780149984, 'neg'), (1, 0.9433471063008254, 'pos'), (1, 0.9544015109520343, 'pos'), (1, 0.96187787244038, 'pos'), (1, 0.9166944777327023, 'pos'), (1, 0.9499530669940917, 'pos'), (1, 0.91903113934404, 'pos'), (1, 0.9831809993071433, 'pos'), (0, 0.947115643211946, 'neg'), (1, 0.9468417968445394, 'pos'), (1, 0.976553078874003, 'pos'), (1, 0.8983860561871175, 'pos'), (1, 0.8608433857322666, 'pos'), (0, 0.947115643211946, 'neg'), (1, 0.9820796610198617, 'pos'), (0, 0.9, 'confuse'), (1, 0.9537673765382555, 'pos'), (1, 0.9670929164735635, 'pos'), (1, 0.9042187691586827, 'pos'), (1, 0.8937606812865028, 'pos'), (1, 0.6175871699888599, 'confuse'), (1, 0.916327925429323, 'pos'), (1, 0.9545373518501291, 'pos'), (1, 0.9674628089902839, 'pos'), (1, 0.544405328893193, 'confuse'), (0, 0.9, 'confuse'), (0, 0.9025179869918046, 'neg'), (1, 0.9648752539940926, 'pos'), (1, 0.5088360084898983, 'confuse'), (1, 0.9660138441350711, 'pos'), (1, 0.9208500873187017, 'pos'), (1, 0.9684897158727814, 'pos'), (1, 0.975960499990588, 'pos'), (0, 0.9, 'confuse'), (1, 0.8553826662869237, 'pos'), (0, 0.9, 'confuse'), (1, 0.9759378107394113, 'pos'), (0, 0.9135570468346395, 'neg'), (1, 0.976690098521218, 'pos'), (1, 0.9183669402552317, 'pos'), (1, 0.9789168689293486, 'pos'), (1, 0.9053373209142638, 'pos'), (1, 0.942252948806566, 'pos'), (1, 0.8765477370308241, 'pos'), (1, 0.9732464042646859, 'pos'), (1, 0.9408334559112215, 'pos'), (1, 0.9290049908790732, 'pos'), (1, 0.9283933976006697, 'pos'), (1, 0.5646346605232322, 'confuse'), (0, 0.947115643211946, 'neg'), (1, 0.9076702672997422, 'pos'), (1, 0.9854388684431296, 'pos'), (1, 0.5176072358043375, 'confuse'), (0, 0.9, 'confuse'), (1, 0.8994093939374987, 'pos'), (0, 0.947115643211946, 'neg'), (1, 0.898864257910977, 'pos'), (0, 0.947115643211946, 'neg'), (1, 0.9672423505296139, 'pos'), (1, 0.9617375326492474, 'pos'), (1, 0.9870569288883576, 'pos'), (1, 0.5525251355496196, 'confuse'), (1, 0.9320900951079711, 'pos'), (0, 0.9, 'confuse'), (1, 0.8972819080578635, 'pos'), (1, 0.9532093864175055, 'pos'), (0, 0.9025179869918046, 'neg'), (1, 0.9225805784298217, 'pos'), (1, 0.9071643918944355, 'pos'), (0, 0.9, 'confuse'), (0, 0.947115643211946, 'neg'), (1, 0.9586261035729512, 'pos'), (1, 0.9668867647941284, 'pos'), (1, 0.9808177827110173, 'pos'), (1, 0.9659874740533052, 'pos'), (0, 0.9, 'confuse'), (0, 0.947115643211946, 'neg'), (1, 0.5208365510721671, 'confuse'), (1, 0.9550055750476842, 'pos'), (1, 0.9280103205008412, 'pos'), (1, 0.9485342869632538, 'pos'), (0, 0.9, 'confuse'), (1, 0.9516738270504199, 'pos'), (1, 0.925561398258545, 'pos'), (0, 0.947115643211946, 'neg'), (1, 0.9652324963102838, 'pos'), (1, 0.9462303912583427, 'pos'), (1, 0.9550685852520419, 'pos'), (1, 0.9890955920916535, 'pos'), (1, 0.9723987855123415, 'pos'), (1, 0.9536629706299614, 'pos'), (1, 0.9378763397793687, 'pos'), (1, 0.9760833012028016, 'pos'), (0, 0.947115643211946, 'neg'), (1, 0.9344806655152447, 'pos'), (1, 0.9501545011041479, 'pos'), (1, 0.9823402409217546, 'pos'), (0, 0.9, 'confuse'), (1, 0.9494941608459179, 'pos'), (1, 0.9477713665013994, 'pos'), (1, 0.9656975687949467, 'pos'), (1, 0.9561148222562984, 'pos'), (1, 0.9255223942264564, 'pos'), (1, 0.944741932552548, 'pos'), (0, 0.947115643211946, 'neg'), (1, 0.9344706091451684, 'pos'), (1, 0.9688557877067282, 'pos'), (0, 0.947115643211946, 'neg'), (1, 0.9309447292029475, 'pos'), (0, 0.9048990222176992, 'neg'), (1, 0.5078898954033599, 'confuse'), (1, 0.9332877152278586, 'pos'), (1, 0.9451524984227875, 'pos'), (1, 0.9485180402111437, 'pos'), (1, 0.8983538373684835, 'pos'), (1, 0.9771400437860255, 'pos'), (1, 0.8543245330815183, 'pos'), (1, 0.9220266506157916, 'pos'), (0, 0.9, 'confuse'), (1, 0.9726932763716846, 'pos'), (1, 0.9513674521446646, 'pos'), (1, 0.8845407955007829, 'pos'), (1, 0.961509062269833, 'pos'), (1, 0.9658056960474954, 'pos'), (1, 0.9749451703850379, 'pos'), (1, 0.5641086664280235, 'confuse'), (1, 0.9437153072521449, 'pos'), (1, 0.966705603727344, 'pos'), (1, 0.9222378162242613, 'pos'), (1, 0.9271801013796658, 'pos'), (1, 0.9633668639375159, 'pos'), (0, 0.947115643211946, 'neg'), (1, 0.9128200779794582, 'pos'), (1, 0.8640324459743625, 'pos'), (1, 0.9156993116055879, 'pos'), (1, 0.8541779895788573, 'pos'), (1, 0.9216508805485795, 'pos'), (0, 0.9, 'confuse'), (1, 0.9592739980439102, 'pos'), (1, 0.935607900564263, 'pos'), (1, 0.9871782972107486, 'pos'), (1, 0.9530976820258944, 'pos'), (0, 0.9381721780149984, 'neg'), (1, 0.9335596322394608, 'pos')]\n"
          ]
        }
      ]
    },
    {
      "cell_type": "code",
      "source": [
        "new_y_pred = []\n",
        "new_y_pred_1 = []\n",
        "new_y_pred_2 = []\n",
        "new_y_test = []\n",
        "for i, p in enumerate(y):\n",
        "  if str(p[2]) == str('confuse'):\n",
        "    continue \n",
        "  # print(p)\n",
        "  # print(i)\n",
        "  new_y_pred.append(p[0])\n",
        "  new_y_pred_1.append(p[1])\n",
        "  new_y_pred_2.append(p[2])\n",
        "  new_y_test.append(y_test.values[i])"
      ],
      "metadata": {
        "id": "4WZWZzd9-6tk"
      },
      "execution_count": 13,
      "outputs": []
    },
    {
      "cell_type": "code",
      "source": [
        "y_pred_score = []\n",
        "# Tính score\n",
        "for i in range(0, len(new_y_pred)):\n",
        "  if str(new_y_pred_2[i]) == str('pos'):\n",
        "    y_pred_score.append(new_y_pred_1[i]*1000)\n",
        "  elif str(new_y_pred_2[i]) == str('neg'):\n",
        "    y_pred_score.append((1 - new_y_pred_1[i])*1000)"
      ],
      "metadata": {
        "id": "qQuiolkg-9CB"
      },
      "execution_count": 14,
      "outputs": []
    },
    {
      "cell_type": "markdown",
      "source": [
        "**Calulator score in station \"confuse\"**"
      ],
      "metadata": {
        "id": "b64ECZ1WEAp7"
      }
    },
    {
      "cell_type": "code",
      "source": [
        "y_pred_score_confuse = []\n",
        "for i in range(0,len(y)):\n",
        "  if str(y[i][2]) == str('confuse'):\n",
        "    if y[i][0] == 1:\n",
        "      y_pred_score_confuse.append(y[i][1] * 1000)\n",
        "    else:\n",
        "       y_pred_score_confuse.append((1 - y[i][1]) * 1000)"
      ],
      "metadata": {
        "id": "dC87DGFdD-_m"
      },
      "execution_count": 18,
      "outputs": []
    },
    {
      "cell_type": "code",
      "source": [
        "y_pred_score_confuse"
      ],
      "metadata": {
        "id": "hpJL2BH-ELqk"
      },
      "execution_count": null,
      "outputs": []
    },
    {
      "cell_type": "markdown",
      "source": [
        "**Plot distribute score**"
      ],
      "metadata": {
        "id": "Yi2y-eaKNlb-"
      }
    },
    {
      "cell_type": "code",
      "source": [
        "y_score_total = []\n",
        "\n",
        "for i in range(0, len(y_pred_score_confuse)):\n",
        "  y_score_total.append(y_pred_score_confuse[i])\n",
        "\n",
        "for i in range(0, len(y_pred_score)):\n",
        "  y_score_total.append(y_pred_score[i])"
      ],
      "metadata": {
        "id": "w-jmOQbpNzPr"
      },
      "execution_count": 21,
      "outputs": []
    },
    {
      "cell_type": "code",
      "source": [
        "y_score_total_DF = pd.DataFrame(y_score_total, columns=['Score'])"
      ],
      "metadata": {
        "id": "mRQdT02XN44Z"
      },
      "execution_count": 22,
      "outputs": []
    },
    {
      "cell_type": "code",
      "source": [
        "y_score_total_DF_1 = y_score_total_DF[0:3060]\n",
        "y_score_total_DF_1"
      ],
      "metadata": {
        "colab": {
          "base_uri": "https://localhost:8080/",
          "height": 424
        },
        "id": "9820iL33N14Z",
        "outputId": "d2e825a6-7c88-4cf5-f511-4e06556802d4"
      },
      "execution_count": 23,
      "outputs": [
        {
          "output_type": "execute_result",
          "data": {
            "text/html": [
              "\n",
              "  <div id=\"df-56f53db4-0839-4cdb-9233-e2356ed365f7\">\n",
              "    <div class=\"colab-df-container\">\n",
              "      <div>\n",
              "<style scoped>\n",
              "    .dataframe tbody tr th:only-of-type {\n",
              "        vertical-align: middle;\n",
              "    }\n",
              "\n",
              "    .dataframe tbody tr th {\n",
              "        vertical-align: top;\n",
              "    }\n",
              "\n",
              "    .dataframe thead th {\n",
              "        text-align: right;\n",
              "    }\n",
              "</style>\n",
              "<table border=\"1\" class=\"dataframe\">\n",
              "  <thead>\n",
              "    <tr style=\"text-align: right;\">\n",
              "      <th></th>\n",
              "      <th>Score</th>\n",
              "    </tr>\n",
              "  </thead>\n",
              "  <tbody>\n",
              "    <tr>\n",
              "      <th>0</th>\n",
              "      <td>100.000000</td>\n",
              "    </tr>\n",
              "    <tr>\n",
              "      <th>1</th>\n",
              "      <td>100.000000</td>\n",
              "    </tr>\n",
              "    <tr>\n",
              "      <th>2</th>\n",
              "      <td>100.000000</td>\n",
              "    </tr>\n",
              "    <tr>\n",
              "      <th>3</th>\n",
              "      <td>100.000000</td>\n",
              "    </tr>\n",
              "    <tr>\n",
              "      <th>4</th>\n",
              "      <td>100.000000</td>\n",
              "    </tr>\n",
              "    <tr>\n",
              "      <th>...</th>\n",
              "      <td>...</td>\n",
              "    </tr>\n",
              "    <tr>\n",
              "      <th>3055</th>\n",
              "      <td>935.607901</td>\n",
              "    </tr>\n",
              "    <tr>\n",
              "      <th>3056</th>\n",
              "      <td>987.178297</td>\n",
              "    </tr>\n",
              "    <tr>\n",
              "      <th>3057</th>\n",
              "      <td>953.097682</td>\n",
              "    </tr>\n",
              "    <tr>\n",
              "      <th>3058</th>\n",
              "      <td>61.827822</td>\n",
              "    </tr>\n",
              "    <tr>\n",
              "      <th>3059</th>\n",
              "      <td>933.559632</td>\n",
              "    </tr>\n",
              "  </tbody>\n",
              "</table>\n",
              "<p>3060 rows × 1 columns</p>\n",
              "</div>\n",
              "      <button class=\"colab-df-convert\" onclick=\"convertToInteractive('df-56f53db4-0839-4cdb-9233-e2356ed365f7')\"\n",
              "              title=\"Convert this dataframe to an interactive table.\"\n",
              "              style=\"display:none;\">\n",
              "        \n",
              "  <svg xmlns=\"http://www.w3.org/2000/svg\" height=\"24px\"viewBox=\"0 0 24 24\"\n",
              "       width=\"24px\">\n",
              "    <path d=\"M0 0h24v24H0V0z\" fill=\"none\"/>\n",
              "    <path d=\"M18.56 5.44l.94 2.06.94-2.06 2.06-.94-2.06-.94-.94-2.06-.94 2.06-2.06.94zm-11 1L8.5 8.5l.94-2.06 2.06-.94-2.06-.94L8.5 2.5l-.94 2.06-2.06.94zm10 10l.94 2.06.94-2.06 2.06-.94-2.06-.94-.94-2.06-.94 2.06-2.06.94z\"/><path d=\"M17.41 7.96l-1.37-1.37c-.4-.4-.92-.59-1.43-.59-.52 0-1.04.2-1.43.59L10.3 9.45l-7.72 7.72c-.78.78-.78 2.05 0 2.83L4 21.41c.39.39.9.59 1.41.59.51 0 1.02-.2 1.41-.59l7.78-7.78 2.81-2.81c.8-.78.8-2.07 0-2.86zM5.41 20L4 18.59l7.72-7.72 1.47 1.35L5.41 20z\"/>\n",
              "  </svg>\n",
              "      </button>\n",
              "      \n",
              "  <style>\n",
              "    .colab-df-container {\n",
              "      display:flex;\n",
              "      flex-wrap:wrap;\n",
              "      gap: 12px;\n",
              "    }\n",
              "\n",
              "    .colab-df-convert {\n",
              "      background-color: #E8F0FE;\n",
              "      border: none;\n",
              "      border-radius: 50%;\n",
              "      cursor: pointer;\n",
              "      display: none;\n",
              "      fill: #1967D2;\n",
              "      height: 32px;\n",
              "      padding: 0 0 0 0;\n",
              "      width: 32px;\n",
              "    }\n",
              "\n",
              "    .colab-df-convert:hover {\n",
              "      background-color: #E2EBFA;\n",
              "      box-shadow: 0px 1px 2px rgba(60, 64, 67, 0.3), 0px 1px 3px 1px rgba(60, 64, 67, 0.15);\n",
              "      fill: #174EA6;\n",
              "    }\n",
              "\n",
              "    [theme=dark] .colab-df-convert {\n",
              "      background-color: #3B4455;\n",
              "      fill: #D2E3FC;\n",
              "    }\n",
              "\n",
              "    [theme=dark] .colab-df-convert:hover {\n",
              "      background-color: #434B5C;\n",
              "      box-shadow: 0px 1px 3px 1px rgba(0, 0, 0, 0.15);\n",
              "      filter: drop-shadow(0px 1px 2px rgba(0, 0, 0, 0.3));\n",
              "      fill: #FFFFFF;\n",
              "    }\n",
              "  </style>\n",
              "\n",
              "      <script>\n",
              "        const buttonEl =\n",
              "          document.querySelector('#df-56f53db4-0839-4cdb-9233-e2356ed365f7 button.colab-df-convert');\n",
              "        buttonEl.style.display =\n",
              "          google.colab.kernel.accessAllowed ? 'block' : 'none';\n",
              "\n",
              "        async function convertToInteractive(key) {\n",
              "          const element = document.querySelector('#df-56f53db4-0839-4cdb-9233-e2356ed365f7');\n",
              "          const dataTable =\n",
              "            await google.colab.kernel.invokeFunction('convertToInteractive',\n",
              "                                                     [key], {});\n",
              "          if (!dataTable) return;\n",
              "\n",
              "          const docLinkHtml = 'Like what you see? Visit the ' +\n",
              "            '<a target=\"_blank\" href=https://colab.research.google.com/notebooks/data_table.ipynb>data table notebook</a>'\n",
              "            + ' to learn more about interactive tables.';\n",
              "          element.innerHTML = '';\n",
              "          dataTable['output_type'] = 'display_data';\n",
              "          await google.colab.output.renderOutput(dataTable, element);\n",
              "          const docLink = document.createElement('div');\n",
              "          docLink.innerHTML = docLinkHtml;\n",
              "          element.appendChild(docLink);\n",
              "        }\n",
              "      </script>\n",
              "    </div>\n",
              "  </div>\n",
              "  "
            ],
            "text/plain": [
              "           Score\n",
              "0     100.000000\n",
              "1     100.000000\n",
              "2     100.000000\n",
              "3     100.000000\n",
              "4     100.000000\n",
              "...          ...\n",
              "3055  935.607901\n",
              "3056  987.178297\n",
              "3057  953.097682\n",
              "3058   61.827822\n",
              "3059  933.559632\n",
              "\n",
              "[3060 rows x 1 columns]"
            ]
          },
          "metadata": {},
          "execution_count": 23
        }
      ]
    },
    {
      "cell_type": "code",
      "source": [
        "sns.distplot(y_score_total_DF_1['Score'], color=\"blue\", label=\"Điểm\")\n",
        "plt.title('Biểu đồ phân bố điểm')\n",
        "plt.xlabel(\"Điểm\")\n",
        "plt.ylabel(\"Tỉ lệ (%)\")\n",
        "plt.legend();"
      ],
      "metadata": {
        "colab": {
          "base_uri": "https://localhost:8080/",
          "height": 623
        },
        "id": "jDywFmslNjql",
        "outputId": "ba8b2d7c-594b-4066-e332-31b065904c85"
      },
      "execution_count": 24,
      "outputs": [
        {
          "output_type": "stream",
          "name": "stderr",
          "text": [
            "/usr/local/lib/python3.7/dist-packages/seaborn/distributions.py:2619: FutureWarning: `distplot` is a deprecated function and will be removed in a future version. Please adapt your code to use either `displot` (a figure-level function with similar flexibility) or `histplot` (an axes-level function for histograms).\n",
            "  warnings.warn(msg, FutureWarning)\n"
          ]
        },
        {
          "output_type": "display_data",
          "data": {
            "image/png": "[encoded data removed]",
            "text/plain": [
              "<Figure size 1152x648 with 1 Axes>"
            ]
          },
          "metadata": {
            "needs_background": "light"
          }
        }
      ]
    },
    {
      "cell_type": "markdown",
      "source": [
        "**evaluate model**"
      ],
      "metadata": {
        "id": "xmn8ydRqAw0T"
      }
    },
    {
      "cell_type": "code",
      "source": [
        "from sklearn import metrics\n",
        "fpr, tpr, _ = metrics.roc_curve(new_y_test, y_pred_score)\n",
        "auc = metrics.roc_auc_score(new_y_test, y_pred_score)\n",
        "plt.plot(fpr, tpr, label=\"auc=\" + str(auc))\n",
        "plt.xlabel(\"FPR\")\n",
        "plt.ylabel(\"TPR\")\n",
        "plt.legend(loc=4)\n",
        "plt.show()"
      ],
      "metadata": {
        "colab": {
          "base_uri": "https://localhost:8080/",
          "height": 551
        },
        "id": "6mbXDUvF-_5L",
        "outputId": "4da17ff1-5d88-4b07-aacc-c004a559b30a"
      },
      "execution_count": 15,
      "outputs": [
        {
          "output_type": "display_data",
          "data": {
            "image/png": "[encoded data removed]",
            "text/plain": [
              "<Figure size 1152x648 with 1 Axes>"
            ]
          },
          "metadata": {
            "needs_background": "light"
          }
        }
      ]
    },
    {
      "cell_type": "code",
      "source": [
        "print(\"Các chỉ số đánh giá mức độ hiệu quả của mô hình: \")\n",
        "#Accuracy\n",
        "print(\"1. Accuracy:\",accuracy_score(new_y_test, new_y_pred))\n",
        "# confusion_matrix\n",
        "print('2. confusion_matrix:')\n",
        "print(confusion_matrix(new_y_test, new_y_pred))\n",
        "# recall_score\n",
        "print('3. recall_score: ', recall_score(new_y_test, new_y_pred))\n",
        "# precision_score\n",
        "print('4. precision_score: ', precision_score(new_y_test, new_y_pred))\n",
        "# f1_score\n",
        "print('5. f1_score: ', f1_score(new_y_test, new_y_pred))"
      ],
      "metadata": {
        "colab": {
          "base_uri": "https://localhost:8080/"
        },
        "id": "E5NV1EUN_Dn0",
        "outputId": "45ad3a94-c1d5-4914-ce33-bbcd59fa85d3"
      },
      "execution_count": 16,
      "outputs": [
        {
          "output_type": "stream",
          "name": "stdout",
          "text": [
            "Các chỉ số đánh giá mức độ hiệu quả của mô hình: \n",
            "1. Accuracy: 0.8428057553956835\n",
            "2. confusion_matrix:\n",
            "[[ 239  255]\n",
            " [ 182 2104]]\n",
            "3. recall_score:  0.9203849518810149\n",
            "4. precision_score:  0.8919033488766427\n",
            "5. f1_score:  0.9059203444564048\n"
          ]
        }
      ]
    }
  ]
}